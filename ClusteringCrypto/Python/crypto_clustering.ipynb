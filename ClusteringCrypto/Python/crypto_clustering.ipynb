{
 "cells": [
  {
   "cell_type": "markdown",
   "source": [
    "# Clustering Crypto"
   ],
   "metadata": {}
  },
  {
   "cell_type": "code",
   "execution_count": 203,
   "source": [
    "# Initial imports\r\n",
    "import requests\r\n",
    "import pandas as pd\r\n",
    "import matplotlib.pyplot as plt\r\n",
    "import hvplot.pandas\r\n",
    "import plotly.express as px\r\n",
    "from sklearn.preprocessing import StandardScaler, MinMaxScaler\r\n",
    "from sklearn.decomposition import PCA\r\n",
    "from sklearn.cluster import KMeans"
   ],
   "outputs": [],
   "metadata": {}
  },
  {
   "cell_type": "markdown",
   "source": [
    "### Fetching Cryptocurrency Data"
   ],
   "metadata": {}
  },
  {
   "cell_type": "code",
   "execution_count": 204,
   "source": [
    "# Use the following endpoint to fetch json data\r\n",
    "url = \"https://min-api.cryptocompare.com/data/all/coinlist\"\r\n",
    "response = requests.get(url).json()"
   ],
   "outputs": [],
   "metadata": {}
  },
  {
   "cell_type": "code",
   "execution_count": 205,
   "source": [
    "# Create a DataFrame \r\n",
    "# HINT: You will need to use the 'Data' key from the json response, then transpose the DataFrame.\r\n",
    "crypto_df = pd.DataFrame(response['Data']).T\r\n",
    "crypto_df.columns"
   ],
   "outputs": [
    {
     "output_type": "execute_result",
     "data": {
      "text/plain": [
       "Index(['Id', 'Url', 'ImageUrl', 'ContentCreatedOn', 'Name', 'Symbol',\n",
       "       'CoinName', 'FullName', 'Description', 'AssetTokenStatus', 'Algorithm',\n",
       "       'ProofType', 'SortOrder', 'Sponsored', 'Taxonomy', 'Rating',\n",
       "       'IsTrading', 'TotalCoinsMined', 'CirculatingSupply', 'BlockNumber',\n",
       "       'NetHashesPerSecond', 'BlockReward', 'BlockTime', 'AssetLaunchDate',\n",
       "       'AssetWhitepaperUrl', 'AssetWebsiteUrl', 'MaxSupply', 'MktCapPenalty',\n",
       "       'IsUsedInDefi', 'IsUsedInNft', 'PlatformType', 'BuiltOn',\n",
       "       'SmartContractAddress', 'DecimalPoints', 'Difficulty', 'AlgorithmType'],\n",
       "      dtype='object')"
      ]
     },
     "metadata": {},
     "execution_count": 205
    }
   ],
   "metadata": {}
  },
  {
   "cell_type": "code",
   "execution_count": 206,
   "source": [
    "# Alternatively, use the provided csv file:\r\n",
    "from pathlib import Path\r\n",
    "file_path = Path(\"../Data/crypto_data.csv\")\r\n",
    "\r\n",
    "# Create a DataFrame\r\n",
    "crypto_df_CSV = pd.read_csv(file_path)\r\n",
    "crypto_df_CSV.head()"
   ],
   "outputs": [
    {
     "output_type": "execute_result",
     "data": {
      "text/plain": [
       "  Unnamed: 0   CoinName Algorithm  IsTrading ProofType  TotalCoinsMined  \\\n",
       "0         42    42 Coin    Scrypt       True   PoW/PoS     4.199995e+01   \n",
       "1        365    365Coin       X11       True   PoW/PoS              NaN   \n",
       "2        404    404Coin    Scrypt       True   PoW/PoS     1.055185e+09   \n",
       "3        611  SixEleven   SHA-256       True       PoW              NaN   \n",
       "4        808        808   SHA-256       True   PoW/PoS     0.000000e+00   \n",
       "\n",
       "  TotalCoinSupply  \n",
       "0              42  \n",
       "1      2300000000  \n",
       "2       532000000  \n",
       "3          611000  \n",
       "4               0  "
      ],
      "text/html": [
       "<div>\n",
       "<style scoped>\n",
       "    .dataframe tbody tr th:only-of-type {\n",
       "        vertical-align: middle;\n",
       "    }\n",
       "\n",
       "    .dataframe tbody tr th {\n",
       "        vertical-align: top;\n",
       "    }\n",
       "\n",
       "    .dataframe thead th {\n",
       "        text-align: right;\n",
       "    }\n",
       "</style>\n",
       "<table border=\"1\" class=\"dataframe\">\n",
       "  <thead>\n",
       "    <tr style=\"text-align: right;\">\n",
       "      <th></th>\n",
       "      <th>Unnamed: 0</th>\n",
       "      <th>CoinName</th>\n",
       "      <th>Algorithm</th>\n",
       "      <th>IsTrading</th>\n",
       "      <th>ProofType</th>\n",
       "      <th>TotalCoinsMined</th>\n",
       "      <th>TotalCoinSupply</th>\n",
       "    </tr>\n",
       "  </thead>\n",
       "  <tbody>\n",
       "    <tr>\n",
       "      <th>0</th>\n",
       "      <td>42</td>\n",
       "      <td>42 Coin</td>\n",
       "      <td>Scrypt</td>\n",
       "      <td>True</td>\n",
       "      <td>PoW/PoS</td>\n",
       "      <td>4.199995e+01</td>\n",
       "      <td>42</td>\n",
       "    </tr>\n",
       "    <tr>\n",
       "      <th>1</th>\n",
       "      <td>365</td>\n",
       "      <td>365Coin</td>\n",
       "      <td>X11</td>\n",
       "      <td>True</td>\n",
       "      <td>PoW/PoS</td>\n",
       "      <td>NaN</td>\n",
       "      <td>2300000000</td>\n",
       "    </tr>\n",
       "    <tr>\n",
       "      <th>2</th>\n",
       "      <td>404</td>\n",
       "      <td>404Coin</td>\n",
       "      <td>Scrypt</td>\n",
       "      <td>True</td>\n",
       "      <td>PoW/PoS</td>\n",
       "      <td>1.055185e+09</td>\n",
       "      <td>532000000</td>\n",
       "    </tr>\n",
       "    <tr>\n",
       "      <th>3</th>\n",
       "      <td>611</td>\n",
       "      <td>SixEleven</td>\n",
       "      <td>SHA-256</td>\n",
       "      <td>True</td>\n",
       "      <td>PoW</td>\n",
       "      <td>NaN</td>\n",
       "      <td>611000</td>\n",
       "    </tr>\n",
       "    <tr>\n",
       "      <th>4</th>\n",
       "      <td>808</td>\n",
       "      <td>808</td>\n",
       "      <td>SHA-256</td>\n",
       "      <td>True</td>\n",
       "      <td>PoW/PoS</td>\n",
       "      <td>0.000000e+00</td>\n",
       "      <td>0</td>\n",
       "    </tr>\n",
       "  </tbody>\n",
       "</table>\n",
       "</div>"
      ]
     },
     "metadata": {},
     "execution_count": 206
    }
   ],
   "metadata": {}
  },
  {
   "cell_type": "markdown",
   "source": [
    "### Data Preprocessing"
   ],
   "metadata": {}
  },
  {
   "cell_type": "code",
   "execution_count": 207,
   "source": [
    "# Keep only necessary columns:\r\n",
    "# 'CoinName','Algorithm','IsTrading','ProofType','TotalCoinsMined','TotalCoinSupply'\r\n",
    "stripped_crypto_df = crypto_df[['CoinName','Algorithm','IsTrading','ProofType','TotalCoinsMined','MaxSupply']]\r\n",
    "stripped_crypto_df.head()"
   ],
   "outputs": [
    {
     "output_type": "execute_result",
     "data": {
      "text/plain": [
       "      CoinName Algorithm IsTrading ProofType TotalCoinsMined MaxSupply\n",
       "42     42 Coin    Scrypt      True   PoW/PoS               0         0\n",
       "300  300 token       N/A      True       N/A             300       300\n",
       "365    365Coin       X11      True   PoW/PoS               0         0\n",
       "404    404Coin    Scrypt      True   PoW/PoS               0         0\n",
       "433  433 Token       N/A     False       N/A             NaN       NaN"
      ],
      "text/html": [
       "<div>\n",
       "<style scoped>\n",
       "    .dataframe tbody tr th:only-of-type {\n",
       "        vertical-align: middle;\n",
       "    }\n",
       "\n",
       "    .dataframe tbody tr th {\n",
       "        vertical-align: top;\n",
       "    }\n",
       "\n",
       "    .dataframe thead th {\n",
       "        text-align: right;\n",
       "    }\n",
       "</style>\n",
       "<table border=\"1\" class=\"dataframe\">\n",
       "  <thead>\n",
       "    <tr style=\"text-align: right;\">\n",
       "      <th></th>\n",
       "      <th>CoinName</th>\n",
       "      <th>Algorithm</th>\n",
       "      <th>IsTrading</th>\n",
       "      <th>ProofType</th>\n",
       "      <th>TotalCoinsMined</th>\n",
       "      <th>MaxSupply</th>\n",
       "    </tr>\n",
       "  </thead>\n",
       "  <tbody>\n",
       "    <tr>\n",
       "      <th>42</th>\n",
       "      <td>42 Coin</td>\n",
       "      <td>Scrypt</td>\n",
       "      <td>True</td>\n",
       "      <td>PoW/PoS</td>\n",
       "      <td>0</td>\n",
       "      <td>0</td>\n",
       "    </tr>\n",
       "    <tr>\n",
       "      <th>300</th>\n",
       "      <td>300 token</td>\n",
       "      <td>N/A</td>\n",
       "      <td>True</td>\n",
       "      <td>N/A</td>\n",
       "      <td>300</td>\n",
       "      <td>300</td>\n",
       "    </tr>\n",
       "    <tr>\n",
       "      <th>365</th>\n",
       "      <td>365Coin</td>\n",
       "      <td>X11</td>\n",
       "      <td>True</td>\n",
       "      <td>PoW/PoS</td>\n",
       "      <td>0</td>\n",
       "      <td>0</td>\n",
       "    </tr>\n",
       "    <tr>\n",
       "      <th>404</th>\n",
       "      <td>404Coin</td>\n",
       "      <td>Scrypt</td>\n",
       "      <td>True</td>\n",
       "      <td>PoW/PoS</td>\n",
       "      <td>0</td>\n",
       "      <td>0</td>\n",
       "    </tr>\n",
       "    <tr>\n",
       "      <th>433</th>\n",
       "      <td>433 Token</td>\n",
       "      <td>N/A</td>\n",
       "      <td>False</td>\n",
       "      <td>N/A</td>\n",
       "      <td>NaN</td>\n",
       "      <td>NaN</td>\n",
       "    </tr>\n",
       "  </tbody>\n",
       "</table>\n",
       "</div>"
      ]
     },
     "metadata": {},
     "execution_count": 207
    }
   ],
   "metadata": {}
  },
  {
   "cell_type": "code",
   "execution_count": 208,
   "source": [
    "# Keep only cryptocurrencies that are trading\r\n",
    "stripped_crypto_df = stripped_crypto_df.loc[stripped_crypto_df['IsTrading'] == True]\r\n",
    "stripped_crypto_df.head()"
   ],
   "outputs": [
    {
     "output_type": "execute_result",
     "data": {
      "text/plain": [
       "      CoinName Algorithm IsTrading ProofType TotalCoinsMined MaxSupply\n",
       "42     42 Coin    Scrypt      True   PoW/PoS               0         0\n",
       "300  300 token       N/A      True       N/A             300       300\n",
       "365    365Coin       X11      True   PoW/PoS               0         0\n",
       "404    404Coin    Scrypt      True   PoW/PoS               0         0\n",
       "611  SixEleven   SHA-256      True       PoW               0         0"
      ],
      "text/html": [
       "<div>\n",
       "<style scoped>\n",
       "    .dataframe tbody tr th:only-of-type {\n",
       "        vertical-align: middle;\n",
       "    }\n",
       "\n",
       "    .dataframe tbody tr th {\n",
       "        vertical-align: top;\n",
       "    }\n",
       "\n",
       "    .dataframe thead th {\n",
       "        text-align: right;\n",
       "    }\n",
       "</style>\n",
       "<table border=\"1\" class=\"dataframe\">\n",
       "  <thead>\n",
       "    <tr style=\"text-align: right;\">\n",
       "      <th></th>\n",
       "      <th>CoinName</th>\n",
       "      <th>Algorithm</th>\n",
       "      <th>IsTrading</th>\n",
       "      <th>ProofType</th>\n",
       "      <th>TotalCoinsMined</th>\n",
       "      <th>MaxSupply</th>\n",
       "    </tr>\n",
       "  </thead>\n",
       "  <tbody>\n",
       "    <tr>\n",
       "      <th>42</th>\n",
       "      <td>42 Coin</td>\n",
       "      <td>Scrypt</td>\n",
       "      <td>True</td>\n",
       "      <td>PoW/PoS</td>\n",
       "      <td>0</td>\n",
       "      <td>0</td>\n",
       "    </tr>\n",
       "    <tr>\n",
       "      <th>300</th>\n",
       "      <td>300 token</td>\n",
       "      <td>N/A</td>\n",
       "      <td>True</td>\n",
       "      <td>N/A</td>\n",
       "      <td>300</td>\n",
       "      <td>300</td>\n",
       "    </tr>\n",
       "    <tr>\n",
       "      <th>365</th>\n",
       "      <td>365Coin</td>\n",
       "      <td>X11</td>\n",
       "      <td>True</td>\n",
       "      <td>PoW/PoS</td>\n",
       "      <td>0</td>\n",
       "      <td>0</td>\n",
       "    </tr>\n",
       "    <tr>\n",
       "      <th>404</th>\n",
       "      <td>404Coin</td>\n",
       "      <td>Scrypt</td>\n",
       "      <td>True</td>\n",
       "      <td>PoW/PoS</td>\n",
       "      <td>0</td>\n",
       "      <td>0</td>\n",
       "    </tr>\n",
       "    <tr>\n",
       "      <th>611</th>\n",
       "      <td>SixEleven</td>\n",
       "      <td>SHA-256</td>\n",
       "      <td>True</td>\n",
       "      <td>PoW</td>\n",
       "      <td>0</td>\n",
       "      <td>0</td>\n",
       "    </tr>\n",
       "  </tbody>\n",
       "</table>\n",
       "</div>"
      ]
     },
     "metadata": {},
     "execution_count": 208
    }
   ],
   "metadata": {}
  },
  {
   "cell_type": "code",
   "execution_count": 209,
   "source": [
    "# Keep only cryptocurrencies with a working algorithm\r\n",
    "stripped_crypto_df = stripped_crypto_df[stripped_crypto_df['Algorithm'] != 'N/A']\r\n",
    "stripped_crypto_df"
   ],
   "outputs": [
    {
     "output_type": "execute_result",
     "data": {
      "text/plain": [
       "          CoinName Algorithm IsTrading ProofType TotalCoinsMined MaxSupply\n",
       "42         42 Coin    Scrypt      True   PoW/PoS               0         0\n",
       "365        365Coin       X11      True   PoW/PoS               0         0\n",
       "404        404Coin    Scrypt      True   PoW/PoS               0         0\n",
       "611      SixEleven   SHA-256      True       PoW               0         0\n",
       "808            808   SHA-256      True   PoW/PoS               0         0\n",
       "...            ...       ...       ...       ...             ...       ...\n",
       "YAYCOIN    YAYcoin    Scrypt      True   PoW/PoS             NaN       NaN\n",
       "ACTIN     Actinium    Lyra2Z      True       PoW             NaN       NaN\n",
       "RDD       Reddcoin    Scrypt      True   PoW/PoS     3.04122e+10        -1\n",
       "GRIN          Grin       C31      True       PoW     7.73372e+07        -1\n",
       "KLC       KiloCoin    Scrypt      True       PoW             NaN       NaN\n",
       "\n",
       "[1544 rows x 6 columns]"
      ],
      "text/html": [
       "<div>\n",
       "<style scoped>\n",
       "    .dataframe tbody tr th:only-of-type {\n",
       "        vertical-align: middle;\n",
       "    }\n",
       "\n",
       "    .dataframe tbody tr th {\n",
       "        vertical-align: top;\n",
       "    }\n",
       "\n",
       "    .dataframe thead th {\n",
       "        text-align: right;\n",
       "    }\n",
       "</style>\n",
       "<table border=\"1\" class=\"dataframe\">\n",
       "  <thead>\n",
       "    <tr style=\"text-align: right;\">\n",
       "      <th></th>\n",
       "      <th>CoinName</th>\n",
       "      <th>Algorithm</th>\n",
       "      <th>IsTrading</th>\n",
       "      <th>ProofType</th>\n",
       "      <th>TotalCoinsMined</th>\n",
       "      <th>MaxSupply</th>\n",
       "    </tr>\n",
       "  </thead>\n",
       "  <tbody>\n",
       "    <tr>\n",
       "      <th>42</th>\n",
       "      <td>42 Coin</td>\n",
       "      <td>Scrypt</td>\n",
       "      <td>True</td>\n",
       "      <td>PoW/PoS</td>\n",
       "      <td>0</td>\n",
       "      <td>0</td>\n",
       "    </tr>\n",
       "    <tr>\n",
       "      <th>365</th>\n",
       "      <td>365Coin</td>\n",
       "      <td>X11</td>\n",
       "      <td>True</td>\n",
       "      <td>PoW/PoS</td>\n",
       "      <td>0</td>\n",
       "      <td>0</td>\n",
       "    </tr>\n",
       "    <tr>\n",
       "      <th>404</th>\n",
       "      <td>404Coin</td>\n",
       "      <td>Scrypt</td>\n",
       "      <td>True</td>\n",
       "      <td>PoW/PoS</td>\n",
       "      <td>0</td>\n",
       "      <td>0</td>\n",
       "    </tr>\n",
       "    <tr>\n",
       "      <th>611</th>\n",
       "      <td>SixEleven</td>\n",
       "      <td>SHA-256</td>\n",
       "      <td>True</td>\n",
       "      <td>PoW</td>\n",
       "      <td>0</td>\n",
       "      <td>0</td>\n",
       "    </tr>\n",
       "    <tr>\n",
       "      <th>808</th>\n",
       "      <td>808</td>\n",
       "      <td>SHA-256</td>\n",
       "      <td>True</td>\n",
       "      <td>PoW/PoS</td>\n",
       "      <td>0</td>\n",
       "      <td>0</td>\n",
       "    </tr>\n",
       "    <tr>\n",
       "      <th>...</th>\n",
       "      <td>...</td>\n",
       "      <td>...</td>\n",
       "      <td>...</td>\n",
       "      <td>...</td>\n",
       "      <td>...</td>\n",
       "      <td>...</td>\n",
       "    </tr>\n",
       "    <tr>\n",
       "      <th>YAYCOIN</th>\n",
       "      <td>YAYcoin</td>\n",
       "      <td>Scrypt</td>\n",
       "      <td>True</td>\n",
       "      <td>PoW/PoS</td>\n",
       "      <td>NaN</td>\n",
       "      <td>NaN</td>\n",
       "    </tr>\n",
       "    <tr>\n",
       "      <th>ACTIN</th>\n",
       "      <td>Actinium</td>\n",
       "      <td>Lyra2Z</td>\n",
       "      <td>True</td>\n",
       "      <td>PoW</td>\n",
       "      <td>NaN</td>\n",
       "      <td>NaN</td>\n",
       "    </tr>\n",
       "    <tr>\n",
       "      <th>RDD</th>\n",
       "      <td>Reddcoin</td>\n",
       "      <td>Scrypt</td>\n",
       "      <td>True</td>\n",
       "      <td>PoW/PoS</td>\n",
       "      <td>3.04122e+10</td>\n",
       "      <td>-1</td>\n",
       "    </tr>\n",
       "    <tr>\n",
       "      <th>GRIN</th>\n",
       "      <td>Grin</td>\n",
       "      <td>C31</td>\n",
       "      <td>True</td>\n",
       "      <td>PoW</td>\n",
       "      <td>7.73372e+07</td>\n",
       "      <td>-1</td>\n",
       "    </tr>\n",
       "    <tr>\n",
       "      <th>KLC</th>\n",
       "      <td>KiloCoin</td>\n",
       "      <td>Scrypt</td>\n",
       "      <td>True</td>\n",
       "      <td>PoW</td>\n",
       "      <td>NaN</td>\n",
       "      <td>NaN</td>\n",
       "    </tr>\n",
       "  </tbody>\n",
       "</table>\n",
       "<p>1544 rows × 6 columns</p>\n",
       "</div>"
      ]
     },
     "metadata": {},
     "execution_count": 209
    }
   ],
   "metadata": {}
  },
  {
   "cell_type": "code",
   "execution_count": 210,
   "source": [
    "# Remove the \"IsTrading\" column\r\n",
    "stripped_crypto_df = stripped_crypto_df.drop('IsTrading', axis=1)\r\n",
    "stripped_crypto_df.head()"
   ],
   "outputs": [
    {
     "output_type": "execute_result",
     "data": {
      "text/plain": [
       "      CoinName Algorithm ProofType TotalCoinsMined MaxSupply\n",
       "42     42 Coin    Scrypt   PoW/PoS               0         0\n",
       "365    365Coin       X11   PoW/PoS               0         0\n",
       "404    404Coin    Scrypt   PoW/PoS               0         0\n",
       "611  SixEleven   SHA-256       PoW               0         0\n",
       "808        808   SHA-256   PoW/PoS               0         0"
      ],
      "text/html": [
       "<div>\n",
       "<style scoped>\n",
       "    .dataframe tbody tr th:only-of-type {\n",
       "        vertical-align: middle;\n",
       "    }\n",
       "\n",
       "    .dataframe tbody tr th {\n",
       "        vertical-align: top;\n",
       "    }\n",
       "\n",
       "    .dataframe thead th {\n",
       "        text-align: right;\n",
       "    }\n",
       "</style>\n",
       "<table border=\"1\" class=\"dataframe\">\n",
       "  <thead>\n",
       "    <tr style=\"text-align: right;\">\n",
       "      <th></th>\n",
       "      <th>CoinName</th>\n",
       "      <th>Algorithm</th>\n",
       "      <th>ProofType</th>\n",
       "      <th>TotalCoinsMined</th>\n",
       "      <th>MaxSupply</th>\n",
       "    </tr>\n",
       "  </thead>\n",
       "  <tbody>\n",
       "    <tr>\n",
       "      <th>42</th>\n",
       "      <td>42 Coin</td>\n",
       "      <td>Scrypt</td>\n",
       "      <td>PoW/PoS</td>\n",
       "      <td>0</td>\n",
       "      <td>0</td>\n",
       "    </tr>\n",
       "    <tr>\n",
       "      <th>365</th>\n",
       "      <td>365Coin</td>\n",
       "      <td>X11</td>\n",
       "      <td>PoW/PoS</td>\n",
       "      <td>0</td>\n",
       "      <td>0</td>\n",
       "    </tr>\n",
       "    <tr>\n",
       "      <th>404</th>\n",
       "      <td>404Coin</td>\n",
       "      <td>Scrypt</td>\n",
       "      <td>PoW/PoS</td>\n",
       "      <td>0</td>\n",
       "      <td>0</td>\n",
       "    </tr>\n",
       "    <tr>\n",
       "      <th>611</th>\n",
       "      <td>SixEleven</td>\n",
       "      <td>SHA-256</td>\n",
       "      <td>PoW</td>\n",
       "      <td>0</td>\n",
       "      <td>0</td>\n",
       "    </tr>\n",
       "    <tr>\n",
       "      <th>808</th>\n",
       "      <td>808</td>\n",
       "      <td>SHA-256</td>\n",
       "      <td>PoW/PoS</td>\n",
       "      <td>0</td>\n",
       "      <td>0</td>\n",
       "    </tr>\n",
       "  </tbody>\n",
       "</table>\n",
       "</div>"
      ]
     },
     "metadata": {},
     "execution_count": 210
    }
   ],
   "metadata": {}
  },
  {
   "cell_type": "code",
   "execution_count": 211,
   "source": [
    "# Remove rows with at least 1 null value\r\n",
    "stripped_crypto_df = stripped_crypto_df.dropna()\r\n",
    "stripped_crypto_df.head()"
   ],
   "outputs": [
    {
     "output_type": "execute_result",
     "data": {
      "text/plain": [
       "      CoinName Algorithm ProofType TotalCoinsMined MaxSupply\n",
       "42     42 Coin    Scrypt   PoW/PoS               0         0\n",
       "365    365Coin       X11   PoW/PoS               0         0\n",
       "404    404Coin    Scrypt   PoW/PoS               0         0\n",
       "611  SixEleven   SHA-256       PoW               0         0\n",
       "808        808   SHA-256   PoW/PoS               0         0"
      ],
      "text/html": [
       "<div>\n",
       "<style scoped>\n",
       "    .dataframe tbody tr th:only-of-type {\n",
       "        vertical-align: middle;\n",
       "    }\n",
       "\n",
       "    .dataframe tbody tr th {\n",
       "        vertical-align: top;\n",
       "    }\n",
       "\n",
       "    .dataframe thead th {\n",
       "        text-align: right;\n",
       "    }\n",
       "</style>\n",
       "<table border=\"1\" class=\"dataframe\">\n",
       "  <thead>\n",
       "    <tr style=\"text-align: right;\">\n",
       "      <th></th>\n",
       "      <th>CoinName</th>\n",
       "      <th>Algorithm</th>\n",
       "      <th>ProofType</th>\n",
       "      <th>TotalCoinsMined</th>\n",
       "      <th>MaxSupply</th>\n",
       "    </tr>\n",
       "  </thead>\n",
       "  <tbody>\n",
       "    <tr>\n",
       "      <th>42</th>\n",
       "      <td>42 Coin</td>\n",
       "      <td>Scrypt</td>\n",
       "      <td>PoW/PoS</td>\n",
       "      <td>0</td>\n",
       "      <td>0</td>\n",
       "    </tr>\n",
       "    <tr>\n",
       "      <th>365</th>\n",
       "      <td>365Coin</td>\n",
       "      <td>X11</td>\n",
       "      <td>PoW/PoS</td>\n",
       "      <td>0</td>\n",
       "      <td>0</td>\n",
       "    </tr>\n",
       "    <tr>\n",
       "      <th>404</th>\n",
       "      <td>404Coin</td>\n",
       "      <td>Scrypt</td>\n",
       "      <td>PoW/PoS</td>\n",
       "      <td>0</td>\n",
       "      <td>0</td>\n",
       "    </tr>\n",
       "    <tr>\n",
       "      <th>611</th>\n",
       "      <td>SixEleven</td>\n",
       "      <td>SHA-256</td>\n",
       "      <td>PoW</td>\n",
       "      <td>0</td>\n",
       "      <td>0</td>\n",
       "    </tr>\n",
       "    <tr>\n",
       "      <th>808</th>\n",
       "      <td>808</td>\n",
       "      <td>SHA-256</td>\n",
       "      <td>PoW/PoS</td>\n",
       "      <td>0</td>\n",
       "      <td>0</td>\n",
       "    </tr>\n",
       "  </tbody>\n",
       "</table>\n",
       "</div>"
      ]
     },
     "metadata": {},
     "execution_count": 211
    }
   ],
   "metadata": {}
  },
  {
   "cell_type": "code",
   "execution_count": 212,
   "source": [
    "# Remove rows with cryptocurrencies having no coins mined\r\n",
    "stripped_crypto_df = stripped_crypto_df.loc[stripped_crypto_df['TotalCoinsMined'] > 0]\r\n",
    "stripped_crypto_df.head()"
   ],
   "outputs": [
    {
     "output_type": "execute_result",
     "data": {
      "text/plain": [
       "               CoinName Algorithm ProofType TotalCoinsMined MaxSupply\n",
       "NVC            NovaCoin    Scrypt   PoW/PoS     3.37986e+06        -1\n",
       "NSR            NuShares       PoS       PoS      6.1634e+09         0\n",
       "MONA           MonaCoin    Scrypt       PoW     8.29127e+07        -1\n",
       "TRI      Triangles Coin       X13   PoW/PoS          185362         0\n",
       "SAFEX  SafeExchangeCoin    Scrypt       PoC      2147483647        -1"
      ],
      "text/html": [
       "<div>\n",
       "<style scoped>\n",
       "    .dataframe tbody tr th:only-of-type {\n",
       "        vertical-align: middle;\n",
       "    }\n",
       "\n",
       "    .dataframe tbody tr th {\n",
       "        vertical-align: top;\n",
       "    }\n",
       "\n",
       "    .dataframe thead th {\n",
       "        text-align: right;\n",
       "    }\n",
       "</style>\n",
       "<table border=\"1\" class=\"dataframe\">\n",
       "  <thead>\n",
       "    <tr style=\"text-align: right;\">\n",
       "      <th></th>\n",
       "      <th>CoinName</th>\n",
       "      <th>Algorithm</th>\n",
       "      <th>ProofType</th>\n",
       "      <th>TotalCoinsMined</th>\n",
       "      <th>MaxSupply</th>\n",
       "    </tr>\n",
       "  </thead>\n",
       "  <tbody>\n",
       "    <tr>\n",
       "      <th>NVC</th>\n",
       "      <td>NovaCoin</td>\n",
       "      <td>Scrypt</td>\n",
       "      <td>PoW/PoS</td>\n",
       "      <td>3.37986e+06</td>\n",
       "      <td>-1</td>\n",
       "    </tr>\n",
       "    <tr>\n",
       "      <th>NSR</th>\n",
       "      <td>NuShares</td>\n",
       "      <td>PoS</td>\n",
       "      <td>PoS</td>\n",
       "      <td>6.1634e+09</td>\n",
       "      <td>0</td>\n",
       "    </tr>\n",
       "    <tr>\n",
       "      <th>MONA</th>\n",
       "      <td>MonaCoin</td>\n",
       "      <td>Scrypt</td>\n",
       "      <td>PoW</td>\n",
       "      <td>8.29127e+07</td>\n",
       "      <td>-1</td>\n",
       "    </tr>\n",
       "    <tr>\n",
       "      <th>TRI</th>\n",
       "      <td>Triangles Coin</td>\n",
       "      <td>X13</td>\n",
       "      <td>PoW/PoS</td>\n",
       "      <td>185362</td>\n",
       "      <td>0</td>\n",
       "    </tr>\n",
       "    <tr>\n",
       "      <th>SAFEX</th>\n",
       "      <td>SafeExchangeCoin</td>\n",
       "      <td>Scrypt</td>\n",
       "      <td>PoC</td>\n",
       "      <td>2147483647</td>\n",
       "      <td>-1</td>\n",
       "    </tr>\n",
       "  </tbody>\n",
       "</table>\n",
       "</div>"
      ]
     },
     "metadata": {},
     "execution_count": 212
    }
   ],
   "metadata": {}
  },
  {
   "cell_type": "code",
   "execution_count": 213,
   "source": [
    "# Drop rows where there are 'N/A' text values\r\n",
    "stripped_crypto_df = stripped_crypto_df.drop(stripped_crypto_df[stripped_crypto_df.values == 'N/A'].index)\r\n",
    "stripped_crypto_df"
   ],
   "outputs": [
    {
     "output_type": "execute_result",
     "data": {
      "text/plain": [
       "               CoinName      Algorithm ProofType TotalCoinsMined  MaxSupply\n",
       "NVC            NovaCoin         Scrypt   PoW/PoS     3.37986e+06         -1\n",
       "NSR            NuShares            PoS       PoS      6.1634e+09          0\n",
       "MONA           MonaCoin         Scrypt       PoW     8.29127e+07         -1\n",
       "TRI      Triangles Coin            X13   PoW/PoS          185362          0\n",
       "SAFEX  SafeExchangeCoin         Scrypt       PoC      2147483647         -1\n",
       "...                 ...            ...       ...             ...        ...\n",
       "AION               Aion  Equihash210,9   PoW/PoS       495239558         -1\n",
       "ACT              Achain           DPoS      DPoS      1000000000          0\n",
       "ETC    Ethereum Classic        EtcHash       PoW     1.28113e+08  210700000\n",
       "RDD            Reddcoin         Scrypt   PoW/PoS     3.04122e+10         -1\n",
       "GRIN               Grin            C31       PoW     7.73372e+07         -1\n",
       "\n",
       "[123 rows x 5 columns]"
      ],
      "text/html": [
       "<div>\n",
       "<style scoped>\n",
       "    .dataframe tbody tr th:only-of-type {\n",
       "        vertical-align: middle;\n",
       "    }\n",
       "\n",
       "    .dataframe tbody tr th {\n",
       "        vertical-align: top;\n",
       "    }\n",
       "\n",
       "    .dataframe thead th {\n",
       "        text-align: right;\n",
       "    }\n",
       "</style>\n",
       "<table border=\"1\" class=\"dataframe\">\n",
       "  <thead>\n",
       "    <tr style=\"text-align: right;\">\n",
       "      <th></th>\n",
       "      <th>CoinName</th>\n",
       "      <th>Algorithm</th>\n",
       "      <th>ProofType</th>\n",
       "      <th>TotalCoinsMined</th>\n",
       "      <th>MaxSupply</th>\n",
       "    </tr>\n",
       "  </thead>\n",
       "  <tbody>\n",
       "    <tr>\n",
       "      <th>NVC</th>\n",
       "      <td>NovaCoin</td>\n",
       "      <td>Scrypt</td>\n",
       "      <td>PoW/PoS</td>\n",
       "      <td>3.37986e+06</td>\n",
       "      <td>-1</td>\n",
       "    </tr>\n",
       "    <tr>\n",
       "      <th>NSR</th>\n",
       "      <td>NuShares</td>\n",
       "      <td>PoS</td>\n",
       "      <td>PoS</td>\n",
       "      <td>6.1634e+09</td>\n",
       "      <td>0</td>\n",
       "    </tr>\n",
       "    <tr>\n",
       "      <th>MONA</th>\n",
       "      <td>MonaCoin</td>\n",
       "      <td>Scrypt</td>\n",
       "      <td>PoW</td>\n",
       "      <td>8.29127e+07</td>\n",
       "      <td>-1</td>\n",
       "    </tr>\n",
       "    <tr>\n",
       "      <th>TRI</th>\n",
       "      <td>Triangles Coin</td>\n",
       "      <td>X13</td>\n",
       "      <td>PoW/PoS</td>\n",
       "      <td>185362</td>\n",
       "      <td>0</td>\n",
       "    </tr>\n",
       "    <tr>\n",
       "      <th>SAFEX</th>\n",
       "      <td>SafeExchangeCoin</td>\n",
       "      <td>Scrypt</td>\n",
       "      <td>PoC</td>\n",
       "      <td>2147483647</td>\n",
       "      <td>-1</td>\n",
       "    </tr>\n",
       "    <tr>\n",
       "      <th>...</th>\n",
       "      <td>...</td>\n",
       "      <td>...</td>\n",
       "      <td>...</td>\n",
       "      <td>...</td>\n",
       "      <td>...</td>\n",
       "    </tr>\n",
       "    <tr>\n",
       "      <th>AION</th>\n",
       "      <td>Aion</td>\n",
       "      <td>Equihash210,9</td>\n",
       "      <td>PoW/PoS</td>\n",
       "      <td>495239558</td>\n",
       "      <td>-1</td>\n",
       "    </tr>\n",
       "    <tr>\n",
       "      <th>ACT</th>\n",
       "      <td>Achain</td>\n",
       "      <td>DPoS</td>\n",
       "      <td>DPoS</td>\n",
       "      <td>1000000000</td>\n",
       "      <td>0</td>\n",
       "    </tr>\n",
       "    <tr>\n",
       "      <th>ETC</th>\n",
       "      <td>Ethereum Classic</td>\n",
       "      <td>EtcHash</td>\n",
       "      <td>PoW</td>\n",
       "      <td>1.28113e+08</td>\n",
       "      <td>210700000</td>\n",
       "    </tr>\n",
       "    <tr>\n",
       "      <th>RDD</th>\n",
       "      <td>Reddcoin</td>\n",
       "      <td>Scrypt</td>\n",
       "      <td>PoW/PoS</td>\n",
       "      <td>3.04122e+10</td>\n",
       "      <td>-1</td>\n",
       "    </tr>\n",
       "    <tr>\n",
       "      <th>GRIN</th>\n",
       "      <td>Grin</td>\n",
       "      <td>C31</td>\n",
       "      <td>PoW</td>\n",
       "      <td>7.73372e+07</td>\n",
       "      <td>-1</td>\n",
       "    </tr>\n",
       "  </tbody>\n",
       "</table>\n",
       "<p>123 rows × 5 columns</p>\n",
       "</div>"
      ]
     },
     "metadata": {},
     "execution_count": 213
    }
   ],
   "metadata": {}
  },
  {
   "cell_type": "code",
   "execution_count": 214,
   "source": [
    "# Store the 'CoinName'column in its own DataFrame prior to dropping it from crypto_df\r\n",
    "coin_name_df = stripped_crypto_df['CoinName'].to_frame()\r\n",
    "coin_name_df"
   ],
   "outputs": [
    {
     "output_type": "execute_result",
     "data": {
      "text/plain": [
       "               CoinName\n",
       "NVC            NovaCoin\n",
       "NSR            NuShares\n",
       "MONA           MonaCoin\n",
       "TRI      Triangles Coin\n",
       "SAFEX  SafeExchangeCoin\n",
       "...                 ...\n",
       "AION               Aion\n",
       "ACT              Achain\n",
       "ETC    Ethereum Classic\n",
       "RDD            Reddcoin\n",
       "GRIN               Grin\n",
       "\n",
       "[123 rows x 1 columns]"
      ],
      "text/html": [
       "<div>\n",
       "<style scoped>\n",
       "    .dataframe tbody tr th:only-of-type {\n",
       "        vertical-align: middle;\n",
       "    }\n",
       "\n",
       "    .dataframe tbody tr th {\n",
       "        vertical-align: top;\n",
       "    }\n",
       "\n",
       "    .dataframe thead th {\n",
       "        text-align: right;\n",
       "    }\n",
       "</style>\n",
       "<table border=\"1\" class=\"dataframe\">\n",
       "  <thead>\n",
       "    <tr style=\"text-align: right;\">\n",
       "      <th></th>\n",
       "      <th>CoinName</th>\n",
       "    </tr>\n",
       "  </thead>\n",
       "  <tbody>\n",
       "    <tr>\n",
       "      <th>NVC</th>\n",
       "      <td>NovaCoin</td>\n",
       "    </tr>\n",
       "    <tr>\n",
       "      <th>NSR</th>\n",
       "      <td>NuShares</td>\n",
       "    </tr>\n",
       "    <tr>\n",
       "      <th>MONA</th>\n",
       "      <td>MonaCoin</td>\n",
       "    </tr>\n",
       "    <tr>\n",
       "      <th>TRI</th>\n",
       "      <td>Triangles Coin</td>\n",
       "    </tr>\n",
       "    <tr>\n",
       "      <th>SAFEX</th>\n",
       "      <td>SafeExchangeCoin</td>\n",
       "    </tr>\n",
       "    <tr>\n",
       "      <th>...</th>\n",
       "      <td>...</td>\n",
       "    </tr>\n",
       "    <tr>\n",
       "      <th>AION</th>\n",
       "      <td>Aion</td>\n",
       "    </tr>\n",
       "    <tr>\n",
       "      <th>ACT</th>\n",
       "      <td>Achain</td>\n",
       "    </tr>\n",
       "    <tr>\n",
       "      <th>ETC</th>\n",
       "      <td>Ethereum Classic</td>\n",
       "    </tr>\n",
       "    <tr>\n",
       "      <th>RDD</th>\n",
       "      <td>Reddcoin</td>\n",
       "    </tr>\n",
       "    <tr>\n",
       "      <th>GRIN</th>\n",
       "      <td>Grin</td>\n",
       "    </tr>\n",
       "  </tbody>\n",
       "</table>\n",
       "<p>123 rows × 1 columns</p>\n",
       "</div>"
      ]
     },
     "metadata": {},
     "execution_count": 214
    }
   ],
   "metadata": {}
  },
  {
   "cell_type": "code",
   "execution_count": 215,
   "source": [
    "# Drop the 'CoinName' column since it's not going to be used on the clustering algorithm\r\n",
    "stripped_crypto_df = stripped_crypto_df.drop('CoinName', axis=1)\r\n",
    "stripped_crypto_df.head()"
   ],
   "outputs": [
    {
     "output_type": "execute_result",
     "data": {
      "text/plain": [
       "      Algorithm ProofType TotalCoinsMined MaxSupply\n",
       "NVC      Scrypt   PoW/PoS     3.37986e+06        -1\n",
       "NSR         PoS       PoS      6.1634e+09         0\n",
       "MONA     Scrypt       PoW     8.29127e+07        -1\n",
       "TRI         X13   PoW/PoS          185362         0\n",
       "SAFEX    Scrypt       PoC      2147483647        -1"
      ],
      "text/html": [
       "<div>\n",
       "<style scoped>\n",
       "    .dataframe tbody tr th:only-of-type {\n",
       "        vertical-align: middle;\n",
       "    }\n",
       "\n",
       "    .dataframe tbody tr th {\n",
       "        vertical-align: top;\n",
       "    }\n",
       "\n",
       "    .dataframe thead th {\n",
       "        text-align: right;\n",
       "    }\n",
       "</style>\n",
       "<table border=\"1\" class=\"dataframe\">\n",
       "  <thead>\n",
       "    <tr style=\"text-align: right;\">\n",
       "      <th></th>\n",
       "      <th>Algorithm</th>\n",
       "      <th>ProofType</th>\n",
       "      <th>TotalCoinsMined</th>\n",
       "      <th>MaxSupply</th>\n",
       "    </tr>\n",
       "  </thead>\n",
       "  <tbody>\n",
       "    <tr>\n",
       "      <th>NVC</th>\n",
       "      <td>Scrypt</td>\n",
       "      <td>PoW/PoS</td>\n",
       "      <td>3.37986e+06</td>\n",
       "      <td>-1</td>\n",
       "    </tr>\n",
       "    <tr>\n",
       "      <th>NSR</th>\n",
       "      <td>PoS</td>\n",
       "      <td>PoS</td>\n",
       "      <td>6.1634e+09</td>\n",
       "      <td>0</td>\n",
       "    </tr>\n",
       "    <tr>\n",
       "      <th>MONA</th>\n",
       "      <td>Scrypt</td>\n",
       "      <td>PoW</td>\n",
       "      <td>8.29127e+07</td>\n",
       "      <td>-1</td>\n",
       "    </tr>\n",
       "    <tr>\n",
       "      <th>TRI</th>\n",
       "      <td>X13</td>\n",
       "      <td>PoW/PoS</td>\n",
       "      <td>185362</td>\n",
       "      <td>0</td>\n",
       "    </tr>\n",
       "    <tr>\n",
       "      <th>SAFEX</th>\n",
       "      <td>Scrypt</td>\n",
       "      <td>PoC</td>\n",
       "      <td>2147483647</td>\n",
       "      <td>-1</td>\n",
       "    </tr>\n",
       "  </tbody>\n",
       "</table>\n",
       "</div>"
      ]
     },
     "metadata": {},
     "execution_count": 215
    }
   ],
   "metadata": {}
  },
  {
   "cell_type": "code",
   "execution_count": 216,
   "source": [
    "# Create dummy variables for text features\r\n",
    "dummy_crypto_df = pd.get_dummies(stripped_crypto_df)"
   ],
   "outputs": [],
   "metadata": {}
  },
  {
   "cell_type": "code",
   "execution_count": 217,
   "source": [
    "# Standardize data\r\n",
    "scaled_crypto_df = StandardScaler().fit_transform(dummy_crypto_df)"
   ],
   "outputs": [],
   "metadata": {}
  },
  {
   "cell_type": "markdown",
   "source": [
    "### Reducing Dimensions Using PCA"
   ],
   "metadata": {}
  },
  {
   "cell_type": "code",
   "execution_count": 218,
   "source": [
    "# Use PCA to reduce dimensions to 3 principal components\r\n",
    "pca = PCA(n_components=3)"
   ],
   "outputs": [],
   "metadata": {}
  },
  {
   "cell_type": "code",
   "execution_count": 219,
   "source": [
    "# Create a DataFrame with the principal components data\r\n",
    "pca_crypto_df = pd.DataFrame(pca.fit_transform(scaled_crypto_df), columns=['PC1', 'PC2', 'PC3'])"
   ],
   "outputs": [],
   "metadata": {}
  },
  {
   "cell_type": "markdown",
   "source": [
    "### Clustering Crytocurrencies Using K-Means\n",
    "\n",
    "#### Find the Best Value for `k` Using the Elbow Curve"
   ],
   "metadata": {}
  },
  {
   "cell_type": "code",
   "execution_count": 220,
   "source": [
    "inertia = []\r\n",
    "k = list(range(1, 11))\r\n",
    "\r\n",
    "# Calculate the inertia for the range of k values\r\n",
    "for i in k:\r\n",
    "    kmeans = KMeans(n_clusters=i, random_state=42)\r\n",
    "    kmeans.fit(pca_crypto_df)\r\n",
    "    inertia.append(kmeans.inertia_)\r\n",
    "\r\n",
    "# Create the Elbow Curve using hvPlot\r\n",
    "data = {'k': k, 'inertia': inertia}\r\n",
    "elbow_df = pd.DataFrame(data)\r\n",
    "elbow_df.hvplot.line(x='k', y='inertia', xticks=k)"
   ],
   "outputs": [
    {
     "output_type": "stream",
     "name": "stderr",
     "text": [
      "C:\\Users\\ayres\\miniconda3\\envs\\machineLearning\\lib\\site-packages\\sklearn\\cluster\\_kmeans.py:882: UserWarning:\n",
      "\n",
      "KMeans is known to have a memory leak on Windows with MKL, when there are less chunks than available threads. You can avoid it by setting the environment variable OMP_NUM_THREADS=1.\n",
      "\n"
     ]
    },
    {
     "output_type": "display_data",
     "data": {},
     "metadata": {}
    },
    {
     "output_type": "execute_result",
     "data": {
      "application/vnd.holoviews_exec.v0+json": "",
      "text/plain": [
       ":Curve   [k]   (inertia)"
      ],
      "text/html": [
       "<div id='1821'>\n",
       "\n",
       "\n",
       "\n",
       "\n",
       "\n",
       "  <div class=\"bk-root\" id=\"2cc4fe5f-82d8-4043-8507-7efdcab58fcb\" data-root-id=\"1821\"></div>\n",
       "</div>\n",
       "<script type=\"application/javascript\">(function(root) {\n",
       "  function embed_document(root) {\n",
       "  var docs_json = {\"4070ca05-a6cd-4b3a-8139-3dab3c47fac1\":{\"roots\":{\"references\":[{\"attributes\":{\"callback\":null,\"renderers\":[{\"id\":\"1862\"}],\"tags\":[\"hv_created\"],\"tooltips\":[[\"k\",\"@{k}\"],[\"inertia\",\"@{inertia}\"]]},\"id\":\"1825\",\"type\":\"HoverTool\"},{\"attributes\":{},\"id\":\"1831\",\"type\":\"LinearScale\"},{\"attributes\":{},\"id\":\"1843\",\"type\":\"SaveTool\"},{\"attributes\":{\"bottom_units\":\"screen\",\"fill_alpha\":0.5,\"fill_color\":\"lightgrey\",\"left_units\":\"screen\",\"level\":\"overlay\",\"line_alpha\":1.0,\"line_color\":\"black\",\"line_dash\":[4,4],\"line_width\":2,\"render_mode\":\"css\",\"right_units\":\"screen\",\"top_units\":\"screen\"},\"id\":\"1848\",\"type\":\"BoxAnnotation\"},{\"attributes\":{\"margin\":[5,5,5,5],\"name\":\"HSpacer03249\",\"sizing_mode\":\"stretch_width\"},\"id\":\"1822\",\"type\":\"Spacer\"},{\"attributes\":{\"line_alpha\":0.2,\"line_color\":\"#1f77b3\",\"line_width\":2,\"x\":{\"field\":\"k\"},\"y\":{\"field\":\"inertia\"}},\"id\":\"1861\",\"type\":\"Line\"},{\"attributes\":{},\"id\":\"1840\",\"type\":\"BasicTicker\"},{\"attributes\":{},\"id\":\"1877\",\"type\":\"UnionRenderers\"},{\"attributes\":{\"children\":[{\"id\":\"1822\"},{\"id\":\"1826\"},{\"id\":\"1878\"}],\"margin\":[0,0,0,0],\"name\":\"Row03245\",\"tags\":[\"embedded\"]},\"id\":\"1821\",\"type\":\"Row\"},{\"attributes\":{\"data\":{\"inertia\":{\"__ndarray__\":\"Umapz/xTl0C9xizj7/2PQLVkQJ9wV4FAte+r55OkVUDZxnT1bhcuQJisaUK76R5ARSE3/GiYEkCDH/xlrAUFQFLfmzwCW/4/G/HikC7C9z8=\",\"dtype\":\"float64\",\"shape\":[10]},\"k\":[1,2,3,4,5,6,7,8,9,10]},\"selected\":{\"id\":\"1857\"},\"selection_policy\":{\"id\":\"1877\"}},\"id\":\"1856\",\"type\":\"ColumnDataSource\"},{\"attributes\":{\"axis_label\":\"k\",\"bounds\":\"auto\",\"formatter\":{\"id\":\"1866\"},\"major_label_orientation\":\"horizontal\",\"ticker\":{\"id\":\"1864\"}},\"id\":\"1835\",\"type\":\"LinearAxis\"},{\"attributes\":{\"data_source\":{\"id\":\"1856\"},\"glyph\":{\"id\":\"1859\"},\"hover_glyph\":null,\"muted_glyph\":{\"id\":\"1861\"},\"nonselection_glyph\":{\"id\":\"1860\"},\"selection_glyph\":null,\"view\":{\"id\":\"1863\"}},\"id\":\"1862\",\"type\":\"GlyphRenderer\"},{\"attributes\":{\"end\":1642.1480837392435,\"reset_end\":1642.1480837392435,\"reset_start\":-147.66629013264455,\"start\":-147.66629013264455,\"tags\":[[[\"inertia\",\"inertia\",null]]]},\"id\":\"1824\",\"type\":\"Range1d\"},{\"attributes\":{},\"id\":\"1844\",\"type\":\"PanTool\"},{\"attributes\":{\"line_alpha\":0.1,\"line_color\":\"#1f77b3\",\"line_width\":2,\"x\":{\"field\":\"k\"},\"y\":{\"field\":\"inertia\"}},\"id\":\"1860\",\"type\":\"Line\"},{\"attributes\":{\"overlay\":{\"id\":\"1848\"}},\"id\":\"1846\",\"type\":\"BoxZoomTool\"},{\"attributes\":{},\"id\":\"1870\",\"type\":\"BasicTickFormatter\"},{\"attributes\":{\"ticks\":[1,2,3,4,5,6,7,8,9,10]},\"id\":\"1864\",\"type\":\"FixedTicker\"},{\"attributes\":{\"active_drag\":\"auto\",\"active_inspect\":\"auto\",\"active_multi\":null,\"active_scroll\":\"auto\",\"active_tap\":\"auto\",\"tools\":[{\"id\":\"1825\"},{\"id\":\"1843\"},{\"id\":\"1844\"},{\"id\":\"1845\"},{\"id\":\"1846\"},{\"id\":\"1847\"}]},\"id\":\"1849\",\"type\":\"Toolbar\"},{\"attributes\":{\"end\":10.0,\"reset_end\":10.0,\"reset_start\":1.0,\"start\":1.0,\"tags\":[[[\"k\",\"k\",null]]]},\"id\":\"1823\",\"type\":\"Range1d\"},{\"attributes\":{},\"id\":\"1857\",\"type\":\"Selection\"},{\"attributes\":{\"axis\":{\"id\":\"1835\"},\"grid_line_color\":null,\"ticker\":null},\"id\":\"1838\",\"type\":\"Grid\"},{\"attributes\":{},\"id\":\"1847\",\"type\":\"ResetTool\"},{\"attributes\":{\"line_color\":\"#1f77b3\",\"line_width\":2,\"x\":{\"field\":\"k\"},\"y\":{\"field\":\"inertia\"}},\"id\":\"1859\",\"type\":\"Line\"},{\"attributes\":{\"text\":\"\",\"text_color\":{\"value\":\"black\"},\"text_font_size\":{\"value\":\"12pt\"}},\"id\":\"1827\",\"type\":\"Title\"},{\"attributes\":{},\"id\":\"1833\",\"type\":\"LinearScale\"},{\"attributes\":{\"margin\":[5,5,5,5],\"name\":\"HSpacer03250\",\"sizing_mode\":\"stretch_width\"},\"id\":\"1878\",\"type\":\"Spacer\"},{\"attributes\":{\"below\":[{\"id\":\"1835\"}],\"center\":[{\"id\":\"1838\"},{\"id\":\"1842\"}],\"left\":[{\"id\":\"1839\"}],\"margin\":null,\"min_border_bottom\":10,\"min_border_left\":10,\"min_border_right\":10,\"min_border_top\":10,\"plot_height\":300,\"plot_width\":700,\"renderers\":[{\"id\":\"1862\"}],\"sizing_mode\":\"fixed\",\"title\":{\"id\":\"1827\"},\"toolbar\":{\"id\":\"1849\"},\"x_range\":{\"id\":\"1823\"},\"x_scale\":{\"id\":\"1831\"},\"y_range\":{\"id\":\"1824\"},\"y_scale\":{\"id\":\"1833\"}},\"id\":\"1826\",\"subtype\":\"Figure\",\"type\":\"Plot\"},{\"attributes\":{\"axis_label\":\"inertia\",\"bounds\":\"auto\",\"formatter\":{\"id\":\"1870\"},\"major_label_orientation\":\"horizontal\",\"ticker\":{\"id\":\"1840\"}},\"id\":\"1839\",\"type\":\"LinearAxis\"},{\"attributes\":{},\"id\":\"1866\",\"type\":\"BasicTickFormatter\"},{\"attributes\":{},\"id\":\"1845\",\"type\":\"WheelZoomTool\"},{\"attributes\":{\"source\":{\"id\":\"1856\"}},\"id\":\"1863\",\"type\":\"CDSView\"},{\"attributes\":{\"axis\":{\"id\":\"1839\"},\"dimension\":1,\"grid_line_color\":null,\"ticker\":null},\"id\":\"1842\",\"type\":\"Grid\"}],\"root_ids\":[\"1821\"]},\"title\":\"Bokeh Application\",\"version\":\"2.0.2\"}};\n",
       "  var render_items = [{\"docid\":\"4070ca05-a6cd-4b3a-8139-3dab3c47fac1\",\"root_ids\":[\"1821\"],\"roots\":{\"1821\":\"2cc4fe5f-82d8-4043-8507-7efdcab58fcb\"}}];\n",
       "  root.Bokeh.embed.embed_items_notebook(docs_json, render_items);\n",
       "  }\n",
       "if (root.Bokeh !== undefined) {\n",
       "    embed_document(root);\n",
       "  } else {\n",
       "    var attempts = 0;\n",
       "    var timer = setInterval(function(root) {\n",
       "      if (root.Bokeh !== undefined) {\n",
       "        clearInterval(timer);\n",
       "        embed_document(root);\n",
       "      } else if (document.readyState == \"complete\") {\n",
       "        attempts++;\n",
       "        if (attempts > 100) {\n",
       "          clearInterval(timer);\n",
       "          console.log(\"Bokeh: ERROR: Unable to run BokehJS code because BokehJS library is missing\");\n",
       "        }\n",
       "      }\n",
       "    }, 10, root)\n",
       "  }\n",
       "})(window);</script>"
      ]
     },
     "metadata": {
      "application/vnd.holoviews_exec.v0+json": {
       "id": "1821"
      }
     },
     "execution_count": 220
    }
   ],
   "metadata": {}
  },
  {
   "cell_type": "markdown",
   "source": [
    "Running K-Means with `k=<your best value for k here>`"
   ],
   "metadata": {}
  },
  {
   "cell_type": "code",
   "execution_count": 221,
   "source": [
    "# Initialize the K-Means model\r\n",
    "k_model = KMeans(n_clusters=4, random_state=42)\r\n",
    "# Fit the model\r\n",
    "k_model.fit(pca_crypto_df)\r\n",
    "# Predict clusters\r\n",
    "predictions = k_model.predict(pca_crypto_df)\r\n",
    "# Create a new DataFrame including predicted clusters and cryptocurrencies features\r\n",
    "pca_crypto_df['target'] = k_model.labels_\r\n",
    "pca_crypto_df['predictions'] = predictions"
   ],
   "outputs": [],
   "metadata": {}
  },
  {
   "cell_type": "code",
   "execution_count": 222,
   "source": [
    "pca_crypto_df"
   ],
   "outputs": [
    {
     "output_type": "execute_result",
     "data": {
      "text/plain": [
       "          PC1           PC2           PC3  target  predictions\n",
       "0    0.223998 -3.062568e-15  2.485119e-14       0            0\n",
       "1    0.558602 -5.575370e-16  3.922771e-14       0            0\n",
       "2   -0.561728  5.348888e-15 -1.607813e-14       0            0\n",
       "3    0.419167 -4.709884e-15  2.303032e-14       0            0\n",
       "4    0.160354 -3.466810e-15  2.379490e-14       0            0\n",
       "..        ...           ...           ...     ...          ...\n",
       "118  0.466450  1.422238e-15  4.111609e-14       0            0\n",
       "119  0.629063  2.177761e-16  4.076952e-14       0            0\n",
       "120 -1.515985  9.469338e-15 -7.644783e-14       0            0\n",
       "121  0.223998 -2.988239e-16  2.374873e-14       0            0\n",
       "122 -0.824663 -7.287357e-15 -3.486922e-14       0            0\n",
       "\n",
       "[123 rows x 5 columns]"
      ],
      "text/html": [
       "<div>\n",
       "<style scoped>\n",
       "    .dataframe tbody tr th:only-of-type {\n",
       "        vertical-align: middle;\n",
       "    }\n",
       "\n",
       "    .dataframe tbody tr th {\n",
       "        vertical-align: top;\n",
       "    }\n",
       "\n",
       "    .dataframe thead th {\n",
       "        text-align: right;\n",
       "    }\n",
       "</style>\n",
       "<table border=\"1\" class=\"dataframe\">\n",
       "  <thead>\n",
       "    <tr style=\"text-align: right;\">\n",
       "      <th></th>\n",
       "      <th>PC1</th>\n",
       "      <th>PC2</th>\n",
       "      <th>PC3</th>\n",
       "      <th>target</th>\n",
       "      <th>predictions</th>\n",
       "    </tr>\n",
       "  </thead>\n",
       "  <tbody>\n",
       "    <tr>\n",
       "      <th>0</th>\n",
       "      <td>0.223998</td>\n",
       "      <td>-3.062568e-15</td>\n",
       "      <td>2.485119e-14</td>\n",
       "      <td>0</td>\n",
       "      <td>0</td>\n",
       "    </tr>\n",
       "    <tr>\n",
       "      <th>1</th>\n",
       "      <td>0.558602</td>\n",
       "      <td>-5.575370e-16</td>\n",
       "      <td>3.922771e-14</td>\n",
       "      <td>0</td>\n",
       "      <td>0</td>\n",
       "    </tr>\n",
       "    <tr>\n",
       "      <th>2</th>\n",
       "      <td>-0.561728</td>\n",
       "      <td>5.348888e-15</td>\n",
       "      <td>-1.607813e-14</td>\n",
       "      <td>0</td>\n",
       "      <td>0</td>\n",
       "    </tr>\n",
       "    <tr>\n",
       "      <th>3</th>\n",
       "      <td>0.419167</td>\n",
       "      <td>-4.709884e-15</td>\n",
       "      <td>2.303032e-14</td>\n",
       "      <td>0</td>\n",
       "      <td>0</td>\n",
       "    </tr>\n",
       "    <tr>\n",
       "      <th>4</th>\n",
       "      <td>0.160354</td>\n",
       "      <td>-3.466810e-15</td>\n",
       "      <td>2.379490e-14</td>\n",
       "      <td>0</td>\n",
       "      <td>0</td>\n",
       "    </tr>\n",
       "    <tr>\n",
       "      <th>...</th>\n",
       "      <td>...</td>\n",
       "      <td>...</td>\n",
       "      <td>...</td>\n",
       "      <td>...</td>\n",
       "      <td>...</td>\n",
       "    </tr>\n",
       "    <tr>\n",
       "      <th>118</th>\n",
       "      <td>0.466450</td>\n",
       "      <td>1.422238e-15</td>\n",
       "      <td>4.111609e-14</td>\n",
       "      <td>0</td>\n",
       "      <td>0</td>\n",
       "    </tr>\n",
       "    <tr>\n",
       "      <th>119</th>\n",
       "      <td>0.629063</td>\n",
       "      <td>2.177761e-16</td>\n",
       "      <td>4.076952e-14</td>\n",
       "      <td>0</td>\n",
       "      <td>0</td>\n",
       "    </tr>\n",
       "    <tr>\n",
       "      <th>120</th>\n",
       "      <td>-1.515985</td>\n",
       "      <td>9.469338e-15</td>\n",
       "      <td>-7.644783e-14</td>\n",
       "      <td>0</td>\n",
       "      <td>0</td>\n",
       "    </tr>\n",
       "    <tr>\n",
       "      <th>121</th>\n",
       "      <td>0.223998</td>\n",
       "      <td>-2.988239e-16</td>\n",
       "      <td>2.374873e-14</td>\n",
       "      <td>0</td>\n",
       "      <td>0</td>\n",
       "    </tr>\n",
       "    <tr>\n",
       "      <th>122</th>\n",
       "      <td>-0.824663</td>\n",
       "      <td>-7.287357e-15</td>\n",
       "      <td>-3.486922e-14</td>\n",
       "      <td>0</td>\n",
       "      <td>0</td>\n",
       "    </tr>\n",
       "  </tbody>\n",
       "</table>\n",
       "<p>123 rows × 5 columns</p>\n",
       "</div>"
      ]
     },
     "metadata": {},
     "execution_count": 222
    }
   ],
   "metadata": {}
  },
  {
   "cell_type": "markdown",
   "source": [
    "### Visualizing Results\n",
    "\n",
    "#### 3D-Scatter with Clusters"
   ],
   "metadata": {}
  },
  {
   "cell_type": "code",
   "execution_count": 223,
   "source": [
    "# Create a 3D-Scatter with the PCA data and the clusters\r\n",
    "threeDfig = px.scatter_3d(\r\n",
    "    pca_crypto_df,\r\n",
    "    x='PC1',\r\n",
    "    y='PC2',\r\n",
    "    z='PC3',\r\n",
    "    color='target',\r\n",
    "    symbol='target',\r\n",
    "    width=1000\r\n",
    ")\r\n",
    "threeDfig.update_layout(legend=dict(x=0, y=1))\r\n",
    "threeDfig.show()"
   ],
   "outputs": [
    {
     "output_type": "display_data",
     "data": {
      "application/vnd.plotly.v1+json": {
       "config": {
        "plotlyServerURL": "https://plot.ly"
       },
       "data": [
        {
         "hovertemplate": "target=%{marker.color}<br>PC1=%{x}<br>PC2=%{y}<br>PC3=%{z}<extra></extra>",
         "legendgroup": "0",
         "marker": {
          "color": [
           0,
           0,
           0,
           0,
           0,
           0,
           0,
           0,
           0,
           0,
           0,
           0,
           0,
           0,
           0,
           0,
           0,
           0,
           0,
           0,
           0,
           0,
           0,
           0,
           0,
           0,
           0,
           0,
           0,
           0,
           0,
           0,
           0,
           0,
           0,
           0,
           0,
           0,
           0,
           0,
           0,
           0,
           0,
           0,
           0,
           0,
           0,
           0,
           0,
           0,
           0,
           0,
           0,
           0,
           0,
           0,
           0,
           0,
           0,
           0,
           0,
           0,
           0,
           0,
           0,
           0,
           0,
           0,
           0,
           0,
           0,
           0,
           0,
           0,
           0,
           0,
           0,
           0,
           0,
           0,
           0,
           0,
           0,
           0,
           0,
           0,
           0,
           0,
           0,
           0,
           0,
           0,
           0,
           0,
           0,
           0,
           0,
           0,
           0,
           0,
           0,
           0,
           0,
           0,
           0,
           0,
           0,
           0,
           0,
           0,
           0,
           0,
           0,
           0,
           0,
           0,
           0,
           0,
           0,
           0
          ],
          "coloraxis": "coloraxis",
          "symbol": "circle"
         },
         "mode": "markers",
         "name": "0",
         "scene": "scene",
         "showlegend": true,
         "type": "scatter3d",
         "x": [
          0.22399797930298532,
          0.5586020489892688,
          -0.561727629778524,
          0.4191666818137462,
          0.160353621807074,
          -0.6060511623114595,
          0.49140695590247363,
          0.31919537147799293,
          -1.347525314215008,
          0.881034726332759,
          -1.2928586304059473,
          -0.3395912745038071,
          -1.253367555233105,
          -1.099745745073179,
          -0.5332151592815789,
          0.6773305479195539,
          1.6861296291865753,
          0.5748193427808503,
          -0.824662585870909,
          0.7814753961809016,
          -1.2971525415960008,
          -1.3850605974124381,
          0.5913570383045135,
          -0.5617276297785213,
          -0.15050028745013244,
          0.40039435690307007,
          -1.4119903373792189,
          1.280492401248543,
          -0.704528918907081,
          -0.6922028829476532,
          0.47029362765848,
          -0.7045289189070593,
          -0.5020017643987599,
          0.6801361390013686,
          0.6043174408831057,
          -1.411990337379217,
          -0.5060248689427419,
          -0.8396064496777154,
          0.09352272613385297,
          -0.23759360644885522,
          -1.2762168637733384,
          0.18091364283817712,
          -0.7045289189070575,
          -1.515985433557883,
          -1.2762168637733384,
          0.4358220231909587,
          0.16035362180707474,
          -0.11599298793871063,
          -0.9052964054990016,
          0.2656829339652155,
          -0.8771629872745192,
          -0.5617276297785206,
          0.6641039022435703,
          -1.515985433557886,
          -1.1155211825368587,
          -1.2533675552330907,
          -1.5159854335578777,
          -1.0752089048777262,
          -1.3753947226406658,
          0.7146917410916346,
          0.6784579970124494,
          0.4634902143466792,
          -1.1697811838978953,
          0.33600091421637235,
          0.574819342780848,
          -0.7045289189070384,
          -1.411990337379218,
          0.6306710447831547,
          -0.349980857995773,
          -1.515985433557877,
          -1.262649626650936,
          -0.8246625858709279,
          0.6801361390013703,
          0.22399797930298657,
          1.280492401248546,
          0.47029362765847965,
          0.6803815399077155,
          0.642842945455228,
          -1.2971525415960026,
          -0.9017185970202197,
          -0.8346786956845416,
          -0.9052964054990015,
          -0.810453416763278,
          0.6801361390013695,
          -0.5060248689427421,
          0.5967362680606233,
          0.7156026642067334,
          0.06494465468680256,
          -1.169781183897895,
          -0.905296405499001,
          -1.4688323699747456,
          -1.5159854335578762,
          -0.8353360383026538,
          -0.6922028829476542,
          0.6801361390013696,
          -0.5617276297785205,
          -0.5617276297785206,
          0.4664504205571653,
          -1.374738700535683,
          -0.060827825081558304,
          0.8304401050100635,
          0.46349021434667825,
          1.2703119632618423,
          -1.0443750318135239,
          -1.2971525415959755,
          0.4702936276584799,
          0.2480456543844631,
          1.0140385162923282,
          -1.4236240953360184,
          -1.1697811838978953,
          0.23545391596109388,
          -1.4236240953360184,
          -1.4236240953360182,
          0.5748193427808501,
          0.6801361390013696,
          0.4664504205571601,
          0.6290631088004756,
          -1.5159854335578777,
          0.22399797930298482,
          -0.8246625858709256
         ],
         "y": [
          -3.0625675762668834e-15,
          -5.575369586844781e-16,
          5.348887624179758e-15,
          -4.70988439078614e-15,
          -3.4668101177128303e-15,
          7.417590991632932e-15,
          -8.725615273609189e-15,
          -2.7435108156426946e-15,
          1.2654175129047415e-15,
          4.179342748741476e-15,
          3.8894063673983976e-15,
          1.5082336179406396e-15,
          -3.9648937493788325e-15,
          4.334228209942459e-15,
          -5.597367333994663e-16,
          -1.7300354574849878e-15,
          -3.2898495107717837e-15,
          -1.4714212207974907e-14,
          4.6693898165617994e-15,
          -6.043818322596348e-15,
          -5.5126416820450044e-15,
          -3.2459307701585417e-16,
          1.2349627869529318e-16,
          9.65462221542098e-15,
          -1.3674600412004713e-15,
          -3.190344207699623e-15,
          1.1732707953165117e-14,
          -1.7065425875230657e-14,
          1.8140683451941263e-15,
          -1.75909547185211e-17,
          -4.963756951782212e-15,
          2.1224760180211918e-15,
          3.1525520151109552e-15,
          -4.141503855001838e-15,
          -3.0155088390654954e-15,
          1.3042419161777629e-14,
          5.176124997040104e-15,
          2.8228327789856204e-15,
          -4.0930862999910625e-15,
          -2.8710398266769623e-15,
          4.022374521167495e-15,
          -8.798278431528144e-15,
          1.3075400182332085e-14,
          1.4916458931673243e-14,
          5.688536747625156e-15,
          -4.137341298157629e-15,
          7.541328537557596e-16,
          1.6657203717349514e-15,
          5.195316388114115e-15,
          -3.8931856653341987e-16,
          2.713386759529448e-15,
          -3.278464374949713e-15,
          -1.5646370920281227e-14,
          1.3093121484254624e-14,
          2.855396628673513e-15,
          8.68288226790623e-15,
          3.8985691536005875e-15,
          3.503948099638871e-15,
          1.0200173109288857e-14,
          -6.308176463049163e-17,
          -3.029648965480846e-15,
          -6.167878370645579e-15,
          3.584705419877166e-15,
          -2.193456494018304e-15,
          -9.714779943334332e-15,
          9.040407860532786e-15,
          1.2353918369730207e-14,
          -6.14619938114784e-15,
          3.4845724626377604e-15,
          5.371253667178016e-15,
          7.713134117587735e-16,
          -3.2762144581412023e-15,
          3.4779400925984982e-15,
          -6.284914339242495e-15,
          -1.3871519300533661e-14,
          -9.335422011714244e-15,
          -9.287567846393412e-15,
          -5.017123153807644e-16,
          -9.105639681209828e-16,
          2.118188031464665e-15,
          3.6146915920372215e-15,
          4.657861648573444e-15,
          2.1775094047990005e-15,
          3.716097287519799e-15,
          -1.94023571778939e-15,
          -4.768691225067573e-15,
          -1.0054099706886914e-14,
          4.677197702277087e-15,
          1.9722769995709937e-15,
          5.135426908175096e-15,
          6.082215005763702e-15,
          4.167012622083006e-15,
          3.489563160475657e-15,
          -3.6895777277616013e-16,
          3.3753860101153478e-15,
          1.9678005694683563e-15,
          2.69182263377057e-15,
          -1.1855962554783205e-14,
          5.551185409558498e-15,
          5.689069517499272e-15,
          -1.0776176920435254e-14,
          -6.9419364383263685e-15,
          -1.620957240407292e-14,
          2.435119103071758e-15,
          -1.6724086429663442e-14,
          -9.462808090502942e-15,
          -3.5394548056792987e-15,
          5.895518374242106e-16,
          5.3998967933994594e-15,
          2.507184125522888e-15,
          -8.280996258715699e-15,
          5.015503414704918e-15,
          4.155194780598168e-15,
          4.477001327099235e-15,
          2.6880310341829845e-15,
          1.4222375812468726e-15,
          2.1777605740693658e-16,
          9.469338264008996e-15,
          -2.988238642290963e-16,
          -7.287357463732958e-15
         ],
         "z": [
          2.485118560892462e-14,
          3.922771104311297e-14,
          -1.6078130473849187e-14,
          2.3030322558256396e-14,
          2.3794895813312628e-14,
          -2.084844003092319e-14,
          4.525440379733619e-14,
          2.879707032404681e-14,
          -4.476952375781786e-14,
          5.026398333326728e-14,
          -6.078610726151187e-14,
          9.450302573455908e-16,
          -6.674056084132384e-14,
          -5.457435881725241e-14,
          -2.292166476549487e-14,
          4.297375054292141e-14,
          6.57636844032919e-14,
          3.3572057566136875e-14,
          -3.295678435933888e-14,
          4.7229304464432294e-14,
          -6.960454959287476e-14,
          -6.369130830749305e-14,
          4.412715556586082e-14,
          -1.3126411195920733e-14,
          -2.05210069612585e-15,
          2.6107727206348835e-14,
          -7.643315938261472e-14,
          8.760323760618984e-14,
          -2.3409528449710443e-14,
          -1.936950499077328e-14,
          3.7757365780498786e-14,
          -2.5006709287803972e-14,
          -2.0363891823260458e-14,
          4.83847213033734e-14,
          4.3622193453772783e-14,
          -7.580689798948649e-14,
          -3.705092147917301e-14,
          -3.443677127671764e-14,
          2.0509480783281363e-14,
          -1.0607554471002117e-14,
          -5.998544297519894e-14,
          1.5139778067099472e-14,
          -2.0661922222722755e-14,
          -9.896549048217184e-14,
          -6.450587005981975e-14,
          1.347441099572109e-14,
          2.4560332145501025e-14,
          4.8413982124533334e-15,
          -4.137012961528346e-14,
          1.9157494230379485e-14,
          -2.6554347913587152e-14,
          -1.4542042110251565e-14,
          4.2504845178921864e-14,
          -7.638851860821841e-14,
          -5.610234043124158e-14,
          -6.043482030602462e-14,
          -7.99255310684766e-14,
          -4.620944575772166e-14,
          -5.372641724087722e-14,
          5.697905674146427e-14,
          5.91708048136658e-14,
          3.4291708489840156e-14,
          -5.5297154367489234e-14,
          2.653889476682098e-14,
          4.1874120203375446e-14,
          -1.8569073608424832e-14,
          -7.27221422922357e-14,
          4.704952686996533e-14,
          -3.9180207455735385e-15,
          -7.776037443195197e-14,
          -6.213778546025986e-14,
          -3.2304061611608996e-14,
          5.082828414440476e-14,
          2.291364229276149e-14,
          8.668172546654784e-14,
          3.7171180963955086e-14,
          4.613441204687327e-14,
          3.640067171190877e-14,
          -6.071505484580514e-14,
          -3.319902755727222e-14,
          -2.7134094231127506e-14,
          -3.997413264477176e-14,
          -3.571781936814214e-14,
          5.076061559653508e-14,
          -3.030106209900626e-14,
          3.7879802385247925e-14,
          5.094424113070462e-14,
          9.021255366367416e-15,
          -5.592228009568074e-14,
          -3.95049004671649e-14,
          -4.0054078795016205e-14,
          -7.704563616592272e-14,
          -3.471500311233476e-14,
          -2.187788136773101e-14,
          5.1733640215707563e-14,
          -1.3674200972195557e-14,
          -1.4187436643459908e-14,
          3.901431053863396e-14,
          -5.678100093709772e-14,
          -5.789664401250831e-16,
          4.2875430994923426e-14,
          3.4663799304314787e-14,
          7.49737610366156e-14,
          -4.6972027903731904e-14,
          -6.6027112313874e-14,
          3.7535096516324485e-14,
          2.351929520640116e-14,
          5.691332316052163e-14,
          -7.453891383973098e-14,
          -5.3040761221097645e-14,
          1.521537939835061e-14,
          -7.431575852543311e-14,
          -7.483654731460423e-14,
          4.0170428634630425e-14,
          5.153543414248042e-14,
          4.111608582589996e-14,
          4.07695191810363e-14,
          -7.644782916189205e-14,
          2.3748734686991845e-14,
          -3.486922498120697e-14
         ]
        },
        {
         "hovertemplate": "target=%{marker.color}<br>PC1=%{x}<br>PC2=%{y}<br>PC3=%{z}<extra></extra>",
         "legendgroup": "1",
         "marker": {
          "color": [
           1
          ],
          "coloraxis": "coloraxis",
          "symbol": "diamond"
         },
         "mode": "markers",
         "name": "1",
         "scene": "scene",
         "showlegend": true,
         "type": "scatter3d",
         "x": [
          11.608236279040272
         ],
         "y": [
          -12.413044456971676
         ],
         "z": [
          -13.289275822986045
         ]
        },
        {
         "hovertemplate": "target=%{marker.color}<br>PC1=%{x}<br>PC2=%{y}<br>PC3=%{z}<extra></extra>",
         "legendgroup": "2",
         "marker": {
          "color": [
           2
          ],
          "coloraxis": "coloraxis",
          "symbol": "square"
         },
         "mode": "markers",
         "name": "2",
         "scene": "scene",
         "showlegend": true,
         "type": "scatter3d",
         "x": [
          11.608236279040039
         ],
         "y": [
          17.715372689090334
         ],
         "z": [
          -4.105373926549672
         ]
        },
        {
         "hovertemplate": "target=%{marker.color}<br>PC1=%{x}<br>PC2=%{y}<br>PC3=%{z}<extra></extra>",
         "legendgroup": "3",
         "marker": {
          "color": [
           3
          ],
          "coloraxis": "coloraxis",
          "symbol": "x"
         },
         "mode": "markers",
         "name": "3",
         "scene": "scene",
         "showlegend": true,
         "type": "scatter3d",
         "x": [
          11.608236279039415
         ],
         "y": [
          -5.302328232118649
         ],
         "z": [
          17.394649749536498
         ]
        }
       ],
       "layout": {
        "coloraxis": {
         "colorbar": {
          "title": {
           "text": "target"
          }
         },
         "colorscale": [
          [
           0,
           "#0d0887"
          ],
          [
           0.1111111111111111,
           "#46039f"
          ],
          [
           0.2222222222222222,
           "#7201a8"
          ],
          [
           0.3333333333333333,
           "#9c179e"
          ],
          [
           0.4444444444444444,
           "#bd3786"
          ],
          [
           0.5555555555555556,
           "#d8576b"
          ],
          [
           0.6666666666666666,
           "#ed7953"
          ],
          [
           0.7777777777777778,
           "#fb9f3a"
          ],
          [
           0.8888888888888888,
           "#fdca26"
          ],
          [
           1,
           "#f0f921"
          ]
         ]
        },
        "legend": {
         "title": {
          "text": "target"
         },
         "tracegroupgap": 0,
         "x": 0,
         "y": 1
        },
        "margin": {
         "t": 60
        },
        "scene": {
         "domain": {
          "x": [
           0,
           1
          ],
          "y": [
           0,
           1
          ]
         },
         "xaxis": {
          "title": {
           "text": "PC1"
          }
         },
         "yaxis": {
          "title": {
           "text": "PC2"
          }
         },
         "zaxis": {
          "title": {
           "text": "PC3"
          }
         }
        },
        "template": {
         "data": {
          "bar": [
           {
            "error_x": {
             "color": "#2a3f5f"
            },
            "error_y": {
             "color": "#2a3f5f"
            },
            "marker": {
             "line": {
              "color": "#E5ECF6",
              "width": 0.5
             },
             "pattern": {
              "fillmode": "overlay",
              "size": 10,
              "solidity": 0.2
             }
            },
            "type": "bar"
           }
          ],
          "barpolar": [
           {
            "marker": {
             "line": {
              "color": "#E5ECF6",
              "width": 0.5
             },
             "pattern": {
              "fillmode": "overlay",
              "size": 10,
              "solidity": 0.2
             }
            },
            "type": "barpolar"
           }
          ],
          "carpet": [
           {
            "aaxis": {
             "endlinecolor": "#2a3f5f",
             "gridcolor": "white",
             "linecolor": "white",
             "minorgridcolor": "white",
             "startlinecolor": "#2a3f5f"
            },
            "baxis": {
             "endlinecolor": "#2a3f5f",
             "gridcolor": "white",
             "linecolor": "white",
             "minorgridcolor": "white",
             "startlinecolor": "#2a3f5f"
            },
            "type": "carpet"
           }
          ],
          "choropleth": [
           {
            "colorbar": {
             "outlinewidth": 0,
             "ticks": ""
            },
            "type": "choropleth"
           }
          ],
          "contour": [
           {
            "colorbar": {
             "outlinewidth": 0,
             "ticks": ""
            },
            "colorscale": [
             [
              0,
              "#0d0887"
             ],
             [
              0.1111111111111111,
              "#46039f"
             ],
             [
              0.2222222222222222,
              "#7201a8"
             ],
             [
              0.3333333333333333,
              "#9c179e"
             ],
             [
              0.4444444444444444,
              "#bd3786"
             ],
             [
              0.5555555555555556,
              "#d8576b"
             ],
             [
              0.6666666666666666,
              "#ed7953"
             ],
             [
              0.7777777777777778,
              "#fb9f3a"
             ],
             [
              0.8888888888888888,
              "#fdca26"
             ],
             [
              1,
              "#f0f921"
             ]
            ],
            "type": "contour"
           }
          ],
          "contourcarpet": [
           {
            "colorbar": {
             "outlinewidth": 0,
             "ticks": ""
            },
            "type": "contourcarpet"
           }
          ],
          "heatmap": [
           {
            "colorbar": {
             "outlinewidth": 0,
             "ticks": ""
            },
            "colorscale": [
             [
              0,
              "#0d0887"
             ],
             [
              0.1111111111111111,
              "#46039f"
             ],
             [
              0.2222222222222222,
              "#7201a8"
             ],
             [
              0.3333333333333333,
              "#9c179e"
             ],
             [
              0.4444444444444444,
              "#bd3786"
             ],
             [
              0.5555555555555556,
              "#d8576b"
             ],
             [
              0.6666666666666666,
              "#ed7953"
             ],
             [
              0.7777777777777778,
              "#fb9f3a"
             ],
             [
              0.8888888888888888,
              "#fdca26"
             ],
             [
              1,
              "#f0f921"
             ]
            ],
            "type": "heatmap"
           }
          ],
          "heatmapgl": [
           {
            "colorbar": {
             "outlinewidth": 0,
             "ticks": ""
            },
            "colorscale": [
             [
              0,
              "#0d0887"
             ],
             [
              0.1111111111111111,
              "#46039f"
             ],
             [
              0.2222222222222222,
              "#7201a8"
             ],
             [
              0.3333333333333333,
              "#9c179e"
             ],
             [
              0.4444444444444444,
              "#bd3786"
             ],
             [
              0.5555555555555556,
              "#d8576b"
             ],
             [
              0.6666666666666666,
              "#ed7953"
             ],
             [
              0.7777777777777778,
              "#fb9f3a"
             ],
             [
              0.8888888888888888,
              "#fdca26"
             ],
             [
              1,
              "#f0f921"
             ]
            ],
            "type": "heatmapgl"
           }
          ],
          "histogram": [
           {
            "marker": {
             "pattern": {
              "fillmode": "overlay",
              "size": 10,
              "solidity": 0.2
             }
            },
            "type": "histogram"
           }
          ],
          "histogram2d": [
           {
            "colorbar": {
             "outlinewidth": 0,
             "ticks": ""
            },
            "colorscale": [
             [
              0,
              "#0d0887"
             ],
             [
              0.1111111111111111,
              "#46039f"
             ],
             [
              0.2222222222222222,
              "#7201a8"
             ],
             [
              0.3333333333333333,
              "#9c179e"
             ],
             [
              0.4444444444444444,
              "#bd3786"
             ],
             [
              0.5555555555555556,
              "#d8576b"
             ],
             [
              0.6666666666666666,
              "#ed7953"
             ],
             [
              0.7777777777777778,
              "#fb9f3a"
             ],
             [
              0.8888888888888888,
              "#fdca26"
             ],
             [
              1,
              "#f0f921"
             ]
            ],
            "type": "histogram2d"
           }
          ],
          "histogram2dcontour": [
           {
            "colorbar": {
             "outlinewidth": 0,
             "ticks": ""
            },
            "colorscale": [
             [
              0,
              "#0d0887"
             ],
             [
              0.1111111111111111,
              "#46039f"
             ],
             [
              0.2222222222222222,
              "#7201a8"
             ],
             [
              0.3333333333333333,
              "#9c179e"
             ],
             [
              0.4444444444444444,
              "#bd3786"
             ],
             [
              0.5555555555555556,
              "#d8576b"
             ],
             [
              0.6666666666666666,
              "#ed7953"
             ],
             [
              0.7777777777777778,
              "#fb9f3a"
             ],
             [
              0.8888888888888888,
              "#fdca26"
             ],
             [
              1,
              "#f0f921"
             ]
            ],
            "type": "histogram2dcontour"
           }
          ],
          "mesh3d": [
           {
            "colorbar": {
             "outlinewidth": 0,
             "ticks": ""
            },
            "type": "mesh3d"
           }
          ],
          "parcoords": [
           {
            "line": {
             "colorbar": {
              "outlinewidth": 0,
              "ticks": ""
             }
            },
            "type": "parcoords"
           }
          ],
          "pie": [
           {
            "automargin": true,
            "type": "pie"
           }
          ],
          "scatter": [
           {
            "marker": {
             "colorbar": {
              "outlinewidth": 0,
              "ticks": ""
             }
            },
            "type": "scatter"
           }
          ],
          "scatter3d": [
           {
            "line": {
             "colorbar": {
              "outlinewidth": 0,
              "ticks": ""
             }
            },
            "marker": {
             "colorbar": {
              "outlinewidth": 0,
              "ticks": ""
             }
            },
            "type": "scatter3d"
           }
          ],
          "scattercarpet": [
           {
            "marker": {
             "colorbar": {
              "outlinewidth": 0,
              "ticks": ""
             }
            },
            "type": "scattercarpet"
           }
          ],
          "scattergeo": [
           {
            "marker": {
             "colorbar": {
              "outlinewidth": 0,
              "ticks": ""
             }
            },
            "type": "scattergeo"
           }
          ],
          "scattergl": [
           {
            "marker": {
             "colorbar": {
              "outlinewidth": 0,
              "ticks": ""
             }
            },
            "type": "scattergl"
           }
          ],
          "scattermapbox": [
           {
            "marker": {
             "colorbar": {
              "outlinewidth": 0,
              "ticks": ""
             }
            },
            "type": "scattermapbox"
           }
          ],
          "scatterpolar": [
           {
            "marker": {
             "colorbar": {
              "outlinewidth": 0,
              "ticks": ""
             }
            },
            "type": "scatterpolar"
           }
          ],
          "scatterpolargl": [
           {
            "marker": {
             "colorbar": {
              "outlinewidth": 0,
              "ticks": ""
             }
            },
            "type": "scatterpolargl"
           }
          ],
          "scatterternary": [
           {
            "marker": {
             "colorbar": {
              "outlinewidth": 0,
              "ticks": ""
             }
            },
            "type": "scatterternary"
           }
          ],
          "surface": [
           {
            "colorbar": {
             "outlinewidth": 0,
             "ticks": ""
            },
            "colorscale": [
             [
              0,
              "#0d0887"
             ],
             [
              0.1111111111111111,
              "#46039f"
             ],
             [
              0.2222222222222222,
              "#7201a8"
             ],
             [
              0.3333333333333333,
              "#9c179e"
             ],
             [
              0.4444444444444444,
              "#bd3786"
             ],
             [
              0.5555555555555556,
              "#d8576b"
             ],
             [
              0.6666666666666666,
              "#ed7953"
             ],
             [
              0.7777777777777778,
              "#fb9f3a"
             ],
             [
              0.8888888888888888,
              "#fdca26"
             ],
             [
              1,
              "#f0f921"
             ]
            ],
            "type": "surface"
           }
          ],
          "table": [
           {
            "cells": {
             "fill": {
              "color": "#EBF0F8"
             },
             "line": {
              "color": "white"
             }
            },
            "header": {
             "fill": {
              "color": "#C8D4E3"
             },
             "line": {
              "color": "white"
             }
            },
            "type": "table"
           }
          ]
         },
         "layout": {
          "annotationdefaults": {
           "arrowcolor": "#2a3f5f",
           "arrowhead": 0,
           "arrowwidth": 1
          },
          "autotypenumbers": "strict",
          "coloraxis": {
           "colorbar": {
            "outlinewidth": 0,
            "ticks": ""
           }
          },
          "colorscale": {
           "diverging": [
            [
             0,
             "#8e0152"
            ],
            [
             0.1,
             "#c51b7d"
            ],
            [
             0.2,
             "#de77ae"
            ],
            [
             0.3,
             "#f1b6da"
            ],
            [
             0.4,
             "#fde0ef"
            ],
            [
             0.5,
             "#f7f7f7"
            ],
            [
             0.6,
             "#e6f5d0"
            ],
            [
             0.7,
             "#b8e186"
            ],
            [
             0.8,
             "#7fbc41"
            ],
            [
             0.9,
             "#4d9221"
            ],
            [
             1,
             "#276419"
            ]
           ],
           "sequential": [
            [
             0,
             "#0d0887"
            ],
            [
             0.1111111111111111,
             "#46039f"
            ],
            [
             0.2222222222222222,
             "#7201a8"
            ],
            [
             0.3333333333333333,
             "#9c179e"
            ],
            [
             0.4444444444444444,
             "#bd3786"
            ],
            [
             0.5555555555555556,
             "#d8576b"
            ],
            [
             0.6666666666666666,
             "#ed7953"
            ],
            [
             0.7777777777777778,
             "#fb9f3a"
            ],
            [
             0.8888888888888888,
             "#fdca26"
            ],
            [
             1,
             "#f0f921"
            ]
           ],
           "sequentialminus": [
            [
             0,
             "#0d0887"
            ],
            [
             0.1111111111111111,
             "#46039f"
            ],
            [
             0.2222222222222222,
             "#7201a8"
            ],
            [
             0.3333333333333333,
             "#9c179e"
            ],
            [
             0.4444444444444444,
             "#bd3786"
            ],
            [
             0.5555555555555556,
             "#d8576b"
            ],
            [
             0.6666666666666666,
             "#ed7953"
            ],
            [
             0.7777777777777778,
             "#fb9f3a"
            ],
            [
             0.8888888888888888,
             "#fdca26"
            ],
            [
             1,
             "#f0f921"
            ]
           ]
          },
          "colorway": [
           "#636efa",
           "#EF553B",
           "#00cc96",
           "#ab63fa",
           "#FFA15A",
           "#19d3f3",
           "#FF6692",
           "#B6E880",
           "#FF97FF",
           "#FECB52"
          ],
          "font": {
           "color": "#2a3f5f"
          },
          "geo": {
           "bgcolor": "white",
           "lakecolor": "white",
           "landcolor": "#E5ECF6",
           "showlakes": true,
           "showland": true,
           "subunitcolor": "white"
          },
          "hoverlabel": {
           "align": "left"
          },
          "hovermode": "closest",
          "mapbox": {
           "style": "light"
          },
          "paper_bgcolor": "white",
          "plot_bgcolor": "#E5ECF6",
          "polar": {
           "angularaxis": {
            "gridcolor": "white",
            "linecolor": "white",
            "ticks": ""
           },
           "bgcolor": "#E5ECF6",
           "radialaxis": {
            "gridcolor": "white",
            "linecolor": "white",
            "ticks": ""
           }
          },
          "scene": {
           "xaxis": {
            "backgroundcolor": "#E5ECF6",
            "gridcolor": "white",
            "gridwidth": 2,
            "linecolor": "white",
            "showbackground": true,
            "ticks": "",
            "zerolinecolor": "white"
           },
           "yaxis": {
            "backgroundcolor": "#E5ECF6",
            "gridcolor": "white",
            "gridwidth": 2,
            "linecolor": "white",
            "showbackground": true,
            "ticks": "",
            "zerolinecolor": "white"
           },
           "zaxis": {
            "backgroundcolor": "#E5ECF6",
            "gridcolor": "white",
            "gridwidth": 2,
            "linecolor": "white",
            "showbackground": true,
            "ticks": "",
            "zerolinecolor": "white"
           }
          },
          "shapedefaults": {
           "line": {
            "color": "#2a3f5f"
           }
          },
          "ternary": {
           "aaxis": {
            "gridcolor": "white",
            "linecolor": "white",
            "ticks": ""
           },
           "baxis": {
            "gridcolor": "white",
            "linecolor": "white",
            "ticks": ""
           },
           "bgcolor": "#E5ECF6",
           "caxis": {
            "gridcolor": "white",
            "linecolor": "white",
            "ticks": ""
           }
          },
          "title": {
           "x": 0.05
          },
          "xaxis": {
           "automargin": true,
           "gridcolor": "white",
           "linecolor": "white",
           "ticks": "",
           "title": {
            "standoff": 15
           },
           "zerolinecolor": "white",
           "zerolinewidth": 2
          },
          "yaxis": {
           "automargin": true,
           "gridcolor": "white",
           "linecolor": "white",
           "ticks": "",
           "title": {
            "standoff": 15
           },
           "zerolinecolor": "white",
           "zerolinewidth": 2
          }
         }
        },
        "width": 1000
       }
      }
     },
     "metadata": {}
    }
   ],
   "metadata": {}
  },
  {
   "cell_type": "markdown",
   "source": [
    "#### Table of Tradable Cryptocurrencies"
   ],
   "metadata": {}
  },
  {
   "cell_type": "code",
   "execution_count": 224,
   "source": [
    "# Table with tradable cryptos\r\n",
    "table_crypto_df = pd.DataFrame(scaled_crypto_df)\r\n",
    "table_crypto_df['CoinName'] = coin_name_df['CoinName']\r\n",
    "table_crypto_df['target'] = pca_crypto_df['target'].values\r\n",
    "table_crypto_df.hvplot.table(columns=[\"CoinName\", \"Algorithm\", \"ProofType\", \"MaxSupply\", \"TotalCoinsMined\", \"target\"], sortable=True, selectable=True)"
   ],
   "outputs": [
    {
     "output_type": "display_data",
     "data": {},
     "metadata": {}
    },
    {
     "output_type": "execute_result",
     "data": {
      "application/vnd.holoviews_exec.v0+json": "",
      "text/plain": [
       ":Table   [CoinName,Algorithm,ProofType,MaxSupply,TotalCoinsMined,target]"
      ],
      "text/html": [
       "<div id='1915'>\n",
       "\n",
       "\n",
       "\n",
       "\n",
       "\n",
       "  <div class=\"bk-root\" id=\"76126dfa-ba21-4f66-937f-585991271895\" data-root-id=\"1915\"></div>\n",
       "</div>\n",
       "<script type=\"application/javascript\">(function(root) {\n",
       "  function embed_document(root) {\n",
       "  var docs_json = {\"50b49259-51bc-43a7-9ea8-cb29ef46725a\":{\"roots\":{\"references\":[{\"attributes\":{\"data\":{\"Algorithm\":[\"Scrypt\",\"PoS\",\"Scrypt\",\"X13\",\"Scrypt\",\"Scrypt\",\"X11\",\"Scrypt\",\"RandomX\",\"Dagger\",\"Equihash\",\"X11\",\"Equihash\",\"Ethash\",\"IMesh\",\"SHA-512\",\"Dagger\",\"SPoS\",\"CryptoNight\",\"X16RT\",\"C31\",\"X16R\",\"ECC 256K1\",\"Scrypt\",\"Scrypt\",\"HEX\",\"SHA-256\",\"POS 3.0\",\"CryptoNight-Heavy\",\"Ethash\",\"Quark\",\"CryptoNight-Lite\",\"Equihash\",\"DPoS\",\"PoS\",\"SHA-256\",\"SPL Token\",\"Equihash\",\"Equihash\",\"Ethash\",\"Equihash\",\"SHA-256\",\"Scrypt\",\"Eaglesong\",\"Blake2B + SHA3\",\"SHA-256\",\"IMesh\",\"Scrypt\",\"SHA-256\",\"Scrypt\",\"Scrypt\",\"Multiple\",\"Scrypt\",\"TRC-10\",\"Autolykos\",\"X16R\",\"Equihash\",\"NeoScrypt\",\"Lyra2REv2\",\"Multiple\",\"DPoS\",\"Proof-of-Authority\",\"X13\",\"Equihash\",\"Scrypt\",\"Leased POS\",\"VeChainThor Authority\",\"Dagger-Hashimoto\",\"SHA-256\",\"X13\",\"PoS\",\"KECCAK\",\"X11GOST\",\"Blake2b\",\"DPoS\",\"Scrypt\",\"POS 3.0\",\"Quark\",\"VBFT\",\"PoS\",\"SHA3\",\"Blake2b\",\"SHA-256\",\"RandomX\",\"Scrypt\",\"Scrypt\",\"DPoS\",\"Equihash\",\"X11\",\"Loopchain\",\"BLAKE256\",\"Equihash\",\"Scrypt\",\"Groestl\",\"MTP\",\"Ethash\",\"Ethash\",\"DPoS\",\"Scrypt\",\"Scrypt\",\"BMW512 / Echo512\",\"Multiple\",\"BLAKE256\",\"X11\",\"X13\",\"Ouroboros\",\"Tensority\",\"CryptoNight\",\"Quark\",\"Scrypt\",\"SHA-512\",\"SHA-256\",\"Equihash\",\"X13\",\"SHA-256\",\"SHA-256\",\"BEP-2\",\"DPoS\",\"Equihash210,9\",\"DPoS\",\"EtcHash\",\"Scrypt\",\"C31\"],\"CoinName\":[\"NovaCoin\",\"NuShares\",\"MonaCoin\",\"Triangles Coin\",\"SafeExchangeCoin\",\"CometCoin\",\"Stakenet\",\"OpenChat\",\"Quantum Resistant Ledger\",\"Amber\",\"BitcoinZ\",\"Pura\",\"Bitcoin Private\",\"Callisto Network\",\"Aidos Kuneen\",\"Kcash\",\"DAPS Coin\",\"V Systems\",\"Beldex\",\"VEIL\",\"MimbleWimbleCoin\",\"Ravencoin Classic\",\"Acute Angle Cloud\",\"Primas\",\"Auroracoin\",\"XDNA\",\"Wibcoin\",\"TokenPay\",\"Haven Protocol\",\"EtherZero\",\"QuarkCoin\",\"AEON\",\"TENT\",\"Oxycoin\",\"Anchor Protocol\",\"Arweave\",\"MAPS\",\"Pirate Chain\",\"Bithereum\",\"BeforeCoinMarketCap\",\"Zelcash\",\"Smart Bitcoin\",\"Canada eCoin\",\"Nervos Network\",\"Handshake\",\"UnitedBitcoin\",\"INT\",\"VeriCoin\",\"Emercoin\",\"Flo\",\"PotCoin\",\"Circuits of Value\",\"ViaCoin\",\"BitTorrent\",\"Ergo\",\"Genix\",\"Beam\",\"FeatherCoin\",\"Vertcoin\",\"Verge\",\"Rise\",\"Poa Network\",\"NavCoin\",\"ZCash\",\"WhiteCoin\",\"Waves\",\"VeChain\",\"Ubiq\",\"SysCoin\",\"Stratis\",\"Steem\",\"SmartCash\",\"SibCoin\",\"Siacoin\",\"Shift\",\"SaluS\",\"QTUM\",\"Private Instant Verified Transaction\",\"Ontology\",\"Nxt\",\"Nexus\",\"Nano\",\"Namecoin\",\"Monero\",\"MegaCoin\",\"Litecoin\",\"Lisk\",\"Komodo\",\"IOCoin\",\"ICON Project\",\"HyperCash\",\"Horizen\",\"Gulden\",\"Groestlcoin\",\"Firo\",\"Expanse\",\"Ethereum\",\"EOS\",\"Einsteinium\",\"Dogecoin\",\"DigitalNote\",\"DigiByte\",\"Decred\",\"Dash\",\"CloakCoin\",\"Cardano\",\"Bytom\",\"ByteCoin\",\"BlockNet\",\"BlackCoin\",\"Bitshares\",\"Bitcoin SV\",\"Bitcoin Gold\",\"Bitcoin Diamond\",\"Bitcoin Cash\",\"Bitcoin\",\"Binance Coin\",\"ARK\",\"Aion\",\"Achain\",\"Ethereum Classic\",\"Reddcoin\",\"Grin\"],\"MaxSupply\":{\"__ndarray__\":\"AAAAAAAA8L8AAAAAAAAAAAAAAAAAAPC/AAAAAAAAAAAAAAAAAADwvwAAAAAAAAAAAAAAAAAA8L8AAAAAAADwvwAAAACxCJlBAAAAAAAA8L8AAABIyo4TQgAAAAAAAPC/AAAAQF/QdUEAAAAQ4jb4QQAAAAAAAAAAAAAAAAAA8L8AAAA8U0wwQgAAAAAAAPC/AAAAAAAA8L8AAAAAo+GxQQAAAADQEnNBAAAASMqOE0IAAAAAAADwvwAAAAAAAPC/AAAAAPQGdEEAAAAAAAAAAOwNE4u0Gm1CAAAAAITXd0EAAAAAAADwvwAAAAAAAPC/AAAAAAAA8L8AAAAAAADwvwAAAADQDJRBAAAAAAAA8L8AAAAAAADwvwAAAACkeI9BAAAAIF+gAkIAAAAAhNenQQAAAAAAAAAAAAAAAAAA8L8AAAAAsQipQQAAAAD0BnRBAAAAUAKZmUEAAAAAAADwvwAAAID7Zd5BAAAAAPQGdEEAAAAAZc3NQQAAAAAAAPC/AAAAAAAA8L8AAAAA0BKjQQAAAACxCLlBAAAAAAAA8L8AAAAAAADwvwAAAAAAAPC/AAAAUpJNl0EAAAAAsQipQQAAAAAFVK9BAAAAAPQGtEEAAAAA9AaUQQAAAAYK1g5CAAAAAAAA8L8AAAAAAADwvwAAAAAAAPC/AAAAAPQGdEEAAAAAZc3NQQAAAAAAAPC/AABizHkwNEIAAAAAAADwvwAAAADndspBAAAAAAAA8L8AAAAAAADwvwAAACBfoPJBAAAAAPQGdEEAAAAAAADwvwAAAAAAAPC/AAAAAAAA8L8AAAAJ9bSZQQAAAAAAAPC/AAAAAAAA8L8AAAAAZc3NQQAAAAC+mJJBAAAAiNTEn0EAAAAAAADwvwAAAAAAAPC/AAAAAPQGhEEAAAAA9AaUQQAAAAAAAPC/AAAAAITXp0EAAAAAGPt0QQAAAAAAAPC/AAAAAPQGlEEAAAAA9AZ0QQAAAACxCNlBAAAAALEImUEAAAAAnGh0QQAAAACE15dBAAAAAAAA8L8AAAAAAADwvwAAAAAAAPC/AAAAAAAA8L8AAAAAAADwvwAAAEjKjhNCAAAAAPQGdEEAAAAAQgZyQQAAAAAAAPC/AAAABGv0JEIAAAAAsQipQQAAwGiieUVCAAAAAAAA8L8AAAAAhNeXQQAAwBCL0+pB5WGh//MGdEEAAAAA9AZ0QQAAAACxCKlB5WGh//MGdEHlYaH/8wZ0QQAAAAAAAPC/AAAAAAAA8L8AAAAAAADwvwAAAAAAAAAAAAAAwA0eqUEAAAAAAADwvwAAAAAAAPC/\",\"dtype\":\"float64\",\"shape\":[123]},\"ProofType\":[\"PoW/PoS\",\"PoS\",\"PoW\",\"PoW/PoS\",\"PoC\",\"PoW\",\"TPoS\",\"PoW/PoS\",\"PoW\",\"PoA\",\"PoW\",\"PoW\",\"PoW\",\"PoW\",\"PoW\",\"Zero-Knowledge Proof\",\" PoW/PoS/PoA\",\"SPoS\",\"PoW\",\"PoW/PoS\",\"PoW\",\"PoW\",\"DPOS\",\"PoW\",\"PoW/PoS\",\"PoW/PoS\",\"PoW\",\"PoS\",\"PoW\",\"PoW\",\"PoW/PoS\",\"PoW\",\"mPoW\",\"DPoS\",\"PoS\",\"PoW\",\"PoH\",\"dPoW\",\"PoW\",\"PoW/PoS\",\"PoW/PoS\",\"PoW\",\"Auxpow\",\"PoW\",\"PoW\",\"PoW\",\"DPoS+dBFT\",\"PoST\",\"PoW/PoS\",\"PoW\",\"PoW/PoS\",\"PoW\",\"PoW\",\"DPoS\",\"PoW\",\"PoW\",\"PoW\",\"PoW\",\"PoW\",\"PoW\",\"PoS\",\"PoA\",\"PoW/PoS\",\"PoW\",\"PoW/PoS\",\"LPoS\",\"Proof of Authority\",\"PoW\",\"PoW\",\"PoS\",\"PoW\",\"PoW\",\"PoW\",\"PoW\",\"DPoS\",\"PoW/PoS\",\"PoS\",\"PoW/PoS\",\"PoS\",\"PoS/LPoS\",\"PoW/nPoS\",\"PoW\",\"PoW\",\"PoW\",\"PoW\",\"PoW\",\"DPoS\",\"dPoW/PoW\",\"PoW/PoS\",\"PoS\",\"PoW/PoS\",\"PoW\",\"PoW\",\"PoW\",\"PoW\",\"PoW\",\"PoW\",\"DPoS\",\"PoW\",\"PoW\",\"PoW/PoS\",\"PoW\",\"PoW/PoS\",\"PoW/PoSe\",\"PoW/PoS\",\"PoS\",\"PoW\",\"PoW\",\"PoW/PoS\",\"PoS\",\"DPoS\",\"PoW\",\"PoW\",\"PoW/PoS\",\"PoW\",\"PoW\",\"PoSA\",\"DPoS\",\"PoW/PoS\",\"DPoS\",\"PoW\",\"PoW/PoS\",\"PoW\"],\"TotalCoinsMined\":{\"__ndarray__\":\"CYhJXkvJSUHXEsHJ3/X2QbDl4ouWxJNBPPTdjY+gBkEAAMD////fQQAAAAD8oipBSR3Kep1gnUEAAAAAZc3NQT2kAC0H05FBAAAAst1Ax0EfWwvDitQCQujsrYFCdKZBJHujMb8iTUF8CdSgdobmQQAAAACE13dBAAAAAGXNzUEAAOgTDwUtQgAAYJ+1DvZBAACA5Gzd1EGDtve0zfqbQRPbOMjkimRBAABA6ivkAEIAAAAAZc3NQQAAAACE15dB9yjjY8mNckEAAACg5ddgQewNE4u0Gm1CAAAAkOTddEF6nwSn8Q9tQZqZmdDWIatBeBEVLOpSsEEZEIB7rxpxQQAAAGDUSoJBFK7Xcoy50EEAAAAAZc3NQbuf8sB6vY5BAAAAAKPhkUF3vr+ZJDWmQQAAAACHdH1BJf7Igc3c/0EAAAAA3jm6QfV00XVkZZ9AAAAAUDrPl0EfF3A1di8fQsdoiToYxLhBAAAAAPQGdEHobtzS7cHGQWSlM0C1MYBB3jjJMC3fhkEZDO2jx6GgQfySlQmIBKtBi4JNAfVq2kFzYm3l8Rl2QfPAXS39z2xCAAAAKAI3hEEAAAAYBO2ZQR2NwXagk5BBMfUDfNisrUHBd4gevVyNQQp+7/uBsA5ChevRDvDxpUGUPmD18lqxQY4/fqjIDJFBIF/EJiH7ZUEAAACTUfrLQQAAAIiSSJlBAAAZmxsFNEJJ7NSWsVmIQdtfD1+FbMJBAAAAnE8UoEHP95NZvRK3QaL8fgAqOORBfjMFmJp8ckEAACDTZagmQgAAAOBDTWxB/gtGa3qML0EAAADI8biYQVJ+1DZH6o9BAAAAAGXNzUFABvi7w8XNQWHC2LHfB5FBAAAAiNTEn0EAAACwntxwQZvsv/GhJnFBQN7xJILmgkEdE+92vFCQQQAAAKSMQ6FBa4wSbArinkFx65av0jFyQXEdtssQ58pBBOahKvF9hUEAAAAwdeBlQd/6pc7tGcBBpq+M35+qkkH9cl0JIF5nQVyPwv/hi4BB2/k+NIb5m0FX7GeE+8jOQfH//zR5dapBibR/NU59PkJHSoPfqAL+QUZO7Qk0PwtCkJN3WaJOaUH9CoAwzKxjQVS7MDqQt1VBnMDCuasdHkIAAKCn/lTZQTqMMOKOeUVCxEFht3mAXkFelsVueQaNQapl/VR3T+ZBm81O2iT1cUFmL8bFVfNxQQAAAILG+adBXz9ZLuv1cUEAAADgg+5xQc3MzJciC6RBAQAAXEUHo0EAAACGwYS9QQAAAABlzc1BdkRse2qLnkEPV7ka01IcQk1i0H9KcJJB\",\"dtype\":\"float64\",\"shape\":[123]},\"target\":{\"__ndarray__\":\"AAAAAAAAAAAAAAAAAAAAAAAAAAAAAAAAAAAAAAAAAAAAAAAAAAAAAAAAAAAAAAAAAAAAAAAAAAAAAAAAAAAAAAAAAAAAAAAAAAAAAAAAAAAAAAAAAAAAAAAAAAAAAAAAAAAAAAAAAAAAAAAAAAAAAAAAAAAAAAAAAAAAAAAAAAAAAAAAAAAAAAAAAAAAAAAAAQAAAAAAAAAAAAAAAAAAAAAAAAAAAAAAAAAAAAAAAAAAAAAAAAAAAAAAAAAAAAAAAAAAAAAAAAAAAAAAAAAAAAAAAAAAAAAAAAAAAAAAAAAAAAAAAAAAAAAAAAAAAAAAAAAAAAAAAAAAAAAAAAAAAAAAAAAAAAAAAgAAAAAAAAAAAAAAAAAAAAAAAAAAAAAAAAAAAAAAAAAAAAAAAAAAAAAAAAAAAAAAAAAAAAAAAAADAAAAAAAAAAAAAAAAAAAAAAAAAAAAAAAAAAAAAAAAAAAAAAAAAAAAAAAAAAAAAAAAAAAAAAAAAAAAAAAAAAAAAAAAAAAAAAAAAAAAAAAAAAAAAAAAAAAAAAAAAAAAAAAAAAAAAAAAAAAAAAAAAAAAAAAAAAAAAAAAAAAAAAAAAAAAAAAAAAAAAAAAAAAAAAAAAAAAAAAAAAAAAAAAAAAAAAAAAAAAAAAAAAAA\",\"dtype\":\"int32\",\"shape\":[123]}},\"selected\":{\"id\":\"1918\"},\"selection_policy\":{\"id\":\"1952\"}},\"id\":\"1917\",\"type\":\"ColumnDataSource\"},{\"attributes\":{\"margin\":[5,5,5,5],\"name\":\"HSpacer03414\",\"sizing_mode\":\"stretch_width\"},\"id\":\"1916\",\"type\":\"Spacer\"},{\"attributes\":{},\"id\":\"1952\",\"type\":\"UnionRenderers\"},{\"attributes\":{},\"id\":\"1934\",\"type\":\"StringFormatter\"},{\"attributes\":{},\"id\":\"1940\",\"type\":\"StringEditor\"},{\"attributes\":{\"editor\":{\"id\":\"1920\"},\"field\":\"CoinName\",\"formatter\":{\"id\":\"1919\"},\"title\":\"CoinName\"},\"id\":\"1921\",\"type\":\"TableColumn\"},{\"attributes\":{\"columns\":[{\"id\":\"1921\"},{\"id\":\"1926\"},{\"id\":\"1931\"},{\"id\":\"1936\"},{\"id\":\"1941\"},{\"id\":\"1946\"}],\"height\":300,\"reorderable\":false,\"source\":{\"id\":\"1917\"},\"view\":{\"id\":\"1950\"},\"width\":700},\"id\":\"1949\",\"type\":\"DataTable\"},{\"attributes\":{},\"id\":\"1945\",\"type\":\"IntEditor\"},{\"attributes\":{},\"id\":\"1944\",\"type\":\"NumberFormatter\"},{\"attributes\":{\"editor\":{\"id\":\"1935\"},\"field\":\"MaxSupply\",\"formatter\":{\"id\":\"1934\"},\"title\":\"MaxSupply\"},\"id\":\"1936\",\"type\":\"TableColumn\"},{\"attributes\":{\"source\":{\"id\":\"1917\"}},\"id\":\"1950\",\"type\":\"CDSView\"},{\"attributes\":{},\"id\":\"1920\",\"type\":\"StringEditor\"},{\"attributes\":{\"editor\":{\"id\":\"1925\"},\"field\":\"Algorithm\",\"formatter\":{\"id\":\"1924\"},\"title\":\"Algorithm\"},\"id\":\"1926\",\"type\":\"TableColumn\"},{\"attributes\":{},\"id\":\"1918\",\"type\":\"Selection\"},{\"attributes\":{},\"id\":\"1924\",\"type\":\"StringFormatter\"},{\"attributes\":{},\"id\":\"1929\",\"type\":\"StringFormatter\"},{\"attributes\":{},\"id\":\"1939\",\"type\":\"StringFormatter\"},{\"attributes\":{},\"id\":\"1935\",\"type\":\"StringEditor\"},{\"attributes\":{},\"id\":\"1919\",\"type\":\"StringFormatter\"},{\"attributes\":{},\"id\":\"1930\",\"type\":\"StringEditor\"},{\"attributes\":{\"margin\":[5,5,5,5],\"name\":\"HSpacer03415\",\"sizing_mode\":\"stretch_width\"},\"id\":\"1953\",\"type\":\"Spacer\"},{\"attributes\":{\"editor\":{\"id\":\"1940\"},\"field\":\"TotalCoinsMined\",\"formatter\":{\"id\":\"1939\"},\"title\":\"TotalCoinsMined\"},\"id\":\"1941\",\"type\":\"TableColumn\"},{\"attributes\":{\"editor\":{\"id\":\"1945\"},\"field\":\"target\",\"formatter\":{\"id\":\"1944\"},\"title\":\"target\"},\"id\":\"1946\",\"type\":\"TableColumn\"},{\"attributes\":{},\"id\":\"1925\",\"type\":\"StringEditor\"},{\"attributes\":{\"editor\":{\"id\":\"1930\"},\"field\":\"ProofType\",\"formatter\":{\"id\":\"1929\"},\"title\":\"ProofType\"},\"id\":\"1931\",\"type\":\"TableColumn\"},{\"attributes\":{\"children\":[{\"id\":\"1916\"},{\"id\":\"1949\"},{\"id\":\"1953\"}],\"margin\":[0,0,0,0],\"name\":\"Row03410\",\"tags\":[\"embedded\"]},\"id\":\"1915\",\"type\":\"Row\"}],\"root_ids\":[\"1915\"]},\"title\":\"Bokeh Application\",\"version\":\"2.0.2\"}};\n",
       "  var render_items = [{\"docid\":\"50b49259-51bc-43a7-9ea8-cb29ef46725a\",\"root_ids\":[\"1915\"],\"roots\":{\"1915\":\"76126dfa-ba21-4f66-937f-585991271895\"}}];\n",
       "  root.Bokeh.embed.embed_items_notebook(docs_json, render_items);\n",
       "  }\n",
       "if (root.Bokeh !== undefined) {\n",
       "    embed_document(root);\n",
       "  } else {\n",
       "    var attempts = 0;\n",
       "    var timer = setInterval(function(root) {\n",
       "      if (root.Bokeh !== undefined) {\n",
       "        clearInterval(timer);\n",
       "        embed_document(root);\n",
       "      } else if (document.readyState == \"complete\") {\n",
       "        attempts++;\n",
       "        if (attempts > 100) {\n",
       "          clearInterval(timer);\n",
       "          console.log(\"Bokeh: ERROR: Unable to run BokehJS code because BokehJS library is missing\");\n",
       "        }\n",
       "      }\n",
       "    }, 10, root)\n",
       "  }\n",
       "})(window);</script>"
      ]
     },
     "metadata": {
      "application/vnd.holoviews_exec.v0+json": {
       "id": "1915"
      }
     },
     "execution_count": 224
    }
   ],
   "metadata": {}
  },
  {
   "cell_type": "code",
   "execution_count": 225,
   "source": [
    "# Print the total number of tradable cryptocurrencies\r\n",
    "print(f\"Total Amount of Tradable CryptoCurrencies: {table_crypto_df.shape[0]}\")"
   ],
   "outputs": [
    {
     "output_type": "stream",
     "name": "stdout",
     "text": [
      "Total Amount of Tradable CryptoCurrencies: 123\n"
     ]
    }
   ],
   "metadata": {}
  },
  {
   "cell_type": "markdown",
   "source": [
    "#### Scatter Plot with Tradable Cryptocurrencies"
   ],
   "metadata": {}
  },
  {
   "cell_type": "code",
   "execution_count": 226,
   "source": [
    "# Scale data to create the scatter plot\r\n",
    "mm_scaler = MinMaxScaler()\r\n",
    "scatter_crypto = mm_scaler.fit_transform(table_crypto_df[['TotalCoinsMined', 'MaxSupply']].copy())"
   ],
   "outputs": [],
   "metadata": {}
  },
  {
   "cell_type": "code",
   "execution_count": 227,
   "source": [
    "scatter_crypto_df = pd.DataFrame(scatter_crypto, index=table_crypto_df['CoinName'], columns=['TotalCoinsMined', 'MaxSupply'])\r\n",
    "scatter_crypto_df"
   ],
   "outputs": [
    {
     "output_type": "execute_result",
     "data": {
      "text/plain": [
       "                  TotalCoinsMined     MaxSupply\n",
       "CoinName                                       \n",
       "NovaCoin             3.377797e-06  0.000000e+00\n",
       "NuShares             6.163293e-03  9.999833e-13\n",
       "MonaCoin             8.290928e-05  0.000000e+00\n",
       "Triangles Coin       1.833495e-07  9.999833e-13\n",
       "SafeExchangeCoin     2.147446e-03  0.000000e+00\n",
       "...                           ...           ...\n",
       "Aion                 4.952293e-04  0.000000e+00\n",
       "Achain               9.999813e-04  9.999833e-13\n",
       "Ethereum Classic     1.281092e-04  2.106965e-04\n",
       "Reddcoin             3.041165e-02  0.000000e+00\n",
       "Grin                 7.733394e-05  0.000000e+00\n",
       "\n",
       "[123 rows x 2 columns]"
      ],
      "text/html": [
       "<div>\n",
       "<style scoped>\n",
       "    .dataframe tbody tr th:only-of-type {\n",
       "        vertical-align: middle;\n",
       "    }\n",
       "\n",
       "    .dataframe tbody tr th {\n",
       "        vertical-align: top;\n",
       "    }\n",
       "\n",
       "    .dataframe thead th {\n",
       "        text-align: right;\n",
       "    }\n",
       "</style>\n",
       "<table border=\"1\" class=\"dataframe\">\n",
       "  <thead>\n",
       "    <tr style=\"text-align: right;\">\n",
       "      <th></th>\n",
       "      <th>TotalCoinsMined</th>\n",
       "      <th>MaxSupply</th>\n",
       "    </tr>\n",
       "    <tr>\n",
       "      <th>CoinName</th>\n",
       "      <th></th>\n",
       "      <th></th>\n",
       "    </tr>\n",
       "  </thead>\n",
       "  <tbody>\n",
       "    <tr>\n",
       "      <th>NovaCoin</th>\n",
       "      <td>3.377797e-06</td>\n",
       "      <td>0.000000e+00</td>\n",
       "    </tr>\n",
       "    <tr>\n",
       "      <th>NuShares</th>\n",
       "      <td>6.163293e-03</td>\n",
       "      <td>9.999833e-13</td>\n",
       "    </tr>\n",
       "    <tr>\n",
       "      <th>MonaCoin</th>\n",
       "      <td>8.290928e-05</td>\n",
       "      <td>0.000000e+00</td>\n",
       "    </tr>\n",
       "    <tr>\n",
       "      <th>Triangles Coin</th>\n",
       "      <td>1.833495e-07</td>\n",
       "      <td>9.999833e-13</td>\n",
       "    </tr>\n",
       "    <tr>\n",
       "      <th>SafeExchangeCoin</th>\n",
       "      <td>2.147446e-03</td>\n",
       "      <td>0.000000e+00</td>\n",
       "    </tr>\n",
       "    <tr>\n",
       "      <th>...</th>\n",
       "      <td>...</td>\n",
       "      <td>...</td>\n",
       "    </tr>\n",
       "    <tr>\n",
       "      <th>Aion</th>\n",
       "      <td>4.952293e-04</td>\n",
       "      <td>0.000000e+00</td>\n",
       "    </tr>\n",
       "    <tr>\n",
       "      <th>Achain</th>\n",
       "      <td>9.999813e-04</td>\n",
       "      <td>9.999833e-13</td>\n",
       "    </tr>\n",
       "    <tr>\n",
       "      <th>Ethereum Classic</th>\n",
       "      <td>1.281092e-04</td>\n",
       "      <td>2.106965e-04</td>\n",
       "    </tr>\n",
       "    <tr>\n",
       "      <th>Reddcoin</th>\n",
       "      <td>3.041165e-02</td>\n",
       "      <td>0.000000e+00</td>\n",
       "    </tr>\n",
       "    <tr>\n",
       "      <th>Grin</th>\n",
       "      <td>7.733394e-05</td>\n",
       "      <td>0.000000e+00</td>\n",
       "    </tr>\n",
       "  </tbody>\n",
       "</table>\n",
       "<p>123 rows × 2 columns</p>\n",
       "</div>"
      ]
     },
     "metadata": {},
     "execution_count": 227
    }
   ],
   "metadata": {}
  },
  {
   "cell_type": "code",
   "execution_count": 228,
   "source": [
    "# Plot the scatter with x=\"TotalCoinsMined\" and y=\"TotalCoinSupply\"\r\n",
    "scatter_crypto_df.hvplot.scatter(\r\n",
    "    x='TotalCoinsMined',\r\n",
    "    y='MaxSupply'\r\n",
    ")"
   ],
   "outputs": [
    {
     "output_type": "display_data",
     "data": {},
     "metadata": {}
    },
    {
     "output_type": "execute_result",
     "data": {
      "application/vnd.holoviews_exec.v0+json": "",
      "text/plain": [
       ":Scatter   [TotalCoinsMined]   (MaxSupply)"
      ],
      "text/html": [
       "<div id='1965'>\n",
       "\n",
       "\n",
       "\n",
       "\n",
       "\n",
       "  <div class=\"bk-root\" id=\"faf85009-3911-494b-9baf-faf0d6225aad\" data-root-id=\"1965\"></div>\n",
       "</div>\n",
       "<script type=\"application/javascript\">(function(root) {\n",
       "  function embed_document(root) {\n",
       "  var docs_json = {\"7a36f9aa-d4b7-4941-82e9-b23321080580\":{\"roots\":{\"references\":[{\"attributes\":{\"margin\":[5,5,5,5],\"name\":\"HSpacer03533\",\"sizing_mode\":\"stretch_width\"},\"id\":\"2020\",\"type\":\"Spacer\"},{\"attributes\":{\"axis_label\":\"MaxSupply\",\"bounds\":\"auto\",\"formatter\":{\"id\":\"2011\"},\"major_label_orientation\":\"horizontal\",\"ticker\":{\"id\":\"1984\"}},\"id\":\"1983\",\"type\":\"LinearAxis\"},{\"attributes\":{\"fill_alpha\":{\"value\":0.2},\"fill_color\":{\"value\":\"#1f77b3\"},\"line_alpha\":{\"value\":0.2},\"line_color\":{\"value\":\"#1f77b3\"},\"size\":{\"units\":\"screen\",\"value\":5.477225575051661},\"x\":{\"field\":\"TotalCoinsMined\"},\"y\":{\"field\":\"MaxSupply\"}},\"id\":\"2005\",\"type\":\"Scatter\"},{\"attributes\":{\"margin\":[5,5,5,5],\"name\":\"HSpacer03532\",\"sizing_mode\":\"stretch_width\"},\"id\":\"1966\",\"type\":\"Spacer\"},{\"attributes\":{\"data\":{\"MaxSupply\":{\"__ndarray__\":\"AAAAAAAAAABp8ls3hpdxPQAAAAAAAAAAafJbN4aXcT0AAAAAAAAAAGnyWzeGl3E9AAAAAAAAAAAAAAAAAAAAALT+PRpQhhs/AAAAAAAAAACoPBWR7oCVPwAAAAAAAAAAQOEaxfr79z6grfVFoZ96P2nyWzeGl3E9AAAAAAAAAAAdd+R4ceuxPwAAAAAAAAAAAAAAAAAAAADs+vyiFKkzPzDNI5ye+PQ+qDwVke6AlT8AAAAAAAAAAAAAAAAAAAAA7wPe7wwF9j5p8ls3hpdxPQEAAAAAAPA/7t7GPsY2+j4AAAAAAAAAAAAAAAAAAAAAAAAAAAAAAAAAAAAAAAAAADIlEyB+CxY/AAAAAAAAAAAAAAAAAAAAAOho5mkcTRE/EslV08p6hD9+SWIvxjYqP2nyWzeGl3E9AAAAAAAAAADtDQsYUIYrP+8D3u8MBfY+kFE9Of0kHD8AAAAAAAAAAJr3ilYetmA/7wPe7wwF9j6L9YPcO2JQPwAAAAAAAAAAAAAAAAAAAADAN7+MnvgkP4mV8RZQhjs/AAAAAAAAAAAAAAAAAAAAAAAAAAAAAAAAhsG1ChufGT/tDQsYUIYrPzvVuIb6ODE/G/Zf3wwFNj9GX6ziDAUWP4EqI6i485A/AAAAAAAAAAAAAAAAAAAAAAAAAAAAAAAA7wPe7wwF9j6L9YPcO2JQPwAAAAAAAAAAUs54QrQytj8AAAAAAAAAAHgr/JP1GE0/AAAAAAAAAAAAAAAAAAAAANWUXtPKenQ/7wPe7wwF9j4AAAAAAAAAAAAAAAAAAAAAAAAAAAAAAADowfDKt0McPwAAAAAAAAAAAAAAAAAAAACL9YPcO2JQPycNFWVnchQ/9j+E9P52IT8AAAAAAAAAAAAAAAAAAAAA1EAS5wwFBj9GX6ziDAUWPwAAAAAAAAAAfkliL8Y2Kj+vOphDexH3PgAAAAAAAAAARl+s4gwFFj/vA97vDAX2Pj97HhZQhls/tP49GlCGGz+i5o5EbHD2PkU6lTHGNho/AAAAAAAAAAAAAAAAAAAAAAAAAAAAAAAAAAAAAAAAAAAAAAAAAAAAAKg8FZHugJU/7wPe7wwF9j7DXT1zWNHzPgAAAAAAAAAA6s+4LSQKpz/tDQsYUIYrP3TVBqGcnMc/AAAAAAAAAABFOpUxxjYaP/RG2zrRfm0/5ft17wwF9j7vA97vDAX2Pu0NCxhQhis/5ft17wwF9j7l+3XvDAX2PgAAAAAAAAAAAAAAAAAAAAAAAAAAAAAAAGnyWzeGl3E9hb+R8sydKz8AAAAAAAAAAAAAAAAAAAAA\",\"dtype\":\"float64\",\"shape\":[123]},\"TotalCoinsMined\":{\"__ndarray__\":\"XROcecNVzD60S8ZHrj55P2Qd6I/yuxU/kkRZg9ebiD7XL6gjhZdhP+uV5NQqOK0++qTAhV0mID9uHXq0OWJQP0aKKzTimBM/RA5QeR6RST9eZab9JrSEP/r6G/casCg/Km0TbEMC0D6Wpi3rLsRoPzKu1Rk8Nvo+bh16tDliUD8jwwkiM+ivP76spUmEQHg/H6OKRdrwVj8Sa+e2UcMePyeQeA4KleY+BitOdGWSgj9uHXq0OWJQP+KuAqmjNho/2NXcptFl9D6n8Kej0oPiPgAAAAAAAPA/Bvkl7dXw9j4ssb7cFvPvPntAtfDV1C0/AKYRn6fyMT9TqWeyy83yPryj1kJ4HAQ/qwOle4ZjUj9uHXq0OWJQP8FN4rsV5hA/GkN+HfKoEz+u4vp0tWooP0EKYBYcMQA/1fD3dSyEgT8qGjZe0dU8PwAAAAAAAAAARpEP4YYtGj99YjN+4SShP2ocfYLbOjs/apzIyoIE9j6VkJt7jQVJP9xrloHozQE/mmtKEXUlCT9u/dAsVUkiP0GD8K+ctC0/h+ZzLdELXT/aUwExVUz4PmQFJpfZre8/5bge+J05Bj+7or8mOIEcPz5j10G0ORI/GkjVdU5QMD+rpUC3KiQQP+eGeIkW35A/vP27LdEgKD9RJ8Ju9RQzP8+WXVrqvhI/YGSqfekp6D7+eKtv58JOPz58iipqzBs/feR6cQUDtj8Bb3pmosUKPx9lWhzEQUQ/elje5MmtIT9Lt4j2Yl45P/Ib2DUnO2Y/LgB5NO1S9D6N6phxf+moPxBdK5AKHe8+b9RR+mJPsT7I7p0sfy4bP/Wu9KxyixE/bh16tDliUD/rNlznB15QP7TKhVSEuRI/sppgsO12IT+0WwkTjonyPi/kf3Tu2vI+ygX6NaPHBD+TBSqJKPARP51qHX0y+yI/XsybcED6ID9lhZKbtAD0PmsYk+NDlE0/TpccERShBz/FadMwlgzoPiffsiAEtEE/+ymGM+6FFD8yptc1OrDpPpU14AcOMQI/1wOZoOnBHj+fT1D4iOxQP9fXCiJSFy0/Ydsus/DCwD/tvC7eg3+AP5wIPBEw9Y0/9wzTvSLS6z7yrhWe2KDlPvHNUnuL3tc+ZRKpfF2OoD9P/IENM9pbP2BlnyWHnMc/lOmfrprD4D5X8VKRfOkPP/tv49O2h2g/kABlQ/298z7DbxUcALzzPn3euQhgXCo/afHoUte+8z6xn5tys7bzPtgqlLiUCSY/z548rdzrJD8Q7EW/SDpAP24derQ5YlA/zq62SqHKID9xbuBqOySfP3CWvw7LRRQ/\",\"dtype\":\"float64\",\"shape\":[123]}},\"selected\":{\"id\":\"2001\"},\"selection_policy\":{\"id\":\"2019\"}},\"id\":\"2000\",\"type\":\"ColumnDataSource\"},{\"attributes\":{\"fill_color\":{\"value\":\"#1f77b3\"},\"line_color\":{\"value\":\"#1f77b3\"},\"size\":{\"units\":\"screen\",\"value\":5.477225575051661},\"x\":{\"field\":\"TotalCoinsMined\"},\"y\":{\"field\":\"MaxSupply\"}},\"id\":\"2003\",\"type\":\"Scatter\"},{\"attributes\":{\"text\":\"\",\"text_color\":{\"value\":\"black\"},\"text_font_size\":{\"value\":\"12pt\"}},\"id\":\"1971\",\"type\":\"Title\"},{\"attributes\":{\"below\":[{\"id\":\"1979\"}],\"center\":[{\"id\":\"1982\"},{\"id\":\"1986\"}],\"left\":[{\"id\":\"1983\"}],\"margin\":null,\"min_border_bottom\":10,\"min_border_left\":10,\"min_border_right\":10,\"min_border_top\":10,\"plot_height\":300,\"plot_width\":700,\"renderers\":[{\"id\":\"2006\"}],\"sizing_mode\":\"fixed\",\"title\":{\"id\":\"1971\"},\"toolbar\":{\"id\":\"1993\"},\"x_range\":{\"id\":\"1967\"},\"x_scale\":{\"id\":\"1975\"},\"y_range\":{\"id\":\"1968\"},\"y_scale\":{\"id\":\"1977\"}},\"id\":\"1970\",\"subtype\":\"Figure\",\"type\":\"Plot\"},{\"attributes\":{\"overlay\":{\"id\":\"1992\"}},\"id\":\"1990\",\"type\":\"BoxZoomTool\"},{\"attributes\":{},\"id\":\"1984\",\"type\":\"BasicTicker\"},{\"attributes\":{},\"id\":\"2009\",\"type\":\"BasicTickFormatter\"},{\"attributes\":{},\"id\":\"1980\",\"type\":\"BasicTicker\"},{\"attributes\":{\"data_source\":{\"id\":\"2000\"},\"glyph\":{\"id\":\"2003\"},\"hover_glyph\":null,\"muted_glyph\":{\"id\":\"2005\"},\"nonselection_glyph\":{\"id\":\"2004\"},\"selection_glyph\":null,\"view\":{\"id\":\"2007\"}},\"id\":\"2006\",\"type\":\"GlyphRenderer\"},{\"attributes\":{\"axis_label\":\"TotalCoinsMined\",\"bounds\":\"auto\",\"formatter\":{\"id\":\"2009\"},\"major_label_orientation\":\"horizontal\",\"ticker\":{\"id\":\"1980\"}},\"id\":\"1979\",\"type\":\"LinearAxis\"},{\"attributes\":{},\"id\":\"1987\",\"type\":\"SaveTool\"},{\"attributes\":{\"end\":1.042857142857143,\"reset_end\":1.042857142857143,\"reset_start\":-0.04285714285714286,\"start\":-0.04285714285714286,\"tags\":[[[\"TotalCoinsMined\",\"TotalCoinsMined\",null]]]},\"id\":\"1967\",\"type\":\"Range1d\"},{\"attributes\":{},\"id\":\"1988\",\"type\":\"PanTool\"},{\"attributes\":{\"source\":{\"id\":\"2000\"}},\"id\":\"2007\",\"type\":\"CDSView\"},{\"attributes\":{\"end\":1.1000000000000003,\"reset_end\":1.1000000000000003,\"reset_start\":-0.10000000000000003,\"start\":-0.10000000000000003,\"tags\":[[[\"MaxSupply\",\"MaxSupply\",null]]]},\"id\":\"1968\",\"type\":\"Range1d\"},{\"attributes\":{},\"id\":\"2001\",\"type\":\"Selection\"},{\"attributes\":{\"children\":[{\"id\":\"1966\"},{\"id\":\"1970\"},{\"id\":\"2020\"}],\"margin\":[0,0,0,0],\"name\":\"Row03528\",\"tags\":[\"embedded\"]},\"id\":\"1965\",\"type\":\"Row\"},{\"attributes\":{\"axis\":{\"id\":\"1979\"},\"grid_line_color\":null,\"ticker\":null},\"id\":\"1982\",\"type\":\"Grid\"},{\"attributes\":{},\"id\":\"1977\",\"type\":\"LinearScale\"},{\"attributes\":{\"axis\":{\"id\":\"1983\"},\"dimension\":1,\"grid_line_color\":null,\"ticker\":null},\"id\":\"1986\",\"type\":\"Grid\"},{\"attributes\":{\"callback\":null,\"renderers\":[{\"id\":\"2006\"}],\"tags\":[\"hv_created\"],\"tooltips\":[[\"TotalCoinsMined\",\"@{TotalCoinsMined}\"],[\"MaxSupply\",\"@{MaxSupply}\"]]},\"id\":\"1969\",\"type\":\"HoverTool\"},{\"attributes\":{\"fill_alpha\":{\"value\":0.1},\"fill_color\":{\"value\":\"#1f77b3\"},\"line_alpha\":{\"value\":0.1},\"line_color\":{\"value\":\"#1f77b3\"},\"size\":{\"units\":\"screen\",\"value\":5.477225575051661},\"x\":{\"field\":\"TotalCoinsMined\"},\"y\":{\"field\":\"MaxSupply\"}},\"id\":\"2004\",\"type\":\"Scatter\"},{\"attributes\":{},\"id\":\"2011\",\"type\":\"BasicTickFormatter\"},{\"attributes\":{\"bottom_units\":\"screen\",\"fill_alpha\":0.5,\"fill_color\":\"lightgrey\",\"left_units\":\"screen\",\"level\":\"overlay\",\"line_alpha\":1.0,\"line_color\":\"black\",\"line_dash\":[4,4],\"line_width\":2,\"render_mode\":\"css\",\"right_units\":\"screen\",\"top_units\":\"screen\"},\"id\":\"1992\",\"type\":\"BoxAnnotation\"},{\"attributes\":{\"active_drag\":\"auto\",\"active_inspect\":\"auto\",\"active_multi\":null,\"active_scroll\":\"auto\",\"active_tap\":\"auto\",\"tools\":[{\"id\":\"1969\"},{\"id\":\"1987\"},{\"id\":\"1988\"},{\"id\":\"1989\"},{\"id\":\"1990\"},{\"id\":\"1991\"}]},\"id\":\"1993\",\"type\":\"Toolbar\"},{\"attributes\":{},\"id\":\"1989\",\"type\":\"WheelZoomTool\"},{\"attributes\":{},\"id\":\"1975\",\"type\":\"LinearScale\"},{\"attributes\":{},\"id\":\"2019\",\"type\":\"UnionRenderers\"},{\"attributes\":{},\"id\":\"1991\",\"type\":\"ResetTool\"}],\"root_ids\":[\"1965\"]},\"title\":\"Bokeh Application\",\"version\":\"2.0.2\"}};\n",
       "  var render_items = [{\"docid\":\"7a36f9aa-d4b7-4941-82e9-b23321080580\",\"root_ids\":[\"1965\"],\"roots\":{\"1965\":\"faf85009-3911-494b-9baf-faf0d6225aad\"}}];\n",
       "  root.Bokeh.embed.embed_items_notebook(docs_json, render_items);\n",
       "  }\n",
       "if (root.Bokeh !== undefined) {\n",
       "    embed_document(root);\n",
       "  } else {\n",
       "    var attempts = 0;\n",
       "    var timer = setInterval(function(root) {\n",
       "      if (root.Bokeh !== undefined) {\n",
       "        clearInterval(timer);\n",
       "        embed_document(root);\n",
       "      } else if (document.readyState == \"complete\") {\n",
       "        attempts++;\n",
       "        if (attempts > 100) {\n",
       "          clearInterval(timer);\n",
       "          console.log(\"Bokeh: ERROR: Unable to run BokehJS code because BokehJS library is missing\");\n",
       "        }\n",
       "      }\n",
       "    }, 10, root)\n",
       "  }\n",
       "})(window);</script>"
      ]
     },
     "metadata": {
      "application/vnd.holoviews_exec.v0+json": {
       "id": "1965"
      }
     },
     "execution_count": 228
    }
   ],
   "metadata": {}
  }
 ],
 "metadata": {
  "file_extension": ".py",
  "kernelspec": {
   "name": "python3",
   "display_name": "Python 3.7.11 64-bit ('machineLearning': conda)"
  },
  "language_info": {
   "codemirror_mode": {
    "name": "ipython",
    "version": 3
   },
   "file_extension": ".py",
   "mimetype": "text/x-python",
   "name": "python",
   "nbconvert_exporter": "python",
   "pygments_lexer": "ipython3",
   "version": "3.7.11"
  },
  "mimetype": "text/x-python",
  "name": "python",
  "npconvert_exporter": "python",
  "pygments_lexer": "ipython3",
  "version": 3,
  "interpreter": {
   "hash": "15d6f6cf85598009a90599770be6a6b7799a460854b6a0a49d07b2b60db6e76d"
  }
 },
 "nbformat": 4,
 "nbformat_minor": 4
}