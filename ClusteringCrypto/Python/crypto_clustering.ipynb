{
 "cells": [
  {
   "cell_type": "markdown",
   "source": [
    "# Clustering Crypto"
   ],
   "metadata": {}
  },
  {
   "cell_type": "code",
   "execution_count": 133,
   "source": [
    "# Initial imports\r\n",
    "import requests\r\n",
    "import pandas as pd\r\n",
    "import matplotlib.pyplot as plt\r\n",
    "import hvplot.pandas\r\n",
    "import plotly.express as px\r\n",
    "from sklearn.preprocessing import StandardScaler, MinMaxScaler\r\n",
    "from sklearn.decomposition import PCA\r\n",
    "from sklearn.cluster import KMeans"
   ],
   "outputs": [],
   "metadata": {}
  },
  {
   "cell_type": "markdown",
   "source": [
    "### Fetching Cryptocurrency Data"
   ],
   "metadata": {}
  },
  {
   "cell_type": "code",
   "execution_count": 134,
   "source": [
    "# Use the following endpoint to fetch json data\r\n",
    "url = \"https://min-api.cryptocompare.com/data/all/coinlist\"\r\n",
    "response = requests.get(url).json()"
   ],
   "outputs": [],
   "metadata": {}
  },
  {
   "cell_type": "code",
   "execution_count": 135,
   "source": [
    "# Create a DataFrame \r\n",
    "# HINT: You will need to use the 'Data' key from the json response, then transpose the DataFrame.\r\n",
    "crypto_df = pd.DataFrame(response['Data']).T\r\n",
    "crypto_df.columns"
   ],
   "outputs": [
    {
     "output_type": "execute_result",
     "data": {
      "text/plain": [
       "Index(['Id', 'Url', 'ImageUrl', 'ContentCreatedOn', 'Name', 'Symbol',\n",
       "       'CoinName', 'FullName', 'Description', 'AssetTokenStatus', 'Algorithm',\n",
       "       'ProofType', 'SortOrder', 'Sponsored', 'Taxonomy', 'Rating',\n",
       "       'IsTrading', 'TotalCoinsMined', 'CirculatingSupply', 'BlockNumber',\n",
       "       'NetHashesPerSecond', 'BlockReward', 'BlockTime', 'AssetLaunchDate',\n",
       "       'MaxSupply', 'MktCapPenalty', 'IsUsedInDefi', 'IsUsedInNft',\n",
       "       'PlatformType', 'BuiltOn', 'SmartContractAddress', 'DecimalPoints',\n",
       "       'Difficulty', 'assetWhitepaperUrl'],\n",
       "      dtype='object')"
      ]
     },
     "metadata": {},
     "execution_count": 135
    }
   ],
   "metadata": {}
  },
  {
   "cell_type": "code",
   "execution_count": 136,
   "source": [
    "# Alternatively, use the provided csv file:\r\n",
    "from pathlib import Path\r\n",
    "file_path = Path(\"../Data/crypto_data.csv\")\r\n",
    "\r\n",
    "# Create a DataFrame\r\n",
    "crypto_df_CSV = pd.read_csv(file_path)\r\n",
    "crypto_df_CSV.head()"
   ],
   "outputs": [
    {
     "output_type": "execute_result",
     "data": {
      "text/plain": [
       "  Unnamed: 0   CoinName Algorithm  IsTrading ProofType  TotalCoinsMined  \\\n",
       "0         42    42 Coin    Scrypt       True   PoW/PoS     4.199995e+01   \n",
       "1        365    365Coin       X11       True   PoW/PoS              NaN   \n",
       "2        404    404Coin    Scrypt       True   PoW/PoS     1.055185e+09   \n",
       "3        611  SixEleven   SHA-256       True       PoW              NaN   \n",
       "4        808        808   SHA-256       True   PoW/PoS     0.000000e+00   \n",
       "\n",
       "  TotalCoinSupply  \n",
       "0              42  \n",
       "1      2300000000  \n",
       "2       532000000  \n",
       "3          611000  \n",
       "4               0  "
      ],
      "text/html": [
       "<div>\n",
       "<style scoped>\n",
       "    .dataframe tbody tr th:only-of-type {\n",
       "        vertical-align: middle;\n",
       "    }\n",
       "\n",
       "    .dataframe tbody tr th {\n",
       "        vertical-align: top;\n",
       "    }\n",
       "\n",
       "    .dataframe thead th {\n",
       "        text-align: right;\n",
       "    }\n",
       "</style>\n",
       "<table border=\"1\" class=\"dataframe\">\n",
       "  <thead>\n",
       "    <tr style=\"text-align: right;\">\n",
       "      <th></th>\n",
       "      <th>Unnamed: 0</th>\n",
       "      <th>CoinName</th>\n",
       "      <th>Algorithm</th>\n",
       "      <th>IsTrading</th>\n",
       "      <th>ProofType</th>\n",
       "      <th>TotalCoinsMined</th>\n",
       "      <th>TotalCoinSupply</th>\n",
       "    </tr>\n",
       "  </thead>\n",
       "  <tbody>\n",
       "    <tr>\n",
       "      <th>0</th>\n",
       "      <td>42</td>\n",
       "      <td>42 Coin</td>\n",
       "      <td>Scrypt</td>\n",
       "      <td>True</td>\n",
       "      <td>PoW/PoS</td>\n",
       "      <td>4.199995e+01</td>\n",
       "      <td>42</td>\n",
       "    </tr>\n",
       "    <tr>\n",
       "      <th>1</th>\n",
       "      <td>365</td>\n",
       "      <td>365Coin</td>\n",
       "      <td>X11</td>\n",
       "      <td>True</td>\n",
       "      <td>PoW/PoS</td>\n",
       "      <td>NaN</td>\n",
       "      <td>2300000000</td>\n",
       "    </tr>\n",
       "    <tr>\n",
       "      <th>2</th>\n",
       "      <td>404</td>\n",
       "      <td>404Coin</td>\n",
       "      <td>Scrypt</td>\n",
       "      <td>True</td>\n",
       "      <td>PoW/PoS</td>\n",
       "      <td>1.055185e+09</td>\n",
       "      <td>532000000</td>\n",
       "    </tr>\n",
       "    <tr>\n",
       "      <th>3</th>\n",
       "      <td>611</td>\n",
       "      <td>SixEleven</td>\n",
       "      <td>SHA-256</td>\n",
       "      <td>True</td>\n",
       "      <td>PoW</td>\n",
       "      <td>NaN</td>\n",
       "      <td>611000</td>\n",
       "    </tr>\n",
       "    <tr>\n",
       "      <th>4</th>\n",
       "      <td>808</td>\n",
       "      <td>808</td>\n",
       "      <td>SHA-256</td>\n",
       "      <td>True</td>\n",
       "      <td>PoW/PoS</td>\n",
       "      <td>0.000000e+00</td>\n",
       "      <td>0</td>\n",
       "    </tr>\n",
       "  </tbody>\n",
       "</table>\n",
       "</div>"
      ]
     },
     "metadata": {},
     "execution_count": 136
    }
   ],
   "metadata": {}
  },
  {
   "cell_type": "markdown",
   "source": [
    "### Data Preprocessing"
   ],
   "metadata": {}
  },
  {
   "cell_type": "code",
   "execution_count": 137,
   "source": [
    "# Keep only necessary columns:\r\n",
    "# 'CoinName','Algorithm','IsTrading','ProofType','TotalCoinsMined','TotalCoinSupply'\r\n",
    "stripped_crypto_df = crypto_df[['CoinName','Algorithm','IsTrading','ProofType','TotalCoinsMined','MaxSupply']]\r\n",
    "stripped_crypto_df.head()"
   ],
   "outputs": [
    {
     "output_type": "execute_result",
     "data": {
      "text/plain": [
       "      CoinName Algorithm IsTrading ProofType TotalCoinsMined MaxSupply\n",
       "42     42 Coin    Scrypt      True   PoW/PoS               0         0\n",
       "300  300 token       N/A      True       N/A             300       300\n",
       "365    365Coin       X11      True   PoW/PoS               0         0\n",
       "404    404Coin    Scrypt      True   PoW/PoS               0         0\n",
       "433  433 Token       N/A     False       N/A             NaN       NaN"
      ],
      "text/html": [
       "<div>\n",
       "<style scoped>\n",
       "    .dataframe tbody tr th:only-of-type {\n",
       "        vertical-align: middle;\n",
       "    }\n",
       "\n",
       "    .dataframe tbody tr th {\n",
       "        vertical-align: top;\n",
       "    }\n",
       "\n",
       "    .dataframe thead th {\n",
       "        text-align: right;\n",
       "    }\n",
       "</style>\n",
       "<table border=\"1\" class=\"dataframe\">\n",
       "  <thead>\n",
       "    <tr style=\"text-align: right;\">\n",
       "      <th></th>\n",
       "      <th>CoinName</th>\n",
       "      <th>Algorithm</th>\n",
       "      <th>IsTrading</th>\n",
       "      <th>ProofType</th>\n",
       "      <th>TotalCoinsMined</th>\n",
       "      <th>MaxSupply</th>\n",
       "    </tr>\n",
       "  </thead>\n",
       "  <tbody>\n",
       "    <tr>\n",
       "      <th>42</th>\n",
       "      <td>42 Coin</td>\n",
       "      <td>Scrypt</td>\n",
       "      <td>True</td>\n",
       "      <td>PoW/PoS</td>\n",
       "      <td>0</td>\n",
       "      <td>0</td>\n",
       "    </tr>\n",
       "    <tr>\n",
       "      <th>300</th>\n",
       "      <td>300 token</td>\n",
       "      <td>N/A</td>\n",
       "      <td>True</td>\n",
       "      <td>N/A</td>\n",
       "      <td>300</td>\n",
       "      <td>300</td>\n",
       "    </tr>\n",
       "    <tr>\n",
       "      <th>365</th>\n",
       "      <td>365Coin</td>\n",
       "      <td>X11</td>\n",
       "      <td>True</td>\n",
       "      <td>PoW/PoS</td>\n",
       "      <td>0</td>\n",
       "      <td>0</td>\n",
       "    </tr>\n",
       "    <tr>\n",
       "      <th>404</th>\n",
       "      <td>404Coin</td>\n",
       "      <td>Scrypt</td>\n",
       "      <td>True</td>\n",
       "      <td>PoW/PoS</td>\n",
       "      <td>0</td>\n",
       "      <td>0</td>\n",
       "    </tr>\n",
       "    <tr>\n",
       "      <th>433</th>\n",
       "      <td>433 Token</td>\n",
       "      <td>N/A</td>\n",
       "      <td>False</td>\n",
       "      <td>N/A</td>\n",
       "      <td>NaN</td>\n",
       "      <td>NaN</td>\n",
       "    </tr>\n",
       "  </tbody>\n",
       "</table>\n",
       "</div>"
      ]
     },
     "metadata": {},
     "execution_count": 137
    }
   ],
   "metadata": {}
  },
  {
   "cell_type": "code",
   "execution_count": 138,
   "source": [
    "# Keep only cryptocurrencies that are trading\r\n",
    "stripped_crypto_df = stripped_crypto_df.loc[stripped_crypto_df['IsTrading'] == True]\r\n",
    "stripped_crypto_df.head()"
   ],
   "outputs": [
    {
     "output_type": "execute_result",
     "data": {
      "text/plain": [
       "      CoinName Algorithm IsTrading ProofType TotalCoinsMined MaxSupply\n",
       "42     42 Coin    Scrypt      True   PoW/PoS               0         0\n",
       "300  300 token       N/A      True       N/A             300       300\n",
       "365    365Coin       X11      True   PoW/PoS               0         0\n",
       "404    404Coin    Scrypt      True   PoW/PoS               0         0\n",
       "611  SixEleven   SHA-256      True       PoW               0         0"
      ],
      "text/html": [
       "<div>\n",
       "<style scoped>\n",
       "    .dataframe tbody tr th:only-of-type {\n",
       "        vertical-align: middle;\n",
       "    }\n",
       "\n",
       "    .dataframe tbody tr th {\n",
       "        vertical-align: top;\n",
       "    }\n",
       "\n",
       "    .dataframe thead th {\n",
       "        text-align: right;\n",
       "    }\n",
       "</style>\n",
       "<table border=\"1\" class=\"dataframe\">\n",
       "  <thead>\n",
       "    <tr style=\"text-align: right;\">\n",
       "      <th></th>\n",
       "      <th>CoinName</th>\n",
       "      <th>Algorithm</th>\n",
       "      <th>IsTrading</th>\n",
       "      <th>ProofType</th>\n",
       "      <th>TotalCoinsMined</th>\n",
       "      <th>MaxSupply</th>\n",
       "    </tr>\n",
       "  </thead>\n",
       "  <tbody>\n",
       "    <tr>\n",
       "      <th>42</th>\n",
       "      <td>42 Coin</td>\n",
       "      <td>Scrypt</td>\n",
       "      <td>True</td>\n",
       "      <td>PoW/PoS</td>\n",
       "      <td>0</td>\n",
       "      <td>0</td>\n",
       "    </tr>\n",
       "    <tr>\n",
       "      <th>300</th>\n",
       "      <td>300 token</td>\n",
       "      <td>N/A</td>\n",
       "      <td>True</td>\n",
       "      <td>N/A</td>\n",
       "      <td>300</td>\n",
       "      <td>300</td>\n",
       "    </tr>\n",
       "    <tr>\n",
       "      <th>365</th>\n",
       "      <td>365Coin</td>\n",
       "      <td>X11</td>\n",
       "      <td>True</td>\n",
       "      <td>PoW/PoS</td>\n",
       "      <td>0</td>\n",
       "      <td>0</td>\n",
       "    </tr>\n",
       "    <tr>\n",
       "      <th>404</th>\n",
       "      <td>404Coin</td>\n",
       "      <td>Scrypt</td>\n",
       "      <td>True</td>\n",
       "      <td>PoW/PoS</td>\n",
       "      <td>0</td>\n",
       "      <td>0</td>\n",
       "    </tr>\n",
       "    <tr>\n",
       "      <th>611</th>\n",
       "      <td>SixEleven</td>\n",
       "      <td>SHA-256</td>\n",
       "      <td>True</td>\n",
       "      <td>PoW</td>\n",
       "      <td>0</td>\n",
       "      <td>0</td>\n",
       "    </tr>\n",
       "  </tbody>\n",
       "</table>\n",
       "</div>"
      ]
     },
     "metadata": {},
     "execution_count": 138
    }
   ],
   "metadata": {}
  },
  {
   "cell_type": "code",
   "execution_count": 139,
   "source": [
    "# Keep only cryptocurrencies with a working algorithm\r\n",
    "stripped_crypto_df = stripped_crypto_df[stripped_crypto_df['Algorithm'] != 'N/A']\r\n",
    "stripped_crypto_df"
   ],
   "outputs": [
    {
     "output_type": "execute_result",
     "data": {
      "text/plain": [
       "              CoinName     Algorithm IsTrading ProofType TotalCoinsMined  \\\n",
       "42             42 Coin        Scrypt      True   PoW/PoS               0   \n",
       "365            365Coin           X11      True   PoW/PoS               0   \n",
       "404            404Coin        Scrypt      True   PoW/PoS               0   \n",
       "611          SixEleven       SHA-256      True       PoW               0   \n",
       "808                808       SHA-256      True   PoW/PoS               0   \n",
       "...                ...           ...       ...       ...             ...   \n",
       "BUNNY    Pancake Bunny  BEP-20 Token      True       N/A     1.11995e+07   \n",
       "YAYCOIN        YAYcoin        Scrypt      True   PoW/PoS             NaN   \n",
       "ACTIN         Actinium        Lyra2Z      True       PoW             NaN   \n",
       "RDD           Reddcoin        Scrypt      True   PoW/PoS     3.04109e+10   \n",
       "GRIN              Grin           C31      True       PoW     7.72793e+07   \n",
       "\n",
       "        MaxSupply  \n",
       "42              0  \n",
       "365             0  \n",
       "404             0  \n",
       "611             0  \n",
       "808             0  \n",
       "...           ...  \n",
       "BUNNY          -1  \n",
       "YAYCOIN       NaN  \n",
       "ACTIN         NaN  \n",
       "RDD            -1  \n",
       "GRIN           -1  \n",
       "\n",
       "[1544 rows x 6 columns]"
      ],
      "text/html": [
       "<div>\n",
       "<style scoped>\n",
       "    .dataframe tbody tr th:only-of-type {\n",
       "        vertical-align: middle;\n",
       "    }\n",
       "\n",
       "    .dataframe tbody tr th {\n",
       "        vertical-align: top;\n",
       "    }\n",
       "\n",
       "    .dataframe thead th {\n",
       "        text-align: right;\n",
       "    }\n",
       "</style>\n",
       "<table border=\"1\" class=\"dataframe\">\n",
       "  <thead>\n",
       "    <tr style=\"text-align: right;\">\n",
       "      <th></th>\n",
       "      <th>CoinName</th>\n",
       "      <th>Algorithm</th>\n",
       "      <th>IsTrading</th>\n",
       "      <th>ProofType</th>\n",
       "      <th>TotalCoinsMined</th>\n",
       "      <th>MaxSupply</th>\n",
       "    </tr>\n",
       "  </thead>\n",
       "  <tbody>\n",
       "    <tr>\n",
       "      <th>42</th>\n",
       "      <td>42 Coin</td>\n",
       "      <td>Scrypt</td>\n",
       "      <td>True</td>\n",
       "      <td>PoW/PoS</td>\n",
       "      <td>0</td>\n",
       "      <td>0</td>\n",
       "    </tr>\n",
       "    <tr>\n",
       "      <th>365</th>\n",
       "      <td>365Coin</td>\n",
       "      <td>X11</td>\n",
       "      <td>True</td>\n",
       "      <td>PoW/PoS</td>\n",
       "      <td>0</td>\n",
       "      <td>0</td>\n",
       "    </tr>\n",
       "    <tr>\n",
       "      <th>404</th>\n",
       "      <td>404Coin</td>\n",
       "      <td>Scrypt</td>\n",
       "      <td>True</td>\n",
       "      <td>PoW/PoS</td>\n",
       "      <td>0</td>\n",
       "      <td>0</td>\n",
       "    </tr>\n",
       "    <tr>\n",
       "      <th>611</th>\n",
       "      <td>SixEleven</td>\n",
       "      <td>SHA-256</td>\n",
       "      <td>True</td>\n",
       "      <td>PoW</td>\n",
       "      <td>0</td>\n",
       "      <td>0</td>\n",
       "    </tr>\n",
       "    <tr>\n",
       "      <th>808</th>\n",
       "      <td>808</td>\n",
       "      <td>SHA-256</td>\n",
       "      <td>True</td>\n",
       "      <td>PoW/PoS</td>\n",
       "      <td>0</td>\n",
       "      <td>0</td>\n",
       "    </tr>\n",
       "    <tr>\n",
       "      <th>...</th>\n",
       "      <td>...</td>\n",
       "      <td>...</td>\n",
       "      <td>...</td>\n",
       "      <td>...</td>\n",
       "      <td>...</td>\n",
       "      <td>...</td>\n",
       "    </tr>\n",
       "    <tr>\n",
       "      <th>BUNNY</th>\n",
       "      <td>Pancake Bunny</td>\n",
       "      <td>BEP-20 Token</td>\n",
       "      <td>True</td>\n",
       "      <td>N/A</td>\n",
       "      <td>1.11995e+07</td>\n",
       "      <td>-1</td>\n",
       "    </tr>\n",
       "    <tr>\n",
       "      <th>YAYCOIN</th>\n",
       "      <td>YAYcoin</td>\n",
       "      <td>Scrypt</td>\n",
       "      <td>True</td>\n",
       "      <td>PoW/PoS</td>\n",
       "      <td>NaN</td>\n",
       "      <td>NaN</td>\n",
       "    </tr>\n",
       "    <tr>\n",
       "      <th>ACTIN</th>\n",
       "      <td>Actinium</td>\n",
       "      <td>Lyra2Z</td>\n",
       "      <td>True</td>\n",
       "      <td>PoW</td>\n",
       "      <td>NaN</td>\n",
       "      <td>NaN</td>\n",
       "    </tr>\n",
       "    <tr>\n",
       "      <th>RDD</th>\n",
       "      <td>Reddcoin</td>\n",
       "      <td>Scrypt</td>\n",
       "      <td>True</td>\n",
       "      <td>PoW/PoS</td>\n",
       "      <td>3.04109e+10</td>\n",
       "      <td>-1</td>\n",
       "    </tr>\n",
       "    <tr>\n",
       "      <th>GRIN</th>\n",
       "      <td>Grin</td>\n",
       "      <td>C31</td>\n",
       "      <td>True</td>\n",
       "      <td>PoW</td>\n",
       "      <td>7.72793e+07</td>\n",
       "      <td>-1</td>\n",
       "    </tr>\n",
       "  </tbody>\n",
       "</table>\n",
       "<p>1544 rows × 6 columns</p>\n",
       "</div>"
      ]
     },
     "metadata": {},
     "execution_count": 139
    }
   ],
   "metadata": {}
  },
  {
   "cell_type": "code",
   "execution_count": 140,
   "source": [
    "# Remove the \"IsTrading\" column\r\n",
    "stripped_crypto_df = stripped_crypto_df.drop('IsTrading', axis=1)\r\n",
    "stripped_crypto_df.head()"
   ],
   "outputs": [
    {
     "output_type": "execute_result",
     "data": {
      "text/plain": [
       "      CoinName Algorithm ProofType TotalCoinsMined MaxSupply\n",
       "42     42 Coin    Scrypt   PoW/PoS               0         0\n",
       "365    365Coin       X11   PoW/PoS               0         0\n",
       "404    404Coin    Scrypt   PoW/PoS               0         0\n",
       "611  SixEleven   SHA-256       PoW               0         0\n",
       "808        808   SHA-256   PoW/PoS               0         0"
      ],
      "text/html": [
       "<div>\n",
       "<style scoped>\n",
       "    .dataframe tbody tr th:only-of-type {\n",
       "        vertical-align: middle;\n",
       "    }\n",
       "\n",
       "    .dataframe tbody tr th {\n",
       "        vertical-align: top;\n",
       "    }\n",
       "\n",
       "    .dataframe thead th {\n",
       "        text-align: right;\n",
       "    }\n",
       "</style>\n",
       "<table border=\"1\" class=\"dataframe\">\n",
       "  <thead>\n",
       "    <tr style=\"text-align: right;\">\n",
       "      <th></th>\n",
       "      <th>CoinName</th>\n",
       "      <th>Algorithm</th>\n",
       "      <th>ProofType</th>\n",
       "      <th>TotalCoinsMined</th>\n",
       "      <th>MaxSupply</th>\n",
       "    </tr>\n",
       "  </thead>\n",
       "  <tbody>\n",
       "    <tr>\n",
       "      <th>42</th>\n",
       "      <td>42 Coin</td>\n",
       "      <td>Scrypt</td>\n",
       "      <td>PoW/PoS</td>\n",
       "      <td>0</td>\n",
       "      <td>0</td>\n",
       "    </tr>\n",
       "    <tr>\n",
       "      <th>365</th>\n",
       "      <td>365Coin</td>\n",
       "      <td>X11</td>\n",
       "      <td>PoW/PoS</td>\n",
       "      <td>0</td>\n",
       "      <td>0</td>\n",
       "    </tr>\n",
       "    <tr>\n",
       "      <th>404</th>\n",
       "      <td>404Coin</td>\n",
       "      <td>Scrypt</td>\n",
       "      <td>PoW/PoS</td>\n",
       "      <td>0</td>\n",
       "      <td>0</td>\n",
       "    </tr>\n",
       "    <tr>\n",
       "      <th>611</th>\n",
       "      <td>SixEleven</td>\n",
       "      <td>SHA-256</td>\n",
       "      <td>PoW</td>\n",
       "      <td>0</td>\n",
       "      <td>0</td>\n",
       "    </tr>\n",
       "    <tr>\n",
       "      <th>808</th>\n",
       "      <td>808</td>\n",
       "      <td>SHA-256</td>\n",
       "      <td>PoW/PoS</td>\n",
       "      <td>0</td>\n",
       "      <td>0</td>\n",
       "    </tr>\n",
       "  </tbody>\n",
       "</table>\n",
       "</div>"
      ]
     },
     "metadata": {},
     "execution_count": 140
    }
   ],
   "metadata": {}
  },
  {
   "cell_type": "code",
   "execution_count": 141,
   "source": [
    "# Remove rows with at least 1 null value\r\n",
    "stripped_crypto_df = stripped_crypto_df.dropna()\r\n",
    "stripped_crypto_df.head()"
   ],
   "outputs": [
    {
     "output_type": "execute_result",
     "data": {
      "text/plain": [
       "      CoinName Algorithm ProofType TotalCoinsMined MaxSupply\n",
       "42     42 Coin    Scrypt   PoW/PoS               0         0\n",
       "365    365Coin       X11   PoW/PoS               0         0\n",
       "404    404Coin    Scrypt   PoW/PoS               0         0\n",
       "611  SixEleven   SHA-256       PoW               0         0\n",
       "808        808   SHA-256   PoW/PoS               0         0"
      ],
      "text/html": [
       "<div>\n",
       "<style scoped>\n",
       "    .dataframe tbody tr th:only-of-type {\n",
       "        vertical-align: middle;\n",
       "    }\n",
       "\n",
       "    .dataframe tbody tr th {\n",
       "        vertical-align: top;\n",
       "    }\n",
       "\n",
       "    .dataframe thead th {\n",
       "        text-align: right;\n",
       "    }\n",
       "</style>\n",
       "<table border=\"1\" class=\"dataframe\">\n",
       "  <thead>\n",
       "    <tr style=\"text-align: right;\">\n",
       "      <th></th>\n",
       "      <th>CoinName</th>\n",
       "      <th>Algorithm</th>\n",
       "      <th>ProofType</th>\n",
       "      <th>TotalCoinsMined</th>\n",
       "      <th>MaxSupply</th>\n",
       "    </tr>\n",
       "  </thead>\n",
       "  <tbody>\n",
       "    <tr>\n",
       "      <th>42</th>\n",
       "      <td>42 Coin</td>\n",
       "      <td>Scrypt</td>\n",
       "      <td>PoW/PoS</td>\n",
       "      <td>0</td>\n",
       "      <td>0</td>\n",
       "    </tr>\n",
       "    <tr>\n",
       "      <th>365</th>\n",
       "      <td>365Coin</td>\n",
       "      <td>X11</td>\n",
       "      <td>PoW/PoS</td>\n",
       "      <td>0</td>\n",
       "      <td>0</td>\n",
       "    </tr>\n",
       "    <tr>\n",
       "      <th>404</th>\n",
       "      <td>404Coin</td>\n",
       "      <td>Scrypt</td>\n",
       "      <td>PoW/PoS</td>\n",
       "      <td>0</td>\n",
       "      <td>0</td>\n",
       "    </tr>\n",
       "    <tr>\n",
       "      <th>611</th>\n",
       "      <td>SixEleven</td>\n",
       "      <td>SHA-256</td>\n",
       "      <td>PoW</td>\n",
       "      <td>0</td>\n",
       "      <td>0</td>\n",
       "    </tr>\n",
       "    <tr>\n",
       "      <th>808</th>\n",
       "      <td>808</td>\n",
       "      <td>SHA-256</td>\n",
       "      <td>PoW/PoS</td>\n",
       "      <td>0</td>\n",
       "      <td>0</td>\n",
       "    </tr>\n",
       "  </tbody>\n",
       "</table>\n",
       "</div>"
      ]
     },
     "metadata": {},
     "execution_count": 141
    }
   ],
   "metadata": {}
  },
  {
   "cell_type": "code",
   "execution_count": 142,
   "source": [
    "# Remove rows with cryptocurrencies having no coins mined\r\n",
    "stripped_crypto_df = stripped_crypto_df.loc[stripped_crypto_df['TotalCoinsMined'] > 0]\r\n",
    "stripped_crypto_df.head()"
   ],
   "outputs": [
    {
     "output_type": "execute_result",
     "data": {
      "text/plain": [
       "               CoinName Algorithm ProofType TotalCoinsMined MaxSupply\n",
       "NVC            NovaCoin    Scrypt   PoW/PoS     3.37936e+06        -1\n",
       "NSR            NuShares       PoS       PoS      6.1634e+09         0\n",
       "MONA           MonaCoin    Scrypt       PoW     8.29052e+07        -1\n",
       "TRI      Triangles Coin       X13   PoW/PoS          185109         0\n",
       "SAFEX  SafeExchangeCoin    Scrypt       PoC      2147483647        -1"
      ],
      "text/html": [
       "<div>\n",
       "<style scoped>\n",
       "    .dataframe tbody tr th:only-of-type {\n",
       "        vertical-align: middle;\n",
       "    }\n",
       "\n",
       "    .dataframe tbody tr th {\n",
       "        vertical-align: top;\n",
       "    }\n",
       "\n",
       "    .dataframe thead th {\n",
       "        text-align: right;\n",
       "    }\n",
       "</style>\n",
       "<table border=\"1\" class=\"dataframe\">\n",
       "  <thead>\n",
       "    <tr style=\"text-align: right;\">\n",
       "      <th></th>\n",
       "      <th>CoinName</th>\n",
       "      <th>Algorithm</th>\n",
       "      <th>ProofType</th>\n",
       "      <th>TotalCoinsMined</th>\n",
       "      <th>MaxSupply</th>\n",
       "    </tr>\n",
       "  </thead>\n",
       "  <tbody>\n",
       "    <tr>\n",
       "      <th>NVC</th>\n",
       "      <td>NovaCoin</td>\n",
       "      <td>Scrypt</td>\n",
       "      <td>PoW/PoS</td>\n",
       "      <td>3.37936e+06</td>\n",
       "      <td>-1</td>\n",
       "    </tr>\n",
       "    <tr>\n",
       "      <th>NSR</th>\n",
       "      <td>NuShares</td>\n",
       "      <td>PoS</td>\n",
       "      <td>PoS</td>\n",
       "      <td>6.1634e+09</td>\n",
       "      <td>0</td>\n",
       "    </tr>\n",
       "    <tr>\n",
       "      <th>MONA</th>\n",
       "      <td>MonaCoin</td>\n",
       "      <td>Scrypt</td>\n",
       "      <td>PoW</td>\n",
       "      <td>8.29052e+07</td>\n",
       "      <td>-1</td>\n",
       "    </tr>\n",
       "    <tr>\n",
       "      <th>TRI</th>\n",
       "      <td>Triangles Coin</td>\n",
       "      <td>X13</td>\n",
       "      <td>PoW/PoS</td>\n",
       "      <td>185109</td>\n",
       "      <td>0</td>\n",
       "    </tr>\n",
       "    <tr>\n",
       "      <th>SAFEX</th>\n",
       "      <td>SafeExchangeCoin</td>\n",
       "      <td>Scrypt</td>\n",
       "      <td>PoC</td>\n",
       "      <td>2147483647</td>\n",
       "      <td>-1</td>\n",
       "    </tr>\n",
       "  </tbody>\n",
       "</table>\n",
       "</div>"
      ]
     },
     "metadata": {},
     "execution_count": 142
    }
   ],
   "metadata": {}
  },
  {
   "cell_type": "code",
   "execution_count": 143,
   "source": [
    "# Drop rows where there are 'N/A' text values\r\n",
    "stripped_crypto_df = stripped_crypto_df.drop(stripped_crypto_df[stripped_crypto_df.values == 'N/A'].index)\r\n",
    "stripped_crypto_df"
   ],
   "outputs": [
    {
     "output_type": "execute_result",
     "data": {
      "text/plain": [
       "               CoinName      Algorithm ProofType TotalCoinsMined  MaxSupply\n",
       "NVC            NovaCoin         Scrypt   PoW/PoS     3.37936e+06         -1\n",
       "NSR            NuShares            PoS       PoS      6.1634e+09          0\n",
       "MONA           MonaCoin         Scrypt       PoW     8.29052e+07         -1\n",
       "TRI      Triangles Coin            X13   PoW/PoS          185109          0\n",
       "SAFEX  SafeExchangeCoin         Scrypt       PoC      2147483647         -1\n",
       "...                 ...            ...       ...             ...        ...\n",
       "AION               Aion  Equihash210,9   PoW/PoS       495215020         -1\n",
       "ACT              Achain           DPoS      DPoS      1000000000          0\n",
       "ETC    Ethereum Classic        EtcHash       PoW       1.281e+08  210700000\n",
       "RDD            Reddcoin         Scrypt   PoW/PoS     3.04109e+10         -1\n",
       "GRIN               Grin            C31       PoW     7.72793e+07         -1\n",
       "\n",
       "[123 rows x 5 columns]"
      ],
      "text/html": [
       "<div>\n",
       "<style scoped>\n",
       "    .dataframe tbody tr th:only-of-type {\n",
       "        vertical-align: middle;\n",
       "    }\n",
       "\n",
       "    .dataframe tbody tr th {\n",
       "        vertical-align: top;\n",
       "    }\n",
       "\n",
       "    .dataframe thead th {\n",
       "        text-align: right;\n",
       "    }\n",
       "</style>\n",
       "<table border=\"1\" class=\"dataframe\">\n",
       "  <thead>\n",
       "    <tr style=\"text-align: right;\">\n",
       "      <th></th>\n",
       "      <th>CoinName</th>\n",
       "      <th>Algorithm</th>\n",
       "      <th>ProofType</th>\n",
       "      <th>TotalCoinsMined</th>\n",
       "      <th>MaxSupply</th>\n",
       "    </tr>\n",
       "  </thead>\n",
       "  <tbody>\n",
       "    <tr>\n",
       "      <th>NVC</th>\n",
       "      <td>NovaCoin</td>\n",
       "      <td>Scrypt</td>\n",
       "      <td>PoW/PoS</td>\n",
       "      <td>3.37936e+06</td>\n",
       "      <td>-1</td>\n",
       "    </tr>\n",
       "    <tr>\n",
       "      <th>NSR</th>\n",
       "      <td>NuShares</td>\n",
       "      <td>PoS</td>\n",
       "      <td>PoS</td>\n",
       "      <td>6.1634e+09</td>\n",
       "      <td>0</td>\n",
       "    </tr>\n",
       "    <tr>\n",
       "      <th>MONA</th>\n",
       "      <td>MonaCoin</td>\n",
       "      <td>Scrypt</td>\n",
       "      <td>PoW</td>\n",
       "      <td>8.29052e+07</td>\n",
       "      <td>-1</td>\n",
       "    </tr>\n",
       "    <tr>\n",
       "      <th>TRI</th>\n",
       "      <td>Triangles Coin</td>\n",
       "      <td>X13</td>\n",
       "      <td>PoW/PoS</td>\n",
       "      <td>185109</td>\n",
       "      <td>0</td>\n",
       "    </tr>\n",
       "    <tr>\n",
       "      <th>SAFEX</th>\n",
       "      <td>SafeExchangeCoin</td>\n",
       "      <td>Scrypt</td>\n",
       "      <td>PoC</td>\n",
       "      <td>2147483647</td>\n",
       "      <td>-1</td>\n",
       "    </tr>\n",
       "    <tr>\n",
       "      <th>...</th>\n",
       "      <td>...</td>\n",
       "      <td>...</td>\n",
       "      <td>...</td>\n",
       "      <td>...</td>\n",
       "      <td>...</td>\n",
       "    </tr>\n",
       "    <tr>\n",
       "      <th>AION</th>\n",
       "      <td>Aion</td>\n",
       "      <td>Equihash210,9</td>\n",
       "      <td>PoW/PoS</td>\n",
       "      <td>495215020</td>\n",
       "      <td>-1</td>\n",
       "    </tr>\n",
       "    <tr>\n",
       "      <th>ACT</th>\n",
       "      <td>Achain</td>\n",
       "      <td>DPoS</td>\n",
       "      <td>DPoS</td>\n",
       "      <td>1000000000</td>\n",
       "      <td>0</td>\n",
       "    </tr>\n",
       "    <tr>\n",
       "      <th>ETC</th>\n",
       "      <td>Ethereum Classic</td>\n",
       "      <td>EtcHash</td>\n",
       "      <td>PoW</td>\n",
       "      <td>1.281e+08</td>\n",
       "      <td>210700000</td>\n",
       "    </tr>\n",
       "    <tr>\n",
       "      <th>RDD</th>\n",
       "      <td>Reddcoin</td>\n",
       "      <td>Scrypt</td>\n",
       "      <td>PoW/PoS</td>\n",
       "      <td>3.04109e+10</td>\n",
       "      <td>-1</td>\n",
       "    </tr>\n",
       "    <tr>\n",
       "      <th>GRIN</th>\n",
       "      <td>Grin</td>\n",
       "      <td>C31</td>\n",
       "      <td>PoW</td>\n",
       "      <td>7.72793e+07</td>\n",
       "      <td>-1</td>\n",
       "    </tr>\n",
       "  </tbody>\n",
       "</table>\n",
       "<p>123 rows × 5 columns</p>\n",
       "</div>"
      ]
     },
     "metadata": {},
     "execution_count": 143
    }
   ],
   "metadata": {}
  },
  {
   "cell_type": "code",
   "execution_count": 144,
   "source": [
    "# Store the 'CoinName'column in its own DataFrame prior to dropping it from crypto_df\r\n",
    "coin_name_df = stripped_crypto_df['CoinName'].to_frame()\r\n",
    "coin_name_df"
   ],
   "outputs": [
    {
     "output_type": "execute_result",
     "data": {
      "text/plain": [
       "               CoinName\n",
       "NVC            NovaCoin\n",
       "NSR            NuShares\n",
       "MONA           MonaCoin\n",
       "TRI      Triangles Coin\n",
       "SAFEX  SafeExchangeCoin\n",
       "...                 ...\n",
       "AION               Aion\n",
       "ACT              Achain\n",
       "ETC    Ethereum Classic\n",
       "RDD            Reddcoin\n",
       "GRIN               Grin\n",
       "\n",
       "[123 rows x 1 columns]"
      ],
      "text/html": [
       "<div>\n",
       "<style scoped>\n",
       "    .dataframe tbody tr th:only-of-type {\n",
       "        vertical-align: middle;\n",
       "    }\n",
       "\n",
       "    .dataframe tbody tr th {\n",
       "        vertical-align: top;\n",
       "    }\n",
       "\n",
       "    .dataframe thead th {\n",
       "        text-align: right;\n",
       "    }\n",
       "</style>\n",
       "<table border=\"1\" class=\"dataframe\">\n",
       "  <thead>\n",
       "    <tr style=\"text-align: right;\">\n",
       "      <th></th>\n",
       "      <th>CoinName</th>\n",
       "    </tr>\n",
       "  </thead>\n",
       "  <tbody>\n",
       "    <tr>\n",
       "      <th>NVC</th>\n",
       "      <td>NovaCoin</td>\n",
       "    </tr>\n",
       "    <tr>\n",
       "      <th>NSR</th>\n",
       "      <td>NuShares</td>\n",
       "    </tr>\n",
       "    <tr>\n",
       "      <th>MONA</th>\n",
       "      <td>MonaCoin</td>\n",
       "    </tr>\n",
       "    <tr>\n",
       "      <th>TRI</th>\n",
       "      <td>Triangles Coin</td>\n",
       "    </tr>\n",
       "    <tr>\n",
       "      <th>SAFEX</th>\n",
       "      <td>SafeExchangeCoin</td>\n",
       "    </tr>\n",
       "    <tr>\n",
       "      <th>...</th>\n",
       "      <td>...</td>\n",
       "    </tr>\n",
       "    <tr>\n",
       "      <th>AION</th>\n",
       "      <td>Aion</td>\n",
       "    </tr>\n",
       "    <tr>\n",
       "      <th>ACT</th>\n",
       "      <td>Achain</td>\n",
       "    </tr>\n",
       "    <tr>\n",
       "      <th>ETC</th>\n",
       "      <td>Ethereum Classic</td>\n",
       "    </tr>\n",
       "    <tr>\n",
       "      <th>RDD</th>\n",
       "      <td>Reddcoin</td>\n",
       "    </tr>\n",
       "    <tr>\n",
       "      <th>GRIN</th>\n",
       "      <td>Grin</td>\n",
       "    </tr>\n",
       "  </tbody>\n",
       "</table>\n",
       "<p>123 rows × 1 columns</p>\n",
       "</div>"
      ]
     },
     "metadata": {},
     "execution_count": 144
    }
   ],
   "metadata": {}
  },
  {
   "cell_type": "code",
   "execution_count": 145,
   "source": [
    "# Drop the 'CoinName' column since it's not going to be used on the clustering algorithm\r\n",
    "stripped_crypto_df = stripped_crypto_df.drop('CoinName', axis=1)\r\n",
    "stripped_crypto_df.head()"
   ],
   "outputs": [
    {
     "output_type": "execute_result",
     "data": {
      "text/plain": [
       "      Algorithm ProofType TotalCoinsMined MaxSupply\n",
       "NVC      Scrypt   PoW/PoS     3.37936e+06        -1\n",
       "NSR         PoS       PoS      6.1634e+09         0\n",
       "MONA     Scrypt       PoW     8.29052e+07        -1\n",
       "TRI         X13   PoW/PoS          185109         0\n",
       "SAFEX    Scrypt       PoC      2147483647        -1"
      ],
      "text/html": [
       "<div>\n",
       "<style scoped>\n",
       "    .dataframe tbody tr th:only-of-type {\n",
       "        vertical-align: middle;\n",
       "    }\n",
       "\n",
       "    .dataframe tbody tr th {\n",
       "        vertical-align: top;\n",
       "    }\n",
       "\n",
       "    .dataframe thead th {\n",
       "        text-align: right;\n",
       "    }\n",
       "</style>\n",
       "<table border=\"1\" class=\"dataframe\">\n",
       "  <thead>\n",
       "    <tr style=\"text-align: right;\">\n",
       "      <th></th>\n",
       "      <th>Algorithm</th>\n",
       "      <th>ProofType</th>\n",
       "      <th>TotalCoinsMined</th>\n",
       "      <th>MaxSupply</th>\n",
       "    </tr>\n",
       "  </thead>\n",
       "  <tbody>\n",
       "    <tr>\n",
       "      <th>NVC</th>\n",
       "      <td>Scrypt</td>\n",
       "      <td>PoW/PoS</td>\n",
       "      <td>3.37936e+06</td>\n",
       "      <td>-1</td>\n",
       "    </tr>\n",
       "    <tr>\n",
       "      <th>NSR</th>\n",
       "      <td>PoS</td>\n",
       "      <td>PoS</td>\n",
       "      <td>6.1634e+09</td>\n",
       "      <td>0</td>\n",
       "    </tr>\n",
       "    <tr>\n",
       "      <th>MONA</th>\n",
       "      <td>Scrypt</td>\n",
       "      <td>PoW</td>\n",
       "      <td>8.29052e+07</td>\n",
       "      <td>-1</td>\n",
       "    </tr>\n",
       "    <tr>\n",
       "      <th>TRI</th>\n",
       "      <td>X13</td>\n",
       "      <td>PoW/PoS</td>\n",
       "      <td>185109</td>\n",
       "      <td>0</td>\n",
       "    </tr>\n",
       "    <tr>\n",
       "      <th>SAFEX</th>\n",
       "      <td>Scrypt</td>\n",
       "      <td>PoC</td>\n",
       "      <td>2147483647</td>\n",
       "      <td>-1</td>\n",
       "    </tr>\n",
       "  </tbody>\n",
       "</table>\n",
       "</div>"
      ]
     },
     "metadata": {},
     "execution_count": 145
    }
   ],
   "metadata": {}
  },
  {
   "cell_type": "code",
   "execution_count": 146,
   "source": [
    "# Create dummy variables for text features\r\n",
    "dummy_crypto_df = pd.get_dummies(stripped_crypto_df)"
   ],
   "outputs": [],
   "metadata": {}
  },
  {
   "cell_type": "code",
   "execution_count": 147,
   "source": [
    "# Standardize data\r\n",
    "scaled_crypto_df = StandardScaler().fit_transform(dummy_crypto_df)"
   ],
   "outputs": [],
   "metadata": {}
  },
  {
   "cell_type": "markdown",
   "source": [
    "### Reducing Dimensions Using PCA"
   ],
   "metadata": {}
  },
  {
   "cell_type": "code",
   "execution_count": 148,
   "source": [
    "# Use PCA to reduce dimensions to 3 principal components\r\n",
    "pca = PCA(n_components=3)"
   ],
   "outputs": [],
   "metadata": {}
  },
  {
   "cell_type": "code",
   "execution_count": 149,
   "source": [
    "# Create a DataFrame with the principal components data\r\n",
    "pca_crypto_df = pd.DataFrame(pca.fit_transform(scaled_crypto_df), columns=['PC1', 'PC2', 'PC3'])"
   ],
   "outputs": [],
   "metadata": {}
  },
  {
   "cell_type": "markdown",
   "source": [
    "### Clustering Crytocurrencies Using K-Means\n",
    "\n",
    "#### Find the Best Value for `k` Using the Elbow Curve"
   ],
   "metadata": {}
  },
  {
   "cell_type": "code",
   "execution_count": 150,
   "source": [
    "inertia = []\r\n",
    "k = list(range(1, 11))\r\n",
    "\r\n",
    "# Calculate the inertia for the range of k values\r\n",
    "for i in k:\r\n",
    "    kmeans = KMeans(n_clusters=i, random_state=42)\r\n",
    "    kmeans.fit(pca_crypto_df)\r\n",
    "    inertia.append(kmeans.inertia_)\r\n",
    "\r\n",
    "# Create the Elbow Curve using hvPlot\r\n",
    "data = {'k': k, 'inertia': inertia}\r\n",
    "elbow_df = pd.DataFrame(data)\r\n",
    "elbow_df.hvplot.line(x='k', y='inertia', xticks=k)"
   ],
   "outputs": [
    {
     "output_type": "stream",
     "name": "stderr",
     "text": [
      "C:\\Users\\ayres\\miniconda3\\envs\\machineLearning\\lib\\site-packages\\sklearn\\cluster\\_kmeans.py:882: UserWarning:\n",
      "\n",
      "KMeans is known to have a memory leak on Windows with MKL, when there are less chunks than available threads. You can avoid it by setting the environment variable OMP_NUM_THREADS=1.\n",
      "\n"
     ]
    },
    {
     "output_type": "display_data",
     "data": {},
     "metadata": {}
    },
    {
     "output_type": "execute_result",
     "data": {
      "application/vnd.holoviews_exec.v0+json": "",
      "text/plain": [
       ":Curve   [k]   (inertia)"
      ],
      "text/html": [
       "<div id='1289'>\n",
       "\n",
       "\n",
       "\n",
       "\n",
       "\n",
       "  <div class=\"bk-root\" id=\"0ece1a8b-555a-4cda-aa42-9dfa474bd496\" data-root-id=\"1289\"></div>\n",
       "</div>\n",
       "<script type=\"application/javascript\">(function(root) {\n",
       "  function embed_document(root) {\n",
       "  var docs_json = {\"6c623b60-04fc-456c-8cf5-30d8f42ec64a\":{\"roots\":{\"references\":[{\"attributes\":{\"text\":\"\",\"text_color\":{\"value\":\"black\"},\"text_font_size\":{\"value\":\"12pt\"}},\"id\":\"1295\",\"type\":\"Title\"},{\"attributes\":{\"data_source\":{\"id\":\"1324\"},\"glyph\":{\"id\":\"1327\"},\"hover_glyph\":null,\"muted_glyph\":{\"id\":\"1329\"},\"nonselection_glyph\":{\"id\":\"1328\"},\"selection_glyph\":null,\"view\":{\"id\":\"1331\"}},\"id\":\"1330\",\"type\":\"GlyphRenderer\"},{\"attributes\":{},\"id\":\"1311\",\"type\":\"SaveTool\"},{\"attributes\":{\"below\":[{\"id\":\"1303\"}],\"center\":[{\"id\":\"1306\"},{\"id\":\"1310\"}],\"left\":[{\"id\":\"1307\"}],\"margin\":null,\"min_border_bottom\":10,\"min_border_left\":10,\"min_border_right\":10,\"min_border_top\":10,\"plot_height\":300,\"plot_width\":700,\"renderers\":[{\"id\":\"1330\"}],\"sizing_mode\":\"fixed\",\"title\":{\"id\":\"1295\"},\"toolbar\":{\"id\":\"1317\"},\"x_range\":{\"id\":\"1291\"},\"x_scale\":{\"id\":\"1299\"},\"y_range\":{\"id\":\"1292\"},\"y_scale\":{\"id\":\"1301\"}},\"id\":\"1294\",\"subtype\":\"Figure\",\"type\":\"Plot\"},{\"attributes\":{\"data\":{\"inertia\":{\"__ndarray__\":\"Vmapz/xTl0CCxizj7/2PQFFkQJ9wV4FARuqr55OkVUApv3T1bhcuQHumaUK76R5AOR43/GiYEkB0G/xlrAUFQNXZmzwCW/4/rOvikC7C9z8=\",\"dtype\":\"float64\",\"shape\":[10]},\"k\":[1,2,3,4,5,6,7,8,9,10]},\"selected\":{\"id\":\"1325\"},\"selection_policy\":{\"id\":\"1345\"}},\"id\":\"1324\",\"type\":\"ColumnDataSource\"},{\"attributes\":{\"margin\":[5,5,5,5],\"name\":\"HSpacer02222\",\"sizing_mode\":\"stretch_width\"},\"id\":\"1290\",\"type\":\"Spacer\"},{\"attributes\":{\"axis_label\":\"inertia\",\"bounds\":\"auto\",\"formatter\":{\"id\":\"1338\"},\"major_label_orientation\":\"horizontal\",\"ticker\":{\"id\":\"1308\"}},\"id\":\"1307\",\"type\":\"LinearAxis\"},{\"attributes\":{\"source\":{\"id\":\"1324\"}},\"id\":\"1331\",\"type\":\"CDSView\"},{\"attributes\":{},\"id\":\"1325\",\"type\":\"Selection\"},{\"attributes\":{\"children\":[{\"id\":\"1290\"},{\"id\":\"1294\"},{\"id\":\"1346\"}],\"margin\":[0,0,0,0],\"name\":\"Row02218\",\"tags\":[\"embedded\"]},\"id\":\"1289\",\"type\":\"Row\"},{\"attributes\":{\"line_alpha\":0.1,\"line_color\":\"#1f77b3\",\"line_width\":2,\"x\":{\"field\":\"k\"},\"y\":{\"field\":\"inertia\"}},\"id\":\"1328\",\"type\":\"Line\"},{\"attributes\":{\"axis\":{\"id\":\"1307\"},\"dimension\":1,\"grid_line_color\":null,\"ticker\":null},\"id\":\"1310\",\"type\":\"Grid\"},{\"attributes\":{},\"id\":\"1312\",\"type\":\"PanTool\"},{\"attributes\":{},\"id\":\"1299\",\"type\":\"LinearScale\"},{\"attributes\":{},\"id\":\"1345\",\"type\":\"UnionRenderers\"},{\"attributes\":{},\"id\":\"1301\",\"type\":\"LinearScale\"},{\"attributes\":{\"ticks\":[1,2,3,4,5,6,7,8,9,10]},\"id\":\"1332\",\"type\":\"FixedTicker\"},{\"attributes\":{\"active_drag\":\"auto\",\"active_inspect\":\"auto\",\"active_multi\":null,\"active_scroll\":\"auto\",\"active_tap\":\"auto\",\"tools\":[{\"id\":\"1293\"},{\"id\":\"1311\"},{\"id\":\"1312\"},{\"id\":\"1313\"},{\"id\":\"1314\"},{\"id\":\"1315\"}]},\"id\":\"1317\",\"type\":\"Toolbar\"},{\"attributes\":{\"margin\":[5,5,5,5],\"name\":\"HSpacer02223\",\"sizing_mode\":\"stretch_width\"},\"id\":\"1346\",\"type\":\"Spacer\"},{\"attributes\":{},\"id\":\"1334\",\"type\":\"BasicTickFormatter\"},{\"attributes\":{\"end\":1642.1480837392444,\"reset_end\":1642.1480837392444,\"reset_start\":-147.66629013264497,\"start\":-147.66629013264497,\"tags\":[[[\"inertia\",\"inertia\",null]]]},\"id\":\"1292\",\"type\":\"Range1d\"},{\"attributes\":{},\"id\":\"1308\",\"type\":\"BasicTicker\"},{\"attributes\":{},\"id\":\"1338\",\"type\":\"BasicTickFormatter\"},{\"attributes\":{},\"id\":\"1313\",\"type\":\"WheelZoomTool\"},{\"attributes\":{},\"id\":\"1315\",\"type\":\"ResetTool\"},{\"attributes\":{\"overlay\":{\"id\":\"1316\"}},\"id\":\"1314\",\"type\":\"BoxZoomTool\"},{\"attributes\":{\"end\":10.0,\"reset_end\":10.0,\"reset_start\":1.0,\"start\":1.0,\"tags\":[[[\"k\",\"k\",null]]]},\"id\":\"1291\",\"type\":\"Range1d\"},{\"attributes\":{\"line_alpha\":0.2,\"line_color\":\"#1f77b3\",\"line_width\":2,\"x\":{\"field\":\"k\"},\"y\":{\"field\":\"inertia\"}},\"id\":\"1329\",\"type\":\"Line\"},{\"attributes\":{\"line_color\":\"#1f77b3\",\"line_width\":2,\"x\":{\"field\":\"k\"},\"y\":{\"field\":\"inertia\"}},\"id\":\"1327\",\"type\":\"Line\"},{\"attributes\":{\"bottom_units\":\"screen\",\"fill_alpha\":0.5,\"fill_color\":\"lightgrey\",\"left_units\":\"screen\",\"level\":\"overlay\",\"line_alpha\":1.0,\"line_color\":\"black\",\"line_dash\":[4,4],\"line_width\":2,\"render_mode\":\"css\",\"right_units\":\"screen\",\"top_units\":\"screen\"},\"id\":\"1316\",\"type\":\"BoxAnnotation\"},{\"attributes\":{\"axis\":{\"id\":\"1303\"},\"grid_line_color\":null,\"ticker\":null},\"id\":\"1306\",\"type\":\"Grid\"},{\"attributes\":{\"callback\":null,\"renderers\":[{\"id\":\"1330\"}],\"tags\":[\"hv_created\"],\"tooltips\":[[\"k\",\"@{k}\"],[\"inertia\",\"@{inertia}\"]]},\"id\":\"1293\",\"type\":\"HoverTool\"},{\"attributes\":{\"axis_label\":\"k\",\"bounds\":\"auto\",\"formatter\":{\"id\":\"1334\"},\"major_label_orientation\":\"horizontal\",\"ticker\":{\"id\":\"1332\"}},\"id\":\"1303\",\"type\":\"LinearAxis\"}],\"root_ids\":[\"1289\"]},\"title\":\"Bokeh Application\",\"version\":\"2.0.2\"}};\n",
       "  var render_items = [{\"docid\":\"6c623b60-04fc-456c-8cf5-30d8f42ec64a\",\"root_ids\":[\"1289\"],\"roots\":{\"1289\":\"0ece1a8b-555a-4cda-aa42-9dfa474bd496\"}}];\n",
       "  root.Bokeh.embed.embed_items_notebook(docs_json, render_items);\n",
       "  }\n",
       "if (root.Bokeh !== undefined) {\n",
       "    embed_document(root);\n",
       "  } else {\n",
       "    var attempts = 0;\n",
       "    var timer = setInterval(function(root) {\n",
       "      if (root.Bokeh !== undefined) {\n",
       "        clearInterval(timer);\n",
       "        embed_document(root);\n",
       "      } else if (document.readyState == \"complete\") {\n",
       "        attempts++;\n",
       "        if (attempts > 100) {\n",
       "          clearInterval(timer);\n",
       "          console.log(\"Bokeh: ERROR: Unable to run BokehJS code because BokehJS library is missing\");\n",
       "        }\n",
       "      }\n",
       "    }, 10, root)\n",
       "  }\n",
       "})(window);</script>"
      ]
     },
     "metadata": {
      "application/vnd.holoviews_exec.v0+json": {
       "id": "1289"
      }
     },
     "execution_count": 150
    }
   ],
   "metadata": {}
  },
  {
   "cell_type": "markdown",
   "source": [
    "Running K-Means with `k=<your best value for k here>`"
   ],
   "metadata": {}
  },
  {
   "cell_type": "code",
   "execution_count": 151,
   "source": [
    "# Initialize the K-Means model\r\n",
    "k_model = KMeans(n_clusters=5, random_state=42)\r\n",
    "# Fit the model\r\n",
    "k_model.fit(pca_crypto_df)\r\n",
    "# Predict clusters\r\n",
    "predictions = k_model.predict(pca_crypto_df)\r\n",
    "# Create a new DataFrame including predicted clusters and cryptocurrencies features\r\n",
    "pca_crypto_df['target'] = k_model.labels_\r\n",
    "pca_crypto_df['predictions'] = predictions"
   ],
   "outputs": [],
   "metadata": {}
  },
  {
   "cell_type": "code",
   "execution_count": 152,
   "source": [
    "pca_crypto_df"
   ],
   "outputs": [
    {
     "output_type": "execute_result",
     "data": {
      "text/plain": [
       "          PC1           PC2           PC3  target  predictions\n",
       "0    0.223998  2.177598e-14  6.274356e-15       0            0\n",
       "1    0.558602  2.666237e-14  9.325725e-15       0            0\n",
       "2   -0.561728 -1.464449e-14  3.258555e-15       4            4\n",
       "3    0.419167  1.636906e-14  2.130437e-14       0            0\n",
       "4    0.160354  2.140474e-14  1.001592e-16       0            0\n",
       "..        ...           ...           ...     ...          ...\n",
       "118  0.466450  3.226116e-14  8.640277e-15       0            0\n",
       "119  0.629063  3.273681e-14  1.379630e-14       0            0\n",
       "120 -1.515985 -7.060923e-14 -1.526466e-14       4            4\n",
       "121  0.223998  2.129505e-14  2.460965e-15       0            0\n",
       "122 -0.824663 -2.270823e-14 -5.010588e-15       4            4\n",
       "\n",
       "[123 rows x 5 columns]"
      ],
      "text/html": [
       "<div>\n",
       "<style scoped>\n",
       "    .dataframe tbody tr th:only-of-type {\n",
       "        vertical-align: middle;\n",
       "    }\n",
       "\n",
       "    .dataframe tbody tr th {\n",
       "        vertical-align: top;\n",
       "    }\n",
       "\n",
       "    .dataframe thead th {\n",
       "        text-align: right;\n",
       "    }\n",
       "</style>\n",
       "<table border=\"1\" class=\"dataframe\">\n",
       "  <thead>\n",
       "    <tr style=\"text-align: right;\">\n",
       "      <th></th>\n",
       "      <th>PC1</th>\n",
       "      <th>PC2</th>\n",
       "      <th>PC3</th>\n",
       "      <th>target</th>\n",
       "      <th>predictions</th>\n",
       "    </tr>\n",
       "  </thead>\n",
       "  <tbody>\n",
       "    <tr>\n",
       "      <th>0</th>\n",
       "      <td>0.223998</td>\n",
       "      <td>2.177598e-14</td>\n",
       "      <td>6.274356e-15</td>\n",
       "      <td>0</td>\n",
       "      <td>0</td>\n",
       "    </tr>\n",
       "    <tr>\n",
       "      <th>1</th>\n",
       "      <td>0.558602</td>\n",
       "      <td>2.666237e-14</td>\n",
       "      <td>9.325725e-15</td>\n",
       "      <td>0</td>\n",
       "      <td>0</td>\n",
       "    </tr>\n",
       "    <tr>\n",
       "      <th>2</th>\n",
       "      <td>-0.561728</td>\n",
       "      <td>-1.464449e-14</td>\n",
       "      <td>3.258555e-15</td>\n",
       "      <td>4</td>\n",
       "      <td>4</td>\n",
       "    </tr>\n",
       "    <tr>\n",
       "      <th>3</th>\n",
       "      <td>0.419167</td>\n",
       "      <td>1.636906e-14</td>\n",
       "      <td>2.130437e-14</td>\n",
       "      <td>0</td>\n",
       "      <td>0</td>\n",
       "    </tr>\n",
       "    <tr>\n",
       "      <th>4</th>\n",
       "      <td>0.160354</td>\n",
       "      <td>2.140474e-14</td>\n",
       "      <td>1.001592e-16</td>\n",
       "      <td>0</td>\n",
       "      <td>0</td>\n",
       "    </tr>\n",
       "    <tr>\n",
       "      <th>...</th>\n",
       "      <td>...</td>\n",
       "      <td>...</td>\n",
       "      <td>...</td>\n",
       "      <td>...</td>\n",
       "      <td>...</td>\n",
       "    </tr>\n",
       "    <tr>\n",
       "      <th>118</th>\n",
       "      <td>0.466450</td>\n",
       "      <td>3.226116e-14</td>\n",
       "      <td>8.640277e-15</td>\n",
       "      <td>0</td>\n",
       "      <td>0</td>\n",
       "    </tr>\n",
       "    <tr>\n",
       "      <th>119</th>\n",
       "      <td>0.629063</td>\n",
       "      <td>3.273681e-14</td>\n",
       "      <td>1.379630e-14</td>\n",
       "      <td>0</td>\n",
       "      <td>0</td>\n",
       "    </tr>\n",
       "    <tr>\n",
       "      <th>120</th>\n",
       "      <td>-1.515985</td>\n",
       "      <td>-7.060923e-14</td>\n",
       "      <td>-1.526466e-14</td>\n",
       "      <td>4</td>\n",
       "      <td>4</td>\n",
       "    </tr>\n",
       "    <tr>\n",
       "      <th>121</th>\n",
       "      <td>0.223998</td>\n",
       "      <td>2.129505e-14</td>\n",
       "      <td>2.460965e-15</td>\n",
       "      <td>0</td>\n",
       "      <td>0</td>\n",
       "    </tr>\n",
       "    <tr>\n",
       "      <th>122</th>\n",
       "      <td>-0.824663</td>\n",
       "      <td>-2.270823e-14</td>\n",
       "      <td>-5.010588e-15</td>\n",
       "      <td>4</td>\n",
       "      <td>4</td>\n",
       "    </tr>\n",
       "  </tbody>\n",
       "</table>\n",
       "<p>123 rows × 5 columns</p>\n",
       "</div>"
      ]
     },
     "metadata": {},
     "execution_count": 152
    }
   ],
   "metadata": {}
  },
  {
   "cell_type": "markdown",
   "source": [
    "### Visualizing Results\n",
    "\n",
    "#### 3D-Scatter with Clusters"
   ],
   "metadata": {}
  },
  {
   "cell_type": "code",
   "execution_count": 153,
   "source": [
    "# Create a 3D-Scatter with the PCA data and the clusters\r\n",
    "threeDfig = px.scatter_3d(\r\n",
    "    pca_crypto_df,\r\n",
    "    x='PC1',\r\n",
    "    y='PC2',\r\n",
    "    z='PC3',\r\n",
    "    color='target',\r\n",
    "    symbol='target',\r\n",
    "    width=1000\r\n",
    ")\r\n",
    "threeDfig.update_layout(legend=dict(x=0, y=1))\r\n",
    "threeDfig.show()"
   ],
   "outputs": [
    {
     "output_type": "display_data",
     "data": {
      "application/vnd.plotly.v1+json": {
       "config": {
        "plotlyServerURL": "https://plot.ly"
       },
       "data": [
        {
         "hovertemplate": "target=%{marker.color}<br>PC1=%{x}<br>PC2=%{y}<br>PC3=%{z}<extra></extra>",
         "legendgroup": "0",
         "marker": {
          "color": [
           0,
           0,
           0,
           0,
           0,
           0,
           0,
           0,
           0,
           0,
           0,
           0,
           0,
           0,
           0,
           0,
           0,
           0,
           0,
           0,
           0,
           0,
           0,
           0,
           0,
           0,
           0,
           0,
           0,
           0,
           0,
           0,
           0,
           0,
           0,
           0,
           0,
           0,
           0,
           0,
           0,
           0,
           0,
           0,
           0,
           0,
           0,
           0,
           0,
           0,
           0,
           0,
           0,
           0,
           0,
           0,
           0
          ],
          "coloraxis": "coloraxis",
          "symbol": "circle"
         },
         "mode": "markers",
         "name": "0",
         "scene": "scene",
         "showlegend": true,
         "type": "scatter3d",
         "x": [
          0.2239979793029094,
          0.5586020489891784,
          0.4191666818136785,
          0.16035362180699586,
          0.4914069559023827,
          0.3191953714779025,
          0.8810347263326305,
          0.6773305479194163,
          1.686129629186434,
          0.5748193427807204,
          0.7814753961808152,
          0.5913570383043856,
          -0.1505002874501427,
          0.40039435690300873,
          1.2804924012483576,
          0.4702936276583745,
          0.6801361390012292,
          0.6043174408829836,
          0.09352272613378629,
          -0.2375936064488368,
          0.18091364283814004,
          0.43582202319092583,
          0.16035362180699902,
          -0.11599298793874845,
          0.2656829339651565,
          0.6641039022434337,
          0.7146917410914901,
          0.6784579970123163,
          0.46349021434657933,
          0.33600091421631,
          0.5748193427807191,
          0.6306710447830289,
          0.6801361390012273,
          0.22399797930290577,
          1.2804924012483538,
          0.47029362765837435,
          0.6803815399075775,
          0.6428429454551476,
          0.6801361390012275,
          0.5967362680605381,
          0.7156026642065857,
          0.06494465468678064,
          0.6801361390012288,
          0.4664504205570563,
          -0.06082782508156105,
          0.830440105009966,
          0.4634902143465788,
          1.2703119632616566,
          0.4702936276583744,
          0.2480456543843975,
          1.0140385162921728,
          0.23545391596104714,
          0.5748193427807194,
          0.6801361390012268,
          0.46645042055705577,
          0.6290631088003643,
          0.2239979793029068
         ],
         "y": [
          2.177597632475241e-14,
          2.6662370740212228e-14,
          1.6369055173091182e-14,
          2.140473988895957e-14,
          3.7168929948362526e-14,
          2.3593167383432512e-14,
          3.783105012597406e-14,
          3.63446899312485e-14,
          9.05805221795654e-14,
          3.954672521916565e-14,
          4.322815953076855e-14,
          3.687980131150225e-14,
          -5.411844044965442e-15,
          1.3095391159604328e-14,
          6.137166831256212e-14,
          3.636391814312741e-14,
          4.016832434274847e-14,
          3.553045119203768e-14,
          2.443211302623509e-14,
          -8.70633162611443e-15,
          1.0914531946061523e-14,
          2.3515512861633558e-14,
          2.1240331361316426e-14,
          2.3843943950147914e-16,
          1.772755620077593e-14,
          4.914304595249278e-14,
          4.8497374583356184e-14,
          4.586948355702883e-14,
          2.940625414537076e-14,
          2.5035536737046822e-14,
          3.892603630452807e-14,
          3.7610009486643056e-14,
          4.232687808191088e-14,
          2.352140234697263e-14,
          6.08442155806081e-14,
          3.751688746281447e-14,
          3.2130332286105456e-14,
          1.290657395795705e-14,
          4.1648118792252896e-14,
          3.225139443534925e-14,
          6.012476940410949e-14,
          8.30149531030646e-15,
          4.134231351145861e-14,
          3.165674285350156e-14,
          7.202068767103382e-16,
          5.3391585353173847e-14,
          2.8134450228623628e-14,
          6.937722568440295e-14,
          3.7046621733341184e-14,
          1.641416101339887e-14,
          4.582627683276826e-14,
          4.2608913307788355e-15,
          4.2690241138061374e-14,
          4.269019780745765e-14,
          3.2261163458655473e-14,
          3.27368100445953e-14,
          2.1295053414833348e-14
         ],
         "z": [
          6.274355562099025e-15,
          9.325725060320646e-15,
          2.1304365523488963e-14,
          1.0015915440354713e-16,
          -2.24633977139268e-15,
          8.286029871511914e-15,
          3.934497053782585e-15,
          1.4686903566649685e-14,
          3.983038457021027e-14,
          2.3708299618551242e-14,
          8.177802644727595e-15,
          1.4009681273023231e-14,
          -3.2615131504975936e-15,
          5.147108312313156e-15,
          2.1347438865225243e-14,
          2.1821048143856667e-15,
          1.0327397248267961e-14,
          1.1680074593692962e-14,
          8.13417937168121e-15,
          3.3227794138812927e-15,
          -5.0480433767704556e-15,
          1.3040255973539712e-14,
          1.2802350620121959e-14,
          2.5052909778533288e-15,
          4.6437268746867094e-15,
          1.0196453326849931e-14,
          1.2176383998057776e-14,
          8.935674489954049e-15,
          2.249907371488532e-14,
          1.1037615226661441e-14,
          1.6289446691749822e-14,
          2.069789549235011e-14,
          1.320199803332605e-14,
          4.405983582252122e-15,
          2.1265237269149546e-14,
          3.770376875706477e-15,
          1.0842411710832225e-14,
          4.398208358520347e-15,
          1.5265312427709732e-14,
          5.884717517518482e-16,
          1.332864138604403e-14,
          -1.8176472964840568e-15,
          1.2851989834071996e-14,
          1.4104391671192094e-14,
          -6.723375089082849e-15,
          1.0796667841329902e-14,
          2.2698438434646765e-14,
          -1.9312178681227017e-14,
          3.047490298201805e-15,
          -5.853445114334785e-15,
          1.7231445799295766e-14,
          1.1447824252226322e-14,
          1.8598004980954333e-14,
          1.4318577934188606e-14,
          8.640276607356042e-15,
          1.3796295986980556e-14,
          2.460964623328479e-15
         ]
        },
        {
         "hovertemplate": "target=%{marker.color}<br>PC1=%{x}<br>PC2=%{y}<br>PC3=%{z}<extra></extra>",
         "legendgroup": "4",
         "marker": {
          "color": [
           4,
           4,
           4,
           4,
           4,
           4,
           4,
           4,
           4,
           4,
           4,
           4,
           4,
           4,
           4,
           4,
           4,
           4,
           4,
           4,
           4,
           4,
           4,
           4,
           4,
           4,
           4,
           4,
           4,
           4,
           4,
           4,
           4,
           4,
           4,
           4,
           4,
           4,
           4,
           4,
           4,
           4,
           4,
           4,
           4,
           4,
           4,
           4,
           4,
           4,
           4,
           4,
           4,
           4,
           4,
           4,
           4,
           4,
           4,
           4,
           4,
           4,
           4
          ],
          "coloraxis": "coloraxis",
          "symbol": "diamond"
         },
         "mode": "markers",
         "name": "4",
         "scene": "scene",
         "showlegend": true,
         "type": "scatter3d",
         "x": [
          -0.561727629778522,
          -0.6060511623114363,
          -1.347525314214906,
          -1.2928586304058214,
          -0.33959127450382476,
          -1.2533675552329744,
          -1.0997457450731034,
          -0.5332151592815464,
          -0.8246625858708847,
          -1.2971525415958913,
          -1.3850605974123122,
          -0.5617276297785241,
          -1.4119903373790976,
          -0.7045289189070557,
          -0.6922028829476435,
          -0.7045289189070436,
          -0.5020017643986481,
          -1.411990337379098,
          -0.5060248689426298,
          -0.8396064496776405,
          -1.2762168637732283,
          -0.7045289189070468,
          -1.5159854335577327,
          -1.2762168637732276,
          -0.9052964054989456,
          -0.8771629872744815,
          -0.5617276297785242,
          -1.515985433557746,
          -1.1155211825367664,
          -1.2533675552329655,
          -1.5159854335577398,
          -1.0752089048776383,
          -1.375394722640548,
          -1.1697811838977852,
          -0.7045289189070316,
          -1.4119903373790987,
          -0.3499808579957972,
          -1.5159854335577405,
          -1.262649626650822,
          -0.8246625858708987,
          -1.2971525415959004,
          -0.9017185970201789,
          -0.834678695684512,
          -0.9052964054989466,
          -0.8104534167632301,
          -0.506024868942631,
          -1.169781183897785,
          -0.9052964054989459,
          -1.4688323699746162,
          -1.5159854335577374,
          -0.835336038302608,
          -0.692202882947644,
          -0.5617276297785239,
          -0.5617276297785242,
          -1.3747387005355634,
          -1.0443750318134388,
          -1.2971525415958778,
          -1.4236240953358978,
          -1.169781183897784,
          -1.4236240953358983,
          -1.4236240953358978,
          -1.515985433557737,
          -0.8246625858708948
         ],
         "y": [
          -1.4644493295988418e-14,
          -2.620382949132011e-14,
          -4.9718810521308e-14,
          -5.423007419673189e-14,
          2.8857296663835316e-15,
          -6.473737967817993e-14,
          -4.4628115664326274e-14,
          -1.405519900679984e-14,
          -2.2183888771084575e-14,
          -5.674635142537806e-14,
          -5.368048468644939e-14,
          -1.1102014650168071e-14,
          -6.322650736843456e-14,
          -1.7049419833246358e-14,
          -1.1571051116010142e-14,
          -1.728359439037911e-14,
          -5.0683566808158646e-14,
          -6.46814394730863e-14,
          -4.5770659101427884e-14,
          -3.0147379101341705e-14,
          -5.590928221372506e-14,
          -2.2103503400859457e-14,
          -6.120463437330527e-14,
          -5.447976269406025e-14,
          -3.646763711054173e-14,
          -3.262609446626698e-14,
          -1.1909550251959248e-14,
          -6.911815913840793e-14,
          -5.0069849999874164e-14,
          -5.820387044570462e-14,
          -6.082188080710593e-14,
          -3.130509489228562e-14,
          -5.527306126600948e-14,
          -4.219954801765917e-14,
          -1.917269533120336e-14,
          -6.315622052274477e-14,
          -2.3879257776628533e-15,
          -7.657334376664403e-14,
          -6.364904904426026e-14,
          -2.0628007720460277e-14,
          -4.725523753320148e-14,
          -2.7101397349363726e-14,
          -3.446773530286061e-14,
          -3.625258230421301e-14,
          -2.3624146669736058e-14,
          -3.86185085320065e-14,
          -4.6437841357238425e-14,
          -3.510897702923041e-14,
          -5.999107301857114e-14,
          -6.598628413313499e-14,
          -2.3661344813032832e-14,
          -1.187759996055557e-14,
          -1.0945516682929392e-14,
          -1.2026974574622391e-14,
          -6.550259827680957e-14,
          -5.501342653603747e-14,
          -5.196059551557026e-14,
          -6.173644391633621e-14,
          -4.367461340405932e-14,
          -6.326448371710855e-14,
          -6.310164900614136e-14,
          -7.060922576565201e-14,
          -2.2708233537192054e-14
         ],
         "z": [
          3.2585547584482203e-15,
          -3.3472420512381878e-15,
          -2.14237756098092e-14,
          -1.6711639980492426e-14,
          -3.764515921383315e-15,
          -1.71534846484192e-14,
          -1.3869208993974648e-14,
          4.82516117101896e-15,
          -1.0985107843465705e-14,
          -1.577754218844351e-14,
          -2.218031392403716e-14,
          -7.197687303553484e-15,
          -1.7021080771117922e-14,
          5.885560858097382e-15,
          -9.436943655769707e-16,
          1.9629219783156219e-16,
          3.074917967832609e-14,
          -2.3235062977118994e-14,
          -2.7926190975850104e-14,
          -8.85091020961724e-15,
          -1.9857498451239942e-14,
          1.1223078557088381e-15,
          -2.6063257364886276e-14,
          -2.207903130146131e-14,
          -8.032844090050622e-15,
          -7.169921534964151e-15,
          -5.366608153190133e-15,
          -1.8338826924183096e-14,
          -1.7652716420097304e-14,
          -1.0948940753287073e-14,
          -8.973034408147728e-15,
          -9.898820115467306e-15,
          -1.3422677021320367e-14,
          -1.5779120021377077e-14,
          -4.095560170548647e-15,
          -2.0643565289228337e-14,
          2.1801057607483164e-15,
          -1.0810424014993497e-14,
          -3.014678853575565e-14,
          -1.0116573236072456e-14,
          -2.055955530327608e-14,
          -1.3979270763810027e-14,
          -1.3159192593331424e-14,
          -9.493560302407504e-15,
          -6.157991152863778e-15,
          -2.320277032172897e-14,
          -1.3681837951430462e-14,
          -1.3899942736400239e-14,
          -3.143079330854e-14,
          -1.4679526951726692e-14,
          -1.7504930496086092e-14,
          -6.8728373334364386e-15,
          -5.08479302829388e-15,
          -3.619574391919623e-15,
          -2.0270268049533852e-14,
          -1.636022144773136e-14,
          -1.5608665037615242e-14,
          -2.013303769156065e-14,
          -1.4647078052611048e-14,
          -2.059424311387116e-14,
          -2.001169658464282e-14,
          -1.5264657394164686e-14,
          -5.010588190962413e-15
         ]
        },
        {
         "hovertemplate": "target=%{marker.color}<br>PC1=%{x}<br>PC2=%{y}<br>PC3=%{z}<extra></extra>",
         "legendgroup": "1",
         "marker": {
          "color": [
           1
          ],
          "coloraxis": "coloraxis",
          "symbol": "square"
         },
         "mode": "markers",
         "name": "1",
         "scene": "scene",
         "showlegend": true,
         "type": "scatter3d",
         "x": [
          11.60823627904061
         ],
         "y": [
          -11.313871841021408
         ],
         "z": [
          -14.236742203014657
         ]
        },
        {
         "hovertemplate": "target=%{marker.color}<br>PC1=%{x}<br>PC2=%{y}<br>PC3=%{z}<extra></extra>",
         "legendgroup": "2",
         "marker": {
          "color": [
           2
          ],
          "coloraxis": "coloraxis",
          "symbol": "x"
         },
         "mode": "markers",
         "name": "2",
         "scene": "scene",
         "showlegend": true,
         "type": "scatter3d",
         "x": [
          11.608236279040261
         ],
         "y": [
          -6.672444494429708
         ],
         "z": [
          16.91647153099359
         ]
        },
        {
         "hovertemplate": "target=%{marker.color}<br>PC1=%{x}<br>PC2=%{y}<br>PC3=%{z}<extra></extra>",
         "legendgroup": "3",
         "marker": {
          "color": [
           3
          ],
          "coloraxis": "coloraxis",
          "symbol": "cross"
         },
         "mode": "markers",
         "name": "3",
         "scene": "scene",
         "showlegend": true,
         "type": "scatter3d",
         "x": [
          11.60823627903976
         ],
         "y": [
          17.986316335451864
         ],
         "z": [
          -2.679729327978742
         ]
        }
       ],
       "layout": {
        "coloraxis": {
         "colorbar": {
          "title": {
           "text": "target"
          }
         },
         "colorscale": [
          [
           0,
           "#0d0887"
          ],
          [
           0.1111111111111111,
           "#46039f"
          ],
          [
           0.2222222222222222,
           "#7201a8"
          ],
          [
           0.3333333333333333,
           "#9c179e"
          ],
          [
           0.4444444444444444,
           "#bd3786"
          ],
          [
           0.5555555555555556,
           "#d8576b"
          ],
          [
           0.6666666666666666,
           "#ed7953"
          ],
          [
           0.7777777777777778,
           "#fb9f3a"
          ],
          [
           0.8888888888888888,
           "#fdca26"
          ],
          [
           1,
           "#f0f921"
          ]
         ]
        },
        "legend": {
         "title": {
          "text": "target"
         },
         "tracegroupgap": 0,
         "x": 0,
         "y": 1
        },
        "margin": {
         "t": 60
        },
        "scene": {
         "domain": {
          "x": [
           0,
           1
          ],
          "y": [
           0,
           1
          ]
         },
         "xaxis": {
          "title": {
           "text": "PC1"
          }
         },
         "yaxis": {
          "title": {
           "text": "PC2"
          }
         },
         "zaxis": {
          "title": {
           "text": "PC3"
          }
         }
        },
        "template": {
         "data": {
          "bar": [
           {
            "error_x": {
             "color": "#2a3f5f"
            },
            "error_y": {
             "color": "#2a3f5f"
            },
            "marker": {
             "line": {
              "color": "#E5ECF6",
              "width": 0.5
             },
             "pattern": {
              "fillmode": "overlay",
              "size": 10,
              "solidity": 0.2
             }
            },
            "type": "bar"
           }
          ],
          "barpolar": [
           {
            "marker": {
             "line": {
              "color": "#E5ECF6",
              "width": 0.5
             },
             "pattern": {
              "fillmode": "overlay",
              "size": 10,
              "solidity": 0.2
             }
            },
            "type": "barpolar"
           }
          ],
          "carpet": [
           {
            "aaxis": {
             "endlinecolor": "#2a3f5f",
             "gridcolor": "white",
             "linecolor": "white",
             "minorgridcolor": "white",
             "startlinecolor": "#2a3f5f"
            },
            "baxis": {
             "endlinecolor": "#2a3f5f",
             "gridcolor": "white",
             "linecolor": "white",
             "minorgridcolor": "white",
             "startlinecolor": "#2a3f5f"
            },
            "type": "carpet"
           }
          ],
          "choropleth": [
           {
            "colorbar": {
             "outlinewidth": 0,
             "ticks": ""
            },
            "type": "choropleth"
           }
          ],
          "contour": [
           {
            "colorbar": {
             "outlinewidth": 0,
             "ticks": ""
            },
            "colorscale": [
             [
              0,
              "#0d0887"
             ],
             [
              0.1111111111111111,
              "#46039f"
             ],
             [
              0.2222222222222222,
              "#7201a8"
             ],
             [
              0.3333333333333333,
              "#9c179e"
             ],
             [
              0.4444444444444444,
              "#bd3786"
             ],
             [
              0.5555555555555556,
              "#d8576b"
             ],
             [
              0.6666666666666666,
              "#ed7953"
             ],
             [
              0.7777777777777778,
              "#fb9f3a"
             ],
             [
              0.8888888888888888,
              "#fdca26"
             ],
             [
              1,
              "#f0f921"
             ]
            ],
            "type": "contour"
           }
          ],
          "contourcarpet": [
           {
            "colorbar": {
             "outlinewidth": 0,
             "ticks": ""
            },
            "type": "contourcarpet"
           }
          ],
          "heatmap": [
           {
            "colorbar": {
             "outlinewidth": 0,
             "ticks": ""
            },
            "colorscale": [
             [
              0,
              "#0d0887"
             ],
             [
              0.1111111111111111,
              "#46039f"
             ],
             [
              0.2222222222222222,
              "#7201a8"
             ],
             [
              0.3333333333333333,
              "#9c179e"
             ],
             [
              0.4444444444444444,
              "#bd3786"
             ],
             [
              0.5555555555555556,
              "#d8576b"
             ],
             [
              0.6666666666666666,
              "#ed7953"
             ],
             [
              0.7777777777777778,
              "#fb9f3a"
             ],
             [
              0.8888888888888888,
              "#fdca26"
             ],
             [
              1,
              "#f0f921"
             ]
            ],
            "type": "heatmap"
           }
          ],
          "heatmapgl": [
           {
            "colorbar": {
             "outlinewidth": 0,
             "ticks": ""
            },
            "colorscale": [
             [
              0,
              "#0d0887"
             ],
             [
              0.1111111111111111,
              "#46039f"
             ],
             [
              0.2222222222222222,
              "#7201a8"
             ],
             [
              0.3333333333333333,
              "#9c179e"
             ],
             [
              0.4444444444444444,
              "#bd3786"
             ],
             [
              0.5555555555555556,
              "#d8576b"
             ],
             [
              0.6666666666666666,
              "#ed7953"
             ],
             [
              0.7777777777777778,
              "#fb9f3a"
             ],
             [
              0.8888888888888888,
              "#fdca26"
             ],
             [
              1,
              "#f0f921"
             ]
            ],
            "type": "heatmapgl"
           }
          ],
          "histogram": [
           {
            "marker": {
             "pattern": {
              "fillmode": "overlay",
              "size": 10,
              "solidity": 0.2
             }
            },
            "type": "histogram"
           }
          ],
          "histogram2d": [
           {
            "colorbar": {
             "outlinewidth": 0,
             "ticks": ""
            },
            "colorscale": [
             [
              0,
              "#0d0887"
             ],
             [
              0.1111111111111111,
              "#46039f"
             ],
             [
              0.2222222222222222,
              "#7201a8"
             ],
             [
              0.3333333333333333,
              "#9c179e"
             ],
             [
              0.4444444444444444,
              "#bd3786"
             ],
             [
              0.5555555555555556,
              "#d8576b"
             ],
             [
              0.6666666666666666,
              "#ed7953"
             ],
             [
              0.7777777777777778,
              "#fb9f3a"
             ],
             [
              0.8888888888888888,
              "#fdca26"
             ],
             [
              1,
              "#f0f921"
             ]
            ],
            "type": "histogram2d"
           }
          ],
          "histogram2dcontour": [
           {
            "colorbar": {
             "outlinewidth": 0,
             "ticks": ""
            },
            "colorscale": [
             [
              0,
              "#0d0887"
             ],
             [
              0.1111111111111111,
              "#46039f"
             ],
             [
              0.2222222222222222,
              "#7201a8"
             ],
             [
              0.3333333333333333,
              "#9c179e"
             ],
             [
              0.4444444444444444,
              "#bd3786"
             ],
             [
              0.5555555555555556,
              "#d8576b"
             ],
             [
              0.6666666666666666,
              "#ed7953"
             ],
             [
              0.7777777777777778,
              "#fb9f3a"
             ],
             [
              0.8888888888888888,
              "#fdca26"
             ],
             [
              1,
              "#f0f921"
             ]
            ],
            "type": "histogram2dcontour"
           }
          ],
          "mesh3d": [
           {
            "colorbar": {
             "outlinewidth": 0,
             "ticks": ""
            },
            "type": "mesh3d"
           }
          ],
          "parcoords": [
           {
            "line": {
             "colorbar": {
              "outlinewidth": 0,
              "ticks": ""
             }
            },
            "type": "parcoords"
           }
          ],
          "pie": [
           {
            "automargin": true,
            "type": "pie"
           }
          ],
          "scatter": [
           {
            "marker": {
             "colorbar": {
              "outlinewidth": 0,
              "ticks": ""
             }
            },
            "type": "scatter"
           }
          ],
          "scatter3d": [
           {
            "line": {
             "colorbar": {
              "outlinewidth": 0,
              "ticks": ""
             }
            },
            "marker": {
             "colorbar": {
              "outlinewidth": 0,
              "ticks": ""
             }
            },
            "type": "scatter3d"
           }
          ],
          "scattercarpet": [
           {
            "marker": {
             "colorbar": {
              "outlinewidth": 0,
              "ticks": ""
             }
            },
            "type": "scattercarpet"
           }
          ],
          "scattergeo": [
           {
            "marker": {
             "colorbar": {
              "outlinewidth": 0,
              "ticks": ""
             }
            },
            "type": "scattergeo"
           }
          ],
          "scattergl": [
           {
            "marker": {
             "colorbar": {
              "outlinewidth": 0,
              "ticks": ""
             }
            },
            "type": "scattergl"
           }
          ],
          "scattermapbox": [
           {
            "marker": {
             "colorbar": {
              "outlinewidth": 0,
              "ticks": ""
             }
            },
            "type": "scattermapbox"
           }
          ],
          "scatterpolar": [
           {
            "marker": {
             "colorbar": {
              "outlinewidth": 0,
              "ticks": ""
             }
            },
            "type": "scatterpolar"
           }
          ],
          "scatterpolargl": [
           {
            "marker": {
             "colorbar": {
              "outlinewidth": 0,
              "ticks": ""
             }
            },
            "type": "scatterpolargl"
           }
          ],
          "scatterternary": [
           {
            "marker": {
             "colorbar": {
              "outlinewidth": 0,
              "ticks": ""
             }
            },
            "type": "scatterternary"
           }
          ],
          "surface": [
           {
            "colorbar": {
             "outlinewidth": 0,
             "ticks": ""
            },
            "colorscale": [
             [
              0,
              "#0d0887"
             ],
             [
              0.1111111111111111,
              "#46039f"
             ],
             [
              0.2222222222222222,
              "#7201a8"
             ],
             [
              0.3333333333333333,
              "#9c179e"
             ],
             [
              0.4444444444444444,
              "#bd3786"
             ],
             [
              0.5555555555555556,
              "#d8576b"
             ],
             [
              0.6666666666666666,
              "#ed7953"
             ],
             [
              0.7777777777777778,
              "#fb9f3a"
             ],
             [
              0.8888888888888888,
              "#fdca26"
             ],
             [
              1,
              "#f0f921"
             ]
            ],
            "type": "surface"
           }
          ],
          "table": [
           {
            "cells": {
             "fill": {
              "color": "#EBF0F8"
             },
             "line": {
              "color": "white"
             }
            },
            "header": {
             "fill": {
              "color": "#C8D4E3"
             },
             "line": {
              "color": "white"
             }
            },
            "type": "table"
           }
          ]
         },
         "layout": {
          "annotationdefaults": {
           "arrowcolor": "#2a3f5f",
           "arrowhead": 0,
           "arrowwidth": 1
          },
          "autotypenumbers": "strict",
          "coloraxis": {
           "colorbar": {
            "outlinewidth": 0,
            "ticks": ""
           }
          },
          "colorscale": {
           "diverging": [
            [
             0,
             "#8e0152"
            ],
            [
             0.1,
             "#c51b7d"
            ],
            [
             0.2,
             "#de77ae"
            ],
            [
             0.3,
             "#f1b6da"
            ],
            [
             0.4,
             "#fde0ef"
            ],
            [
             0.5,
             "#f7f7f7"
            ],
            [
             0.6,
             "#e6f5d0"
            ],
            [
             0.7,
             "#b8e186"
            ],
            [
             0.8,
             "#7fbc41"
            ],
            [
             0.9,
             "#4d9221"
            ],
            [
             1,
             "#276419"
            ]
           ],
           "sequential": [
            [
             0,
             "#0d0887"
            ],
            [
             0.1111111111111111,
             "#46039f"
            ],
            [
             0.2222222222222222,
             "#7201a8"
            ],
            [
             0.3333333333333333,
             "#9c179e"
            ],
            [
             0.4444444444444444,
             "#bd3786"
            ],
            [
             0.5555555555555556,
             "#d8576b"
            ],
            [
             0.6666666666666666,
             "#ed7953"
            ],
            [
             0.7777777777777778,
             "#fb9f3a"
            ],
            [
             0.8888888888888888,
             "#fdca26"
            ],
            [
             1,
             "#f0f921"
            ]
           ],
           "sequentialminus": [
            [
             0,
             "#0d0887"
            ],
            [
             0.1111111111111111,
             "#46039f"
            ],
            [
             0.2222222222222222,
             "#7201a8"
            ],
            [
             0.3333333333333333,
             "#9c179e"
            ],
            [
             0.4444444444444444,
             "#bd3786"
            ],
            [
             0.5555555555555556,
             "#d8576b"
            ],
            [
             0.6666666666666666,
             "#ed7953"
            ],
            [
             0.7777777777777778,
             "#fb9f3a"
            ],
            [
             0.8888888888888888,
             "#fdca26"
            ],
            [
             1,
             "#f0f921"
            ]
           ]
          },
          "colorway": [
           "#636efa",
           "#EF553B",
           "#00cc96",
           "#ab63fa",
           "#FFA15A",
           "#19d3f3",
           "#FF6692",
           "#B6E880",
           "#FF97FF",
           "#FECB52"
          ],
          "font": {
           "color": "#2a3f5f"
          },
          "geo": {
           "bgcolor": "white",
           "lakecolor": "white",
           "landcolor": "#E5ECF6",
           "showlakes": true,
           "showland": true,
           "subunitcolor": "white"
          },
          "hoverlabel": {
           "align": "left"
          },
          "hovermode": "closest",
          "mapbox": {
           "style": "light"
          },
          "paper_bgcolor": "white",
          "plot_bgcolor": "#E5ECF6",
          "polar": {
           "angularaxis": {
            "gridcolor": "white",
            "linecolor": "white",
            "ticks": ""
           },
           "bgcolor": "#E5ECF6",
           "radialaxis": {
            "gridcolor": "white",
            "linecolor": "white",
            "ticks": ""
           }
          },
          "scene": {
           "xaxis": {
            "backgroundcolor": "#E5ECF6",
            "gridcolor": "white",
            "gridwidth": 2,
            "linecolor": "white",
            "showbackground": true,
            "ticks": "",
            "zerolinecolor": "white"
           },
           "yaxis": {
            "backgroundcolor": "#E5ECF6",
            "gridcolor": "white",
            "gridwidth": 2,
            "linecolor": "white",
            "showbackground": true,
            "ticks": "",
            "zerolinecolor": "white"
           },
           "zaxis": {
            "backgroundcolor": "#E5ECF6",
            "gridcolor": "white",
            "gridwidth": 2,
            "linecolor": "white",
            "showbackground": true,
            "ticks": "",
            "zerolinecolor": "white"
           }
          },
          "shapedefaults": {
           "line": {
            "color": "#2a3f5f"
           }
          },
          "ternary": {
           "aaxis": {
            "gridcolor": "white",
            "linecolor": "white",
            "ticks": ""
           },
           "baxis": {
            "gridcolor": "white",
            "linecolor": "white",
            "ticks": ""
           },
           "bgcolor": "#E5ECF6",
           "caxis": {
            "gridcolor": "white",
            "linecolor": "white",
            "ticks": ""
           }
          },
          "title": {
           "x": 0.05
          },
          "xaxis": {
           "automargin": true,
           "gridcolor": "white",
           "linecolor": "white",
           "ticks": "",
           "title": {
            "standoff": 15
           },
           "zerolinecolor": "white",
           "zerolinewidth": 2
          },
          "yaxis": {
           "automargin": true,
           "gridcolor": "white",
           "linecolor": "white",
           "ticks": "",
           "title": {
            "standoff": 15
           },
           "zerolinecolor": "white",
           "zerolinewidth": 2
          }
         }
        },
        "width": 1000
       }
      }
     },
     "metadata": {}
    }
   ],
   "metadata": {}
  },
  {
   "cell_type": "markdown",
   "source": [
    "#### Table of Tradable Cryptocurrencies"
   ],
   "metadata": {}
  },
  {
   "cell_type": "code",
   "execution_count": 162,
   "source": [
    "# Table with tradable cryptos\r\n",
    "table_crypto_df = pd.DataFrame(stripped_crypto_df)\r\n",
    "table_crypto_df['CoinName'] = coin_name_df['CoinName']\r\n",
    "table_crypto_df['target'] = pca_crypto_df['target'].values\r\n",
    "table_crypto_df.hvplot.table(columns=[\"CoinName\", \"Algorithm\", \"ProofType\", \"MaxSupply\", \"TotalCoinsMined\", \"target\"], sortable=True, selectable=True)"
   ],
   "outputs": [
    {
     "output_type": "display_data",
     "data": {},
     "metadata": {}
    },
    {
     "output_type": "execute_result",
     "data": {
      "application/vnd.holoviews_exec.v0+json": "",
      "text/plain": [
       ":Table   [CoinName,Algorithm,ProofType,MaxSupply,TotalCoinsMined,target]"
      ],
      "text/html": [
       "<div id='1433'>\n",
       "\n",
       "\n",
       "\n",
       "\n",
       "\n",
       "  <div class=\"bk-root\" id=\"335b2bcc-350b-4767-8071-9b08c035cd48\" data-root-id=\"1433\"></div>\n",
       "</div>\n",
       "<script type=\"application/javascript\">(function(root) {\n",
       "  function embed_document(root) {\n",
       "  var docs_json = {\"da587a4b-e72c-440b-aced-8becb4a6540c\":{\"roots\":{\"references\":[{\"attributes\":{},\"id\":\"1458\",\"type\":\"StringEditor\"},{\"attributes\":{},\"id\":\"1447\",\"type\":\"StringFormatter\"},{\"attributes\":{\"editor\":{\"id\":\"1438\"},\"field\":\"CoinName\",\"formatter\":{\"id\":\"1437\"},\"title\":\"CoinName\"},\"id\":\"1439\",\"type\":\"TableColumn\"},{\"attributes\":{},\"id\":\"1463\",\"type\":\"IntEditor\"},{\"attributes\":{\"margin\":[5,5,5,5],\"name\":\"HSpacer02493\",\"sizing_mode\":\"stretch_width\"},\"id\":\"1471\",\"type\":\"Spacer\"},{\"attributes\":{\"editor\":{\"id\":\"1448\"},\"field\":\"ProofType\",\"formatter\":{\"id\":\"1447\"},\"title\":\"ProofType\"},\"id\":\"1449\",\"type\":\"TableColumn\"},{\"attributes\":{},\"id\":\"1438\",\"type\":\"StringEditor\"},{\"attributes\":{},\"id\":\"1437\",\"type\":\"StringFormatter\"},{\"attributes\":{},\"id\":\"1452\",\"type\":\"StringFormatter\"},{\"attributes\":{},\"id\":\"1442\",\"type\":\"StringFormatter\"},{\"attributes\":{},\"id\":\"1457\",\"type\":\"StringFormatter\"},{\"attributes\":{\"margin\":[5,5,5,5],\"name\":\"HSpacer02492\",\"sizing_mode\":\"stretch_width\"},\"id\":\"1434\",\"type\":\"Spacer\"},{\"attributes\":{\"columns\":[{\"id\":\"1439\"},{\"id\":\"1444\"},{\"id\":\"1449\"},{\"id\":\"1454\"},{\"id\":\"1459\"},{\"id\":\"1464\"}],\"height\":300,\"reorderable\":false,\"source\":{\"id\":\"1435\"},\"view\":{\"id\":\"1468\"},\"width\":700},\"id\":\"1467\",\"type\":\"DataTable\"},{\"attributes\":{\"editor\":{\"id\":\"1453\"},\"field\":\"MaxSupply\",\"formatter\":{\"id\":\"1452\"},\"title\":\"MaxSupply\"},\"id\":\"1454\",\"type\":\"TableColumn\"},{\"attributes\":{},\"id\":\"1436\",\"type\":\"Selection\"},{\"attributes\":{\"children\":[{\"id\":\"1434\"},{\"id\":\"1467\"},{\"id\":\"1471\"}],\"margin\":[0,0,0,0],\"name\":\"Row02488\",\"tags\":[\"embedded\"]},\"id\":\"1433\",\"type\":\"Row\"},{\"attributes\":{},\"id\":\"1470\",\"type\":\"UnionRenderers\"},{\"attributes\":{},\"id\":\"1448\",\"type\":\"StringEditor\"},{\"attributes\":{},\"id\":\"1462\",\"type\":\"NumberFormatter\"},{\"attributes\":{\"data\":{\"Algorithm\":[\"Scrypt\",\"PoS\",\"Scrypt\",\"X13\",\"Scrypt\",\"Scrypt\",\"X11\",\"Scrypt\",\"RandomX\",\"Dagger\",\"Equihash\",\"X11\",\"Equihash\",\"Ethash\",\"IMesh\",\"SHA-512\",\"Dagger\",\"SPoS\",\"CryptoNight\",\"X16RT\",\"C31\",\"X16R\",\"ECC 256K1\",\"Scrypt\",\"Scrypt\",\"HEX\",\"SHA-256\",\"POS 3.0\",\"CryptoNight-Heavy\",\"Ethash\",\"Quark\",\"CryptoNight-Lite\",\"Equihash\",\"DPoS\",\"PoS\",\"SHA-256\",\"SPL Token\",\"Equihash\",\"Equihash\",\"Ethash\",\"Equihash\",\"SHA-256\",\"Scrypt\",\"Eaglesong\",\"Blake2B + SHA3\",\"SHA-256\",\"IMesh\",\"Scrypt\",\"SHA-256\",\"Scrypt\",\"Scrypt\",\"Multiple\",\"Scrypt\",\"TRC-10\",\"Autolykos\",\"X16R\",\"Equihash\",\"NeoScrypt\",\"Lyra2REv2\",\"Multiple\",\"DPoS\",\"Proof-of-Authority\",\"X13\",\"Equihash\",\"Scrypt\",\"Leased POS\",\"VeChainThor Authority\",\"Dagger-Hashimoto\",\"SHA-256\",\"X13\",\"PoS\",\"KECCAK\",\"X11GOST\",\"Blake2b\",\"DPoS\",\"Scrypt\",\"POS 3.0\",\"Quark\",\"VBFT\",\"PoS\",\"SHA3\",\"Blake2b\",\"SHA-256\",\"RandomX\",\"Scrypt\",\"Scrypt\",\"DPoS\",\"Equihash\",\"X11\",\"Loopchain\",\"BLAKE256\",\"Equihash\",\"Scrypt\",\"Groestl\",\"MTP\",\"Ethash\",\"Ethash\",\"DPoS\",\"Scrypt\",\"Scrypt\",\"BMW512 / Echo512\",\"Multiple\",\"BLAKE256\",\"X11\",\"X13\",\"Ouroboros\",\"Tensority\",\"CryptoNight\",\"Quark\",\"Scrypt\",\"SHA-512\",\"SHA-256\",\"Equihash\",\"X13\",\"SHA-256\",\"SHA-256\",\"BEP-2\",\"DPoS\",\"Equihash210,9\",\"DPoS\",\"EtcHash\",\"Scrypt\",\"C31\"],\"CoinName\":[\"NovaCoin\",\"NuShares\",\"MonaCoin\",\"Triangles Coin\",\"SafeExchangeCoin\",\"CometCoin\",\"Stakenet\",\"OpenChat\",\"Quantum Resistant Ledger\",\"Amber\",\"BitcoinZ\",\"Pura\",\"Bitcoin Private\",\"Callisto Network\",\"Aidos Kuneen\",\"Kcash\",\"DAPS Coin\",\"V Systems\",\"Beldex\",\"VEIL\",\"MimbleWimbleCoin\",\"Ravencoin Classic\",\"Acute Angle Cloud\",\"Primas\",\"Auroracoin\",\"XDNA\",\"Wibcoin\",\"TokenPay\",\"Haven Protocol\",\"EtherZero\",\"QuarkCoin\",\"AEON\",\"TENT\",\"Oxycoin\",\"Anchor Protocol\",\"Arweave\",\"MAPS\",\"Pirate Chain\",\"Bithereum\",\"BeforeCoinMarketCap\",\"Zelcash\",\"Smart Bitcoin\",\"Canada eCoin\",\"Nervos Network\",\"Handshake\",\"UnitedBitcoin\",\"INT\",\"VeriCoin\",\"Emercoin\",\"Flo\",\"PotCoin\",\"Circuits of Value\",\"ViaCoin\",\"BitTorrent\",\"Ergo\",\"Genix\",\"Beam\",\"FeatherCoin\",\"Vertcoin\",\"Verge\",\"Rise\",\"Poa Network\",\"NavCoin\",\"ZCash\",\"WhiteCoin\",\"Waves\",\"VeChain\",\"Ubiq\",\"SysCoin\",\"Stratis\",\"Steem\",\"SmartCash\",\"SibCoin\",\"Siacoin\",\"Shift\",\"SaluS\",\"QTUM\",\"Private Instant Verified Transaction\",\"Ontology\",\"Nxt\",\"Nexus\",\"Nano\",\"Namecoin\",\"Monero\",\"MegaCoin\",\"Litecoin\",\"Lisk\",\"Komodo\",\"IOCoin\",\"ICON Project\",\"HyperCash\",\"Horizen\",\"Gulden\",\"Groestlcoin\",\"Firo\",\"Expanse\",\"Ethereum\",\"EOS\",\"Einsteinium\",\"Dogecoin\",\"DigitalNote\",\"DigiByte\",\"Decred\",\"Dash\",\"CloakCoin\",\"Cardano\",\"Bytom\",\"ByteCoin\",\"BlockNet\",\"BlackCoin\",\"Bitshares\",\"Bitcoin SV\",\"Bitcoin Gold\",\"Bitcoin Diamond\",\"Bitcoin Cash\",\"Bitcoin\",\"Binance Coin\",\"ARK\",\"Aion\",\"Achain\",\"Ethereum Classic\",\"Reddcoin\",\"Grin\"],\"MaxSupply\":{\"__ndarray__\":\"AAAAAAAA8L8AAAAAAAAAAAAAAAAAAPC/AAAAAAAAAAAAAAAAAADwvwAAAAAAAAAAAAAAAAAA8L8AAAAAAADwvwAAAACxCJlBAAAAAAAA8L8AAABIyo4TQgAAAAAAAPC/AAAAQF/QdUEAAAAQ4jb4QQAAAAAAAAAAAAAAAAAA8L8AAAA8U0wwQgAAAAAAAPC/AAAAAAAA8L8AAAAAo+GxQQAAAADQEnNBAAAASMqOE0IAAAAAAADwvwAAAAAAAPC/AAAAAPQGdEEAAAAAAAAAAOwNE4u0Gm1CAAAAAITXd0EAAAAAAADwvwAAAAAAAPC/AAAAAAAA8L8AAAAAAADwvwAAAADQDJRBAAAAAAAA8L8AAAAAAADwvwAAAACkeI9BAAAAIF+gAkIAAAAAhNenQQAAAAAAAAAAAAAAAAAA8L8AAAAAsQipQQAAAAD0BnRBAAAAUAKZmUEAAAAAAADwvwAAAID7Zd5BAAAAAPQGdEEAAAAAZc3NQQAAAAAAAPC/AAAAAAAA8L8AAAAA0BKjQQAAAACxCLlBAAAAAAAA8L8AAAAAAADwvwAAAAAAAPC/AAAAUpJNl0EAAAAAsQipQQAAAAAFVK9BAAAAAPQGtEEAAAAA9AaUQQAAAAYK1g5CAAAAAAAA8L8AAAAAAADwvwAAAAAAAPC/AAAAAPQGdEEAAAAAZc3NQQAAAAAAAPC/AABizHkwNEIAAAAAAADwvwAAAADndspBAAAAAAAA8L8AAAAAAADwvwAAACBfoPJBAAAAAPQGdEEAAAAAAADwvwAAAAAAAPC/AAAAAAAA8L8AAAAJ9bSZQQAAAAAAAPC/AAAAAAAA8L8AAAAAZc3NQQAAAAC+mJJBAAAAiNTEn0EAAAAAAADwvwAAAAAAAPC/AAAAAPQGhEEAAAAA9AaUQQAAAAAAAPC/AAAAAITXp0EAAAAAGPt0QQAAAAAAAPC/AAAAAPQGlEEAAAAA9AZ0QQAAAACxCNlBAAAAALEImUEAAAAAnGh0QQAAAACE15dBAAAAAAAA8L8AAAAAAADwvwAAAAAAAPC/AAAAAAAA8L8AAAAAAADwvwAAAEjKjhNCAAAAAPQGdEEAAAAAQgZyQQAAAAAAAPC/AAAABGv0JEIAAAAAsQipQQAAwGiieUVCAAAAAAAA8L8AAAAAhNeXQQAAwBCL0+pB5WGh//MGdEEAAAAA9AZ0QQAAAACxCKlB5WGh//MGdEHlYaH/8wZ0QQAAAAAAAPC/AAAAAAAA8L8AAAAAAADwvwAAAAAAAAAAAAAAwA0eqUEAAAAAAADwvwAAAAAAAPC/\",\"dtype\":\"float64\",\"shape\":[123]},\"ProofType\":[\"PoW/PoS\",\"PoS\",\"PoW\",\"PoW/PoS\",\"PoC\",\"PoW\",\"TPoS\",\"PoW/PoS\",\"PoW\",\"PoA\",\"PoW\",\"PoW\",\"PoW\",\"PoW\",\"PoW\",\"Zero-Knowledge Proof\",\" PoW/PoS/PoA\",\"SPoS\",\"PoW\",\"PoW/PoS\",\"PoW\",\"PoW\",\"DPOS\",\"PoW\",\"PoW/PoS\",\"PoW/PoS\",\"PoW\",\"PoS\",\"PoW\",\"PoW\",\"PoW/PoS\",\"PoW\",\"mPoW\",\"DPoS\",\"PoS\",\"PoW\",\"PoH\",\"dPoW\",\"PoW\",\"PoW/PoS\",\"PoW/PoS\",\"PoW\",\"Auxpow\",\"PoW\",\"PoW\",\"PoW\",\"DPoS+dBFT\",\"PoST\",\"PoW/PoS\",\"PoW\",\"PoW/PoS\",\"PoW\",\"PoW\",\"DPoS\",\"PoW\",\"PoW\",\"PoW\",\"PoW\",\"PoW\",\"PoW\",\"PoS\",\"PoA\",\"PoW/PoS\",\"PoW\",\"PoW/PoS\",\"LPoS\",\"Proof of Authority\",\"PoW\",\"PoW\",\"PoS\",\"PoW\",\"PoW\",\"PoW\",\"PoW\",\"DPoS\",\"PoW/PoS\",\"PoS\",\"PoW/PoS\",\"PoS\",\"PoS/LPoS\",\"PoW/nPoS\",\"PoW\",\"PoW\",\"PoW\",\"PoW\",\"PoW\",\"DPoS\",\"dPoW/PoW\",\"PoW/PoS\",\"PoS\",\"PoW/PoS\",\"PoW\",\"PoW\",\"PoW\",\"PoW\",\"PoW\",\"PoW\",\"DPoS\",\"PoW\",\"PoW\",\"PoW/PoS\",\"PoW\",\"PoW/PoS\",\"PoW/PoSe\",\"PoW/PoS\",\"PoS\",\"PoW\",\"PoW\",\"PoW/PoS\",\"PoS\",\"DPoS\",\"PoW\",\"PoW\",\"PoW/PoS\",\"PoW\",\"PoW\",\"PoSA\",\"DPoS\",\"PoW/PoS\",\"DPoS\",\"PoW\",\"PoW/PoS\",\"PoW\"],\"TotalCoinsMined\":{\"__ndarray__\":\"guUI+U7ISUHXEsHJ3/X2QbDl4ocixJNBOxqH2qmYBkEAAMD////fQQAAAAD8oipB4QzNeo9fnUEAAAAAZc3NQQojNKfE0pFBAACAb+k/x0Fm4CqykdICQujsrYFCdKZBJHujMb8iTUGbjpey74XmQQAAAACE13dBAAAAAGXNzUEAAOgTDwUtQgAAQC9FDvZBAACA5Gzd1EGDtve0zfqbQeCnBTXQimRBAABA6ivkAEIAAAAAZc3NQQAAAACE15dB9yjjq4aNckEAAACg5ddgQewNE4u0Gm1CAAAAkOTddEH9mzQopg5tQTMzs1FGIatBeBEVLOpSsEF09gVelRpxQQAAAEC/SIJBFK7Xcoy50EEAAAAAZc3NQbuf8sB6vY5BAAAAAKPhkUHcY8nZUDSmQQAAAACHdH1BJf7Igc3c/0EAAAAA3jm6QZUa8zqQlp9AAAAAhDfPl0G9UOTN2i0fQsdoiY0QxLhBAAAAAPQGdEHobtzS7cHGQQ4EyFOjMYBBkuc6WXrehkEZDC2Rx6GgQcp62V9WBKtBi4JN/CVs2kFMaqa28Rl2QfIAXi39z2xCAAAA6MMzhEEAAAA4qOyZQR2NwXagk5BBMfUDLNmrrUHBd4huvluNQQp+//R4sA5ChevRzuXwpUHKPW93oVqxQY4/fnCIDJFBIF/EnhP6ZUEAAAA6q/nLQQAAANBBSJlBAAAZmxsFNEJJ7NSWsVmIQaXLSuJHbMJBAAAApLQToEHP95NZvRK3QeAGFhcYOORBcRkLy1V8ckEAAAAwC6gmQgAAAOBDTWxBCjbHknGML0EAAACU2LiYQdhoxDvd6Y9BAAAAAGXNzUFABvi7w8XNQb3HSWKOB5FBAAAAiNTEn0EAAABQStxwQXrDNsaJJnFBQN5xYWvmgkEdE++2d1CQQQAAAKSMQ6FB//vE4LXhnkFx65ZfiTFyQaVLNzF95spBBOahKvF9hUEAAABgc99lQd/6pc7tGcBBpq+Ml2CqkkH9cl2ZJ11nQVyPwv/hi4BB3Pn+Mwn5m0EK1yPpnMjOQfH//whwdapBibQfyNB8PkI9cxNvPI/2Qc0q4/ViPgtC8WgBy7FNaUH4n0YGXaxjQbTq78tVt1VB2lzsj1MdHkIAACBg81TZQTqMMOKOeUVCxEFhN6R/XkFelsVKVQaNQTnuErJ2T+ZBm81Ovv/0cUFmL8Z9L/NxQQAAAISc+adBXz9Zasj1cUEAAABwY+5xQc3MzJciC6RBAQAA7OAGo0EAAACsYYS9QQAAAABlzc1B3arSB5OKnkF877kbhlIcQmvne/nAbJJB\",\"dtype\":\"float64\",\"shape\":[123]},\"target\":{\"__ndarray__\":\"AAAAAAAAAAAEAAAAAAAAAAAAAAAEAAAAAAAAAAAAAAAEAAAAAAAAAAQAAAAEAAAABAAAAAQAAAAEAAAAAAAAAAAAAAAAAAAABAAAAAAAAAAEAAAABAAAAAAAAAAEAAAAAAAAAAAAAAAEAAAAAAAAAAQAAAAEAAAAAAAAAAQAAAAEAAAAAAAAAAAAAAAEAAAAAQAAAAQAAAAEAAAAAAAAAAAAAAAEAAAAAAAAAAQAAAAEAAAABAAAAAAAAAAAAAAAAAAAAAQAAAAAAAAABAAAAAQAAAAAAAAABAAAAAQAAAAEAAAABAAAAAQAAAAEAAAAAAAAAAAAAAAAAAAABAAAAAAAAAAAAAAAAgAAAAQAAAAEAAAAAAAAAAQAAAAEAAAABAAAAAQAAAAAAAAAAAAAAAAAAAAAAAAAAAAAAAAAAAADAAAABAAAAAQAAAAEAAAABAAAAAQAAAAAAAAABAAAAAAAAAAAAAAAAAAAAAQAAAAEAAAABAAAAAQAAAAEAAAABAAAAAAAAAAEAAAABAAAAAAAAAAEAAAAAAAAAAAAAAAAAAAAAAAAAAQAAAAEAAAAAAAAAAAAAAAAAAAABAAAAAQAAAAAAAAABAAAAAQAAAAAAAAAAAAAAAAAAAAAAAAABAAAAAAAAAAEAAAA\",\"dtype\":\"int32\",\"shape\":[123]}},\"selected\":{\"id\":\"1436\"},\"selection_policy\":{\"id\":\"1470\"}},\"id\":\"1435\",\"type\":\"ColumnDataSource\"},{\"attributes\":{},\"id\":\"1443\",\"type\":\"StringEditor\"},{\"attributes\":{\"editor\":{\"id\":\"1463\"},\"field\":\"target\",\"formatter\":{\"id\":\"1462\"},\"title\":\"target\"},\"id\":\"1464\",\"type\":\"TableColumn\"},{\"attributes\":{\"editor\":{\"id\":\"1458\"},\"field\":\"TotalCoinsMined\",\"formatter\":{\"id\":\"1457\"},\"title\":\"TotalCoinsMined\"},\"id\":\"1459\",\"type\":\"TableColumn\"},{\"attributes\":{\"editor\":{\"id\":\"1443\"},\"field\":\"Algorithm\",\"formatter\":{\"id\":\"1442\"},\"title\":\"Algorithm\"},\"id\":\"1444\",\"type\":\"TableColumn\"},{\"attributes\":{\"source\":{\"id\":\"1435\"}},\"id\":\"1468\",\"type\":\"CDSView\"},{\"attributes\":{},\"id\":\"1453\",\"type\":\"StringEditor\"}],\"root_ids\":[\"1433\"]},\"title\":\"Bokeh Application\",\"version\":\"2.0.2\"}};\n",
       "  var render_items = [{\"docid\":\"da587a4b-e72c-440b-aced-8becb4a6540c\",\"root_ids\":[\"1433\"],\"roots\":{\"1433\":\"335b2bcc-350b-4767-8071-9b08c035cd48\"}}];\n",
       "  root.Bokeh.embed.embed_items_notebook(docs_json, render_items);\n",
       "  }\n",
       "if (root.Bokeh !== undefined) {\n",
       "    embed_document(root);\n",
       "  } else {\n",
       "    var attempts = 0;\n",
       "    var timer = setInterval(function(root) {\n",
       "      if (root.Bokeh !== undefined) {\n",
       "        clearInterval(timer);\n",
       "        embed_document(root);\n",
       "      } else if (document.readyState == \"complete\") {\n",
       "        attempts++;\n",
       "        if (attempts > 100) {\n",
       "          clearInterval(timer);\n",
       "          console.log(\"Bokeh: ERROR: Unable to run BokehJS code because BokehJS library is missing\");\n",
       "        }\n",
       "      }\n",
       "    }, 10, root)\n",
       "  }\n",
       "})(window);</script>"
      ]
     },
     "metadata": {
      "application/vnd.holoviews_exec.v0+json": {
       "id": "1433"
      }
     },
     "execution_count": 162
    }
   ],
   "metadata": {}
  },
  {
   "cell_type": "code",
   "execution_count": 163,
   "source": [
    "# Print the total number of tradable cryptocurrencies\r\n",
    "print(f\"Total Amount of Tradable CryptoCurrencies: {table_crypto_df.shape[0]}\")"
   ],
   "outputs": [
    {
     "output_type": "stream",
     "name": "stdout",
     "text": [
      "Total Amount of Tradable CryptoCurrencies: 123\n"
     ]
    }
   ],
   "metadata": {}
  },
  {
   "cell_type": "markdown",
   "source": [
    "#### Scatter Plot with Tradable Cryptocurrencies"
   ],
   "metadata": {}
  },
  {
   "cell_type": "code",
   "execution_count": 167,
   "source": [
    "# Scale data to create the scatter plot\r\n",
    "mm_scaler = MinMaxScaler()\r\n",
    "scatter_crypto = mm_scaler.fit_transform(table_crypto_df[['TotalCoinsMined', 'MaxSupply']].copy())"
   ],
   "outputs": [],
   "metadata": {}
  },
  {
   "cell_type": "code",
   "execution_count": 170,
   "source": [
    "scatter_crypto_df = pd.DataFrame(scatter_crypto, index=table_crypto_df['CoinName'], columns=['TotalCoinsMined', 'MaxSupply'])\r\n",
    "scatter_crypto_df"
   ],
   "outputs": [
    {
     "output_type": "execute_result",
     "data": {
      "text/plain": [
       "                  TotalCoinsMined     MaxSupply\n",
       "CoinName                                       \n",
       "NovaCoin             3.377280e-06  0.000000e+00\n",
       "NuShares             6.163293e-03  9.999833e-13\n",
       "MonaCoin             8.290184e-05  0.000000e+00\n",
       "Triangles Coin       1.830845e-07  9.999833e-13\n",
       "SafeExchangeCoin     2.147446e-03  0.000000e+00\n",
       "...                           ...           ...\n",
       "Aion                 4.952047e-04  0.000000e+00\n",
       "Achain               9.999813e-04  9.999833e-13\n",
       "Ethereum Classic     1.280954e-04  2.106965e-04\n",
       "Reddcoin             3.041039e-02  0.000000e+00\n",
       "Grin                 7.727598e-05  0.000000e+00\n",
       "\n",
       "[123 rows x 2 columns]"
      ],
      "text/html": [
       "<div>\n",
       "<style scoped>\n",
       "    .dataframe tbody tr th:only-of-type {\n",
       "        vertical-align: middle;\n",
       "    }\n",
       "\n",
       "    .dataframe tbody tr th {\n",
       "        vertical-align: top;\n",
       "    }\n",
       "\n",
       "    .dataframe thead th {\n",
       "        text-align: right;\n",
       "    }\n",
       "</style>\n",
       "<table border=\"1\" class=\"dataframe\">\n",
       "  <thead>\n",
       "    <tr style=\"text-align: right;\">\n",
       "      <th></th>\n",
       "      <th>TotalCoinsMined</th>\n",
       "      <th>MaxSupply</th>\n",
       "    </tr>\n",
       "    <tr>\n",
       "      <th>CoinName</th>\n",
       "      <th></th>\n",
       "      <th></th>\n",
       "    </tr>\n",
       "  </thead>\n",
       "  <tbody>\n",
       "    <tr>\n",
       "      <th>NovaCoin</th>\n",
       "      <td>3.377280e-06</td>\n",
       "      <td>0.000000e+00</td>\n",
       "    </tr>\n",
       "    <tr>\n",
       "      <th>NuShares</th>\n",
       "      <td>6.163293e-03</td>\n",
       "      <td>9.999833e-13</td>\n",
       "    </tr>\n",
       "    <tr>\n",
       "      <th>MonaCoin</th>\n",
       "      <td>8.290184e-05</td>\n",
       "      <td>0.000000e+00</td>\n",
       "    </tr>\n",
       "    <tr>\n",
       "      <th>Triangles Coin</th>\n",
       "      <td>1.830845e-07</td>\n",
       "      <td>9.999833e-13</td>\n",
       "    </tr>\n",
       "    <tr>\n",
       "      <th>SafeExchangeCoin</th>\n",
       "      <td>2.147446e-03</td>\n",
       "      <td>0.000000e+00</td>\n",
       "    </tr>\n",
       "    <tr>\n",
       "      <th>...</th>\n",
       "      <td>...</td>\n",
       "      <td>...</td>\n",
       "    </tr>\n",
       "    <tr>\n",
       "      <th>Aion</th>\n",
       "      <td>4.952047e-04</td>\n",
       "      <td>0.000000e+00</td>\n",
       "    </tr>\n",
       "    <tr>\n",
       "      <th>Achain</th>\n",
       "      <td>9.999813e-04</td>\n",
       "      <td>9.999833e-13</td>\n",
       "    </tr>\n",
       "    <tr>\n",
       "      <th>Ethereum Classic</th>\n",
       "      <td>1.280954e-04</td>\n",
       "      <td>2.106965e-04</td>\n",
       "    </tr>\n",
       "    <tr>\n",
       "      <th>Reddcoin</th>\n",
       "      <td>3.041039e-02</td>\n",
       "      <td>0.000000e+00</td>\n",
       "    </tr>\n",
       "    <tr>\n",
       "      <th>Grin</th>\n",
       "      <td>7.727598e-05</td>\n",
       "      <td>0.000000e+00</td>\n",
       "    </tr>\n",
       "  </tbody>\n",
       "</table>\n",
       "<p>123 rows × 2 columns</p>\n",
       "</div>"
      ]
     },
     "metadata": {},
     "execution_count": 170
    }
   ],
   "metadata": {}
  },
  {
   "cell_type": "code",
   "execution_count": 175,
   "source": [
    "# Plot the scatter with x=\"TotalCoinsMined\" and y=\"TotalCoinSupply\"\r\n",
    "scatter_crypto_df.hvplot.scatter(\r\n",
    "    x='TotalCoinsMined',\r\n",
    "    y='MaxSupply'\r\n",
    ")"
   ],
   "outputs": [
    {
     "output_type": "display_data",
     "data": {},
     "metadata": {}
    },
    {
     "output_type": "execute_result",
     "data": {
      "application/vnd.holoviews_exec.v0+json": "",
      "text/plain": [
       ":Scatter   [TotalCoinsMined]   (MaxSupply)"
      ],
      "text/html": [
       "<div id='1483'>\n",
       "\n",
       "\n",
       "\n",
       "\n",
       "\n",
       "  <div class=\"bk-root\" id=\"7b351fbe-3945-4bab-a22f-c6805f66bea4\" data-root-id=\"1483\"></div>\n",
       "</div>\n",
       "<script type=\"application/javascript\">(function(root) {\n",
       "  function embed_document(root) {\n",
       "  var docs_json = {\"e8251fec-adf6-4632-870b-1fcd6a56003c\":{\"roots\":{\"references\":[{\"attributes\":{\"callback\":null,\"renderers\":[{\"id\":\"1524\"}],\"tags\":[\"hv_created\"],\"tooltips\":[[\"TotalCoinsMined\",\"@{TotalCoinsMined}\"],[\"MaxSupply\",\"@{MaxSupply}\"]]},\"id\":\"1487\",\"type\":\"HoverTool\"},{\"attributes\":{},\"id\":\"1493\",\"type\":\"LinearScale\"},{\"attributes\":{\"bottom_units\":\"screen\",\"fill_alpha\":0.5,\"fill_color\":\"lightgrey\",\"left_units\":\"screen\",\"level\":\"overlay\",\"line_alpha\":1.0,\"line_color\":\"black\",\"line_dash\":[4,4],\"line_width\":2,\"render_mode\":\"css\",\"right_units\":\"screen\",\"top_units\":\"screen\"},\"id\":\"1510\",\"type\":\"BoxAnnotation\"},{\"attributes\":{\"data\":{\"MaxSupply\":{\"__ndarray__\":\"AAAAAAAAAABp8ls3hpdxPQAAAAAAAAAAafJbN4aXcT0AAAAAAAAAAGnyWzeGl3E9AAAAAAAAAAAAAAAAAAAAALT+PRpQhhs/AAAAAAAAAACoPBWR7oCVPwAAAAAAAAAAQOEaxfr79z6grfVFoZ96P2nyWzeGl3E9AAAAAAAAAAAdd+R4ceuxPwAAAAAAAAAAAAAAAAAAAADs+vyiFKkzPzDNI5ye+PQ+qDwVke6AlT8AAAAAAAAAAAAAAAAAAAAA7wPe7wwF9j5p8ls3hpdxPQEAAAAAAPA/7t7GPsY2+j4AAAAAAAAAAAAAAAAAAAAAAAAAAAAAAAAAAAAAAAAAADIlEyB+CxY/AAAAAAAAAAAAAAAAAAAAAOho5mkcTRE/EslV08p6hD9+SWIvxjYqP2nyWzeGl3E9AAAAAAAAAADtDQsYUIYrP+8D3u8MBfY+kFE9Of0kHD8AAAAAAAAAAJr3ilYetmA/7wPe7wwF9j6L9YPcO2JQPwAAAAAAAAAAAAAAAAAAAADAN7+MnvgkP4mV8RZQhjs/AAAAAAAAAAAAAAAAAAAAAAAAAAAAAAAAhsG1ChufGT/tDQsYUIYrPzvVuIb6ODE/G/Zf3wwFNj9GX6ziDAUWP4EqI6i485A/AAAAAAAAAAAAAAAAAAAAAAAAAAAAAAAA7wPe7wwF9j6L9YPcO2JQPwAAAAAAAAAAUs54QrQytj8AAAAAAAAAAHgr/JP1GE0/AAAAAAAAAAAAAAAAAAAAANWUXtPKenQ/7wPe7wwF9j4AAAAAAAAAAAAAAAAAAAAAAAAAAAAAAADowfDKt0McPwAAAAAAAAAAAAAAAAAAAACL9YPcO2JQPycNFWVnchQ/9j+E9P52IT8AAAAAAAAAAAAAAAAAAAAA1EAS5wwFBj9GX6ziDAUWPwAAAAAAAAAAfkliL8Y2Kj+vOphDexH3PgAAAAAAAAAARl+s4gwFFj/vA97vDAX2Pj97HhZQhls/tP49GlCGGz+i5o5EbHD2PkU6lTHGNho/AAAAAAAAAAAAAAAAAAAAAAAAAAAAAAAAAAAAAAAAAAAAAAAAAAAAAKg8FZHugJU/7wPe7wwF9j7DXT1zWNHzPgAAAAAAAAAA6s+4LSQKpz/tDQsYUIYrP3TVBqGcnMc/AAAAAAAAAABFOpUxxjYaP/RG2zrRfm0/5ft17wwF9j7vA97vDAX2Pu0NCxhQhis/5ft17wwF9j7l+3XvDAX2PgAAAAAAAAAAAAAAAAAAAAAAAAAAAAAAAGnyWzeGl3E9hb+R8sydKz8AAAAAAAAAAAAAAAAAAAAA\",\"dtype\":\"float64\",\"shape\":[123]},\"TotalCoinsMined\":{\"__ndarray__\":\"o7DCNadUzD48YO9Grj55P+Yg5spyuxU/FGRsirySiD5EnPghhZdhP32f0MwPOK0+zY4+/MglID8u+BmxOWJQP6Rb9tmYmBM/Rcey4hGQST9BwDCs+7GEPyYzFdwasCg/XpURC0AC0D6H84mOmsNoP21klkE7Nvo+LvgZsTliUD9OavAhM+ivP5ZR26gIQHg/gNYqQtrwVj/a39iAUcMeP+82uL7xlOY+tAXjc2WSgj8u+BmxOWJQPyvm83KjNho/Kg9Fc4dl9D7Qkifz0IPiPgAAAAAAAPA/C4PmFNXw9j6zbCiyqPHvPtcycPY21C0/1Y2OkafyMT+r/YQjrs3yPg8p4astGgQ/hvlEeIZjUj8u+BmxOWJQPyYH04UV5hA/0SFv5/GoEz+5ZaqIzGkoPxWPQKobMQA/Pr2MdSyEgT8llbNQ0dU8PwAAAAAAAAAAzRHEl4MtGj8s1AhT/yOhP/tteQTTOjs/9hmJ8oEE9j5k3dp0jQVJP5gYh2DUzQE/OKV1ArAkCT/LTSz9VEkiPy6rP/pltC0/JZ0DfSANXT9jilMlVEz4PmtHJpfZre8/q99OsQw2Bj+tQ5zs0oAcP5AuyAu0ORI/ZbzhDMJPMD94lrZ9niMQP25B1ZIR35A/MrM/VawfKD9p367HmxQzP5Mzo4ijvhI/Q9EhdL8o6D4+tP+CMMJOP6kpjjQRzBs/9IlucQUDtj/Uglv6ocUKP+BIu3qAQUQ/87a+Zh+tIT9sAwbpYl45P/IxiIITO2Y/hg3gtqBS9D4FYtHJG+moP4Gpq98IHe8+guthmVBPsT6EB6FAYy4bPyGtrzM4ixE/LvgZsTliUD9zEfzjB15QP2/G5bcquRI/PXFZle12IT8h37t1MInyPrHbGAnT2vI+tMuOwonHBD+UFAa83O8RP6dVFmIy+yI/bXY/2xH6ID9R6QgoYwD0PvSk05Khk00/p4D9pBOhBz8Yo8UJeQvoPgzJ8RkEtEE/DbysaaiFFD92mpJdJ6/pPnDVwJsNMQI/S4V7+l/BHj98jXryVOxQP/MaaPFHFy0/k8kjv6vCwD/4FPCz1M14P8a0fy9K9I0/BTLTjxjR6z4ydfWzXKDlPlDX0dtH3tc+EtDdBC2OoD/QC1mjJtpbP3zimSWHnMc/vvYrnyPD4D6+XrFoVOkPP9o/FB+2h2g/EtP1ndO98z6RLc0s1bvzPinLJcIxXCo/Ke0rQbC+8z6n4irwjrbzPjE/jZ2UCSY/0RoKJG7rJD+ICdYGFDpAPy74GbE5YlA/B7kUvirKID/eNZDC5iOfP7nZZjrnQRQ/\",\"dtype\":\"float64\",\"shape\":[123]}},\"selected\":{\"id\":\"1519\"},\"selection_policy\":{\"id\":\"1537\"}},\"id\":\"1518\",\"type\":\"ColumnDataSource\"},{\"attributes\":{\"axis_label\":\"TotalCoinsMined\",\"bounds\":\"auto\",\"formatter\":{\"id\":\"1527\"},\"major_label_orientation\":\"horizontal\",\"ticker\":{\"id\":\"1498\"}},\"id\":\"1497\",\"type\":\"LinearAxis\"},{\"attributes\":{},\"id\":\"1529\",\"type\":\"BasicTickFormatter\"},{\"attributes\":{\"axis\":{\"id\":\"1501\"},\"dimension\":1,\"grid_line_color\":null,\"ticker\":null},\"id\":\"1504\",\"type\":\"Grid\"},{\"attributes\":{\"margin\":[5,5,5,5],\"name\":\"HSpacer02611\",\"sizing_mode\":\"stretch_width\"},\"id\":\"1538\",\"type\":\"Spacer\"},{\"attributes\":{\"fill_alpha\":{\"value\":0.1},\"fill_color\":{\"value\":\"#1f77b3\"},\"line_alpha\":{\"value\":0.1},\"line_color\":{\"value\":\"#1f77b3\"},\"size\":{\"units\":\"screen\",\"value\":5.477225575051661},\"x\":{\"field\":\"TotalCoinsMined\"},\"y\":{\"field\":\"MaxSupply\"}},\"id\":\"1522\",\"type\":\"Scatter\"},{\"attributes\":{},\"id\":\"1495\",\"type\":\"LinearScale\"},{\"attributes\":{\"active_drag\":\"auto\",\"active_inspect\":\"auto\",\"active_multi\":null,\"active_scroll\":\"auto\",\"active_tap\":\"auto\",\"tools\":[{\"id\":\"1487\"},{\"id\":\"1505\"},{\"id\":\"1506\"},{\"id\":\"1507\"},{\"id\":\"1508\"},{\"id\":\"1509\"}]},\"id\":\"1511\",\"type\":\"Toolbar\"},{\"attributes\":{\"end\":1.1000000000000003,\"reset_end\":1.1000000000000003,\"reset_start\":-0.10000000000000003,\"start\":-0.10000000000000003,\"tags\":[[[\"MaxSupply\",\"MaxSupply\",null]]]},\"id\":\"1486\",\"type\":\"Range1d\"},{\"attributes\":{\"below\":[{\"id\":\"1497\"}],\"center\":[{\"id\":\"1500\"},{\"id\":\"1504\"}],\"left\":[{\"id\":\"1501\"}],\"margin\":null,\"min_border_bottom\":10,\"min_border_left\":10,\"min_border_right\":10,\"min_border_top\":10,\"plot_height\":300,\"plot_width\":700,\"renderers\":[{\"id\":\"1524\"}],\"sizing_mode\":\"fixed\",\"title\":{\"id\":\"1489\"},\"toolbar\":{\"id\":\"1511\"},\"x_range\":{\"id\":\"1485\"},\"x_scale\":{\"id\":\"1493\"},\"y_range\":{\"id\":\"1486\"},\"y_scale\":{\"id\":\"1495\"}},\"id\":\"1488\",\"subtype\":\"Figure\",\"type\":\"Plot\"},{\"attributes\":{},\"id\":\"1509\",\"type\":\"ResetTool\"},{\"attributes\":{},\"id\":\"1502\",\"type\":\"BasicTicker\"},{\"attributes\":{\"axis\":{\"id\":\"1497\"},\"grid_line_color\":null,\"ticker\":null},\"id\":\"1500\",\"type\":\"Grid\"},{\"attributes\":{\"source\":{\"id\":\"1518\"}},\"id\":\"1525\",\"type\":\"CDSView\"},{\"attributes\":{\"axis_label\":\"MaxSupply\",\"bounds\":\"auto\",\"formatter\":{\"id\":\"1529\"},\"major_label_orientation\":\"horizontal\",\"ticker\":{\"id\":\"1502\"}},\"id\":\"1501\",\"type\":\"LinearAxis\"},{\"attributes\":{\"data_source\":{\"id\":\"1518\"},\"glyph\":{\"id\":\"1521\"},\"hover_glyph\":null,\"muted_glyph\":{\"id\":\"1523\"},\"nonselection_glyph\":{\"id\":\"1522\"},\"selection_glyph\":null,\"view\":{\"id\":\"1525\"}},\"id\":\"1524\",\"type\":\"GlyphRenderer\"},{\"attributes\":{},\"id\":\"1519\",\"type\":\"Selection\"},{\"attributes\":{\"text\":\"\",\"text_color\":{\"value\":\"black\"},\"text_font_size\":{\"value\":\"12pt\"}},\"id\":\"1489\",\"type\":\"Title\"},{\"attributes\":{\"fill_alpha\":{\"value\":0.2},\"fill_color\":{\"value\":\"#1f77b3\"},\"line_alpha\":{\"value\":0.2},\"line_color\":{\"value\":\"#1f77b3\"},\"size\":{\"units\":\"screen\",\"value\":5.477225575051661},\"x\":{\"field\":\"TotalCoinsMined\"},\"y\":{\"field\":\"MaxSupply\"}},\"id\":\"1523\",\"type\":\"Scatter\"},{\"attributes\":{},\"id\":\"1537\",\"type\":\"UnionRenderers\"},{\"attributes\":{},\"id\":\"1527\",\"type\":\"BasicTickFormatter\"},{\"attributes\":{},\"id\":\"1498\",\"type\":\"BasicTicker\"},{\"attributes\":{\"fill_color\":{\"value\":\"#1f77b3\"},\"line_color\":{\"value\":\"#1f77b3\"},\"size\":{\"units\":\"screen\",\"value\":5.477225575051661},\"x\":{\"field\":\"TotalCoinsMined\"},\"y\":{\"field\":\"MaxSupply\"}},\"id\":\"1521\",\"type\":\"Scatter\"},{\"attributes\":{\"margin\":[5,5,5,5],\"name\":\"HSpacer02610\",\"sizing_mode\":\"stretch_width\"},\"id\":\"1484\",\"type\":\"Spacer\"},{\"attributes\":{\"children\":[{\"id\":\"1484\"},{\"id\":\"1488\"},{\"id\":\"1538\"}],\"margin\":[0,0,0,0],\"name\":\"Row02606\",\"tags\":[\"embedded\"]},\"id\":\"1483\",\"type\":\"Row\"},{\"attributes\":{\"overlay\":{\"id\":\"1510\"}},\"id\":\"1508\",\"type\":\"BoxZoomTool\"},{\"attributes\":{\"end\":1.042857142857143,\"reset_end\":1.042857142857143,\"reset_start\":-0.04285714285714286,\"start\":-0.04285714285714286,\"tags\":[[[\"TotalCoinsMined\",\"TotalCoinsMined\",null]]]},\"id\":\"1485\",\"type\":\"Range1d\"},{\"attributes\":{},\"id\":\"1506\",\"type\":\"PanTool\"},{\"attributes\":{},\"id\":\"1507\",\"type\":\"WheelZoomTool\"},{\"attributes\":{},\"id\":\"1505\",\"type\":\"SaveTool\"}],\"root_ids\":[\"1483\"]},\"title\":\"Bokeh Application\",\"version\":\"2.0.2\"}};\n",
       "  var render_items = [{\"docid\":\"e8251fec-adf6-4632-870b-1fcd6a56003c\",\"root_ids\":[\"1483\"],\"roots\":{\"1483\":\"7b351fbe-3945-4bab-a22f-c6805f66bea4\"}}];\n",
       "  root.Bokeh.embed.embed_items_notebook(docs_json, render_items);\n",
       "  }\n",
       "if (root.Bokeh !== undefined) {\n",
       "    embed_document(root);\n",
       "  } else {\n",
       "    var attempts = 0;\n",
       "    var timer = setInterval(function(root) {\n",
       "      if (root.Bokeh !== undefined) {\n",
       "        clearInterval(timer);\n",
       "        embed_document(root);\n",
       "      } else if (document.readyState == \"complete\") {\n",
       "        attempts++;\n",
       "        if (attempts > 100) {\n",
       "          clearInterval(timer);\n",
       "          console.log(\"Bokeh: ERROR: Unable to run BokehJS code because BokehJS library is missing\");\n",
       "        }\n",
       "      }\n",
       "    }, 10, root)\n",
       "  }\n",
       "})(window);</script>"
      ]
     },
     "metadata": {
      "application/vnd.holoviews_exec.v0+json": {
       "id": "1483"
      }
     },
     "execution_count": 175
    }
   ],
   "metadata": {}
  }
 ],
 "metadata": {
  "file_extension": ".py",
  "kernelspec": {
   "name": "python3",
   "display_name": "Python 3.7.11 64-bit ('machineLearning': conda)"
  },
  "language_info": {
   "codemirror_mode": {
    "name": "ipython",
    "version": 3
   },
   "file_extension": ".py",
   "mimetype": "text/x-python",
   "name": "python",
   "nbconvert_exporter": "python",
   "pygments_lexer": "ipython3",
   "version": "3.7.11"
  },
  "mimetype": "text/x-python",
  "name": "python",
  "npconvert_exporter": "python",
  "pygments_lexer": "ipython3",
  "version": 3,
  "interpreter": {
   "hash": "15d6f6cf85598009a90599770be6a6b7799a460854b6a0a49d07b2b60db6e76d"
  }
 },
 "nbformat": 4,
 "nbformat_minor": 4
}