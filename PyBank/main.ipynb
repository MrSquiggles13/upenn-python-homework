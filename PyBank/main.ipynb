#%%
import pandas as pd

df = pd.read_csv("budget-data.csv")

months = len(df)

net_total = df['Profit/Losses'].sum()

average_change = df['Profit/Losses'].mean()

greatest_increase = df[df['Profit/Losses'] == df['Profit/Losses'].max()].iloc[0]

greatest_decrease = df[df['Profit/Losses'] == df['Profit/Losses'].min()].iloc[0]

# %%

line = f"Financial Analysis\n---------------------------------------\nTotal Months: {months}\nTotal Revenue: ${net_total}\nAverage Change: ${round(average_change, 2)}\nGreatest Increase in Profits: {greatest_increase.Date} (${greatest_increase['Profit/Losses']})\nGreatest Decrease in Profits: {greatest_decrease.Date} (${greatest_decrease['Profit/Losses']})"

print(line)

with open('financial-analysis.txt', 'w') as file:
    file.write(line)
    file.close()