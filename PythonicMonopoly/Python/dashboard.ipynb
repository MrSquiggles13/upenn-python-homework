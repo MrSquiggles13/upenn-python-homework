{
 "cells": [
  {
   "cell_type": "markdown",
   "metadata": {},
   "source": [
    "# San Francisco Rental Prices Dashboard\n",
    "\n",
    "In this notebook, you will compile the visualizations from the previous analysis into functions that can be used for a Panel dashboard."
   ]
  },
  {
   "cell_type": "code",
   "execution_count": 114,
   "metadata": {},
   "outputs": [],
   "source": [
    "# imports\r\n",
    "import panel as pn\r\n",
    "pn.extension('plotly')\r\n",
    "import plotly.express as px\r\n",
    "import pandas as pd\r\n",
    "import hvplot.pandas\r\n",
    "import matplotlib.pyplot as plt\r\n",
    "import os\r\n",
    "from pathlib import Path\r\n",
    "from dotenv import load_dotenv"
   ]
  },
  {
   "cell_type": "code",
   "execution_count": 115,
   "metadata": {},
   "outputs": [],
   "source": [
    "# Read the Mapbox API key\n",
    "load_dotenv()\n",
    "map_box_api = os.getenv(\"mapbox\")\n",
    "px.set_mapbox_access_token(map_box_api)"
   ]
  },
  {
   "cell_type": "markdown",
   "metadata": {},
   "source": [
    "# Import Data"
   ]
  },
  {
   "cell_type": "code",
   "execution_count": 116,
   "metadata": {},
   "outputs": [],
   "source": [
    "# Import the necessary CSVs to Pandas DataFrames\r\n",
    "year_grouping = pd.read_csv(Path('../Data/year_grouping.csv'))\r\n",
    "year_grouping_house = pd.read_csv(Path('../Data/year_grouping_house.csv'))\r\n",
    "new_sfo_df = pd.read_csv(Path('../Data/new_sfo_df.csv'))\r\n",
    "top_10_neighborhood = pd.read_csv(Path('../Data/top_10_neighborhood.csv'))\r\n",
    "top_10_neighborhood_by_year = pd.read_csv(Path('../Data/top_10_neighborhood_by_year.csv'))\r\n",
    "neighborhood_geolocation = pd.read_csv(Path('../Data/neighborhood_geolocation.csv')).round(2)"
   ]
  },
  {
   "cell_type": "markdown",
   "metadata": {},
   "source": [
    "- - -"
   ]
  },
  {
   "cell_type": "markdown",
   "metadata": {},
   "source": [
    "## Panel Visualizations\n",
    "\n",
    "In this section, you will copy the code for each plot type from your analysis notebook and place it into separate functions that Panel can use to create panes for the dashboard. \n",
    "\n",
    "These functions will convert the plot object to a Panel pane.\n",
    "\n",
    "Be sure to include any DataFrame transformation/manipulation code required along with the plotting code.\n",
    "\n",
    "Return a Panel pane object from each function that can be used to build the dashboard.\n",
    "\n",
    "Note: Remove any `.show()` lines from the code. We want to return the plots instead of showing them. The Panel dashboard will then display the plots."
   ]
  },
  {
   "cell_type": "code",
   "execution_count": 130,
   "metadata": {},
   "outputs": [],
   "source": [
    "# Define Panel Visualization Functions\r\n",
    "def housing_units_per_year():\r\n",
    "    \"\"\"Housing Units Per Year.\"\"\"\r\n",
    "    return year_grouping_house.hvplot.bar(x='year', y='housing_units', ylim=[year_grouping_house.min() - year_grouping_house.std(), year_grouping_house.max() + year_grouping_house.std()], height=600, title='Housing Units Per Year', color='purple').opts(bgcolor='lightgray')\r\n",
    "\r\n",
    "def average_gross_rent():\r\n",
    "    \"\"\"Average Gross Rent in San Francisco Per Year.\"\"\"\r\n",
    "    return year_grouping['gross_rent'].hvplot.line(x='year', y='gross_rent', color='blue', title='Average Monthly Rent').opts(bgcolor='lightgray')\r\n",
    "\r\n",
    "def average_sales_price():\r\n",
    "    \"\"\"Average Sales Price Per Year.\"\"\"\r\n",
    "    return year_grouping['sale_price_sqr_foot'].hvplot.line(x='year', y='sale_price_sqr_foot', color=\"green\", title='Average Sale Price Per Square Foot').opts(bgcolor='lightgray')\r\n",
    "\r\n",
    "def average_price_by_neighborhood():\r\n",
    "    \"\"\"Average Prices by Neighborhood.\"\"\"\r\n",
    "    return new_sfo_df.hvplot.line(x='year', y='sale_price_sqr_foot', groupby='neighborhood', ylabel='Sale Price Per Square Foot', color='darkblue').opts(bgcolor='lightgray')\r\n",
    "\r\n",
    "def top_most_expensive_neighborhoods():\r\n",
    "    \"\"\"Top 10 Most Expensive Neighborhoods.\"\"\"\r\n",
    "    return top_10_neighborhood.hvplot.bar(y='gross_rent', rot=90, height=500, ylabel='Gross Rent', xlabel='Neighborhood', title='Top 10 Expensive Neighborhoods')\r\n",
    "\r\n",
    "def most_expensive_neighborhoods_rent_sales():\r\n",
    "    \"\"\"Comparison of Rent and Sales Prices of Most Expensive Neighborhoods.\"\"\"   \r\n",
    "    return top_10_neighborhood_by_year.hvplot.bar(x='year', y=['sale_price_sqr_foot', 'gross_rent'], groupby='neighborhood', rot=70, xlabel=\"Year\", height=600, title='Comparison of Rent and Sales Prices of Most Expensive Neighborhoods')\r\n",
    "    \r\n",
    "def parallel_coordinates():\r\n",
    "    \"\"\"Parallel Coordinates Plot.\"\"\"\r\n",
    "    return px.parallel_coordinates(\r\n",
    "        top_10_neighborhood,\r\n",
    "        dimensions=['neighborhood', 'sale_price_sqr_foot', 'housing_units', 'gross_rent'],\r\n",
    "        color_continuous_scale=px.colors.sequential.Inferno,\r\n",
    "        color='gross_rent'\r\n",
    "        )\r\n",
    "\r\n",
    "def parallel_categories():\r\n",
    "    \"\"\"Parallel Categories Plot.\"\"\"\r\n",
    "    return px.parallel_categories(\r\n",
    "        top_10_neighborhood,\r\n",
    "        dimensions=['neighborhood', 'sale_price_sqr_foot', 'housing_units', 'gross_rent'],\r\n",
    "        color_continuous_scale=px.colors.sequential.Inferno,\r\n",
    "        color='sale_price_sqr_foot'\r\n",
    "        )\r\n",
    "\r\n",
    "def neighborhood_map():\r\n",
    "    \"\"\"Neighborhood Map.\"\"\"\r\n",
    "    return px.scatter_mapbox(\r\n",
    "        neighborhood_geolocation,\r\n",
    "        lat=\"Lat\",\r\n",
    "        lon=\"Lon\",\r\n",
    "        size='sale_price_sqr_foot',\r\n",
    "        color=neighborhood_geolocation.index,\r\n",
    "        zoom=10\r\n",
    "        )\r\n",
    "\r\n",
    "def sunburst():\r\n",
    "    \"\"\"Sunburst Plot.\"\"\"\r\n",
    "    return px.sunburst(\r\n",
    "        top_10_neighborhood_by_year,\r\n",
    "        path=['year', 'neighborhood'],\r\n",
    "        values='gross_rent'\r\n",
    "        )"
   ]
  },
  {
   "cell_type": "markdown",
   "metadata": {},
   "source": [
    "## Panel Dashboard\n",
    "\n",
    "In this section, you will combine all of the plots into a single dashboard view using Panel. Be creative with your dashboard design!"
   ]
  },
  {
   "cell_type": "code",
   "execution_count": 131,
   "metadata": {},
   "outputs": [],
   "source": [
    "# Set Rows and Columns\r\n",
    "geospatial = pn.Column(\r\n",
    "    \"# Price Visualized Through Neighborhood and Yearly Grouping\",\r\n",
    "    pn.Row(neighborhood_map()) # sunburst() will not render due to bug explained in README\r\n",
    ")\r\n",
    "\r\n",
    "parallels = pn.Column(\r\n",
    "    \"# Correlations Between Averages and Neighborhoods\",\r\n",
    "    parallel_categories(),\r\n",
    "    parallel_coordinates()\r\n",
    ")\r\n",
    "\r\n",
    "by_neighborhood = pn.Column(\r\n",
    "    \"# Averages by Neighborhood\",\r\n",
    "    average_price_by_neighborhood()\r\n",
    ")\r\n",
    "\r\n",
    "averages = pn.Column(\r\n",
    "    \"# Graphical Visualization of Overall Averages\",\r\n",
    "    # housing_units_per_year(), unable to resolve Server Issue\r\n",
    "    average_gross_rent(),\r\n",
    "    average_sales_price()\r\n",
    ")\r\n",
    "\r\n",
    "most_expensive = pn.Column(\r\n",
    "    \"# Statistics of Top 10 Most Expensive Neighborhoods\",\r\n",
    "    top_most_expensive_neighborhoods(),\r\n",
    "    most_expensive_neighborhoods_rent_sales()\r\n",
    ")\r\n",
    "\r\n",
    "# Create the dashboard\r\n",
    "sanfran_rental_price_dashboard = pn.Tabs(\r\n",
    "    ('Geospatial', geospatial),\r\n",
    "    ('Parallels', parallels),\r\n",
    "    ('By Neighborhood', by_neighborhood),\r\n",
    "    ('Averages', averages),\r\n",
    "    (\"Most Expensive\", most_expensive)\r\n",
    ")"
   ]
  },
  {
   "cell_type": "markdown",
   "metadata": {},
   "source": [
    "## Serve the Panel Dashboard"
   ]
  },
  {
   "cell_type": "code",
   "execution_count": 132,
   "metadata": {},
   "outputs": [
    {
     "name": "stdout",
     "output_type": "stream",
     "text": [
      "Launching server at http://localhost:62750\n"
     ]
    },
    {
     "data": {
      "text/plain": [
       "<bokeh.server.server.Server at 0x1d54bc7c888>"
      ]
     },
     "execution_count": 132,
     "metadata": {},
     "output_type": "execute_result"
    }
   ],
   "source": [
    "# Serve the dashboard\r\n",
    "sanfran_rental_price_dashboard.show()"
   ]
  },
  {
   "cell_type": "markdown",
   "metadata": {},
   "source": [
    "# Debugging\n",
    "\n",
    "Note: Some of the Plotly express plots may not render in the notebook through the panel functions.\n",
    "\n",
    "However, you can test each plot by uncommenting the following code"
   ]
  },
  {
   "cell_type": "code",
   "execution_count": 120,
   "metadata": {},
   "outputs": [],
   "source": [
    "# housing_units_per_year()"
   ]
  },
  {
   "cell_type": "code",
   "execution_count": 121,
   "metadata": {},
   "outputs": [],
   "source": [
    "# average_gross_rent()"
   ]
  },
  {
   "cell_type": "code",
   "execution_count": 122,
   "metadata": {},
   "outputs": [],
   "source": [
    "# average_sales_price()"
   ]
  },
  {
   "cell_type": "code",
   "execution_count": 123,
   "metadata": {},
   "outputs": [],
   "source": [
    "# average_price_by_neighborhood()"
   ]
  },
  {
   "cell_type": "code",
   "execution_count": 124,
   "metadata": {},
   "outputs": [],
   "source": [
    "# top_most_expensive_neighborhoods()"
   ]
  },
  {
   "cell_type": "code",
   "execution_count": 125,
   "metadata": {},
   "outputs": [],
   "source": [
    "# most_expensive_neighborhoods_rent_sales()"
   ]
  },
  {
   "cell_type": "code",
   "execution_count": 126,
   "metadata": {},
   "outputs": [],
   "source": [
    "# neighborhood_map().show()"
   ]
  },
  {
   "cell_type": "code",
   "execution_count": 127,
   "metadata": {},
   "outputs": [],
   "source": [
    "# parallel_categories()"
   ]
  },
  {
   "cell_type": "code",
   "execution_count": 128,
   "metadata": {},
   "outputs": [],
   "source": [
    "# parallel_coordinates()"
   ]
  },
  {
   "cell_type": "code",
   "execution_count": 129,
   "metadata": {},
   "outputs": [],
   "source": [
    "# sunburst()"
   ]
  },
  {
   "cell_type": "code",
   "execution_count": null,
   "metadata": {},
   "outputs": [],
   "source": []
  }
 ],
 "metadata": {
  "file_extension": ".py",
  "interpreter": {
   "hash": "a665af21433c9fc85ca07e08b6630d0e34d6b05b02d2c97c77cbe8bd7b9bddb6"
  },
  "kernelspec": {
   "display_name": "Python 3.7.10 64-bit ('pyvizenv': conda)",
   "name": "python3"
  },
  "language_info": {
   "codemirror_mode": {
    "name": "ipython",
    "version": 3
   },
   "file_extension": ".py",
   "mimetype": "text/x-python",
   "name": "python",
   "nbconvert_exporter": "python",
   "pygments_lexer": "ipython3",
   "version": "3.7.10"
  },
  "mimetype": "text/x-python",
  "name": "python",
  "npconvert_exporter": "python",
  "pygments_lexer": "ipython3",
  "version": 3
 },
 "nbformat": 4,
 "nbformat_minor": 4
}